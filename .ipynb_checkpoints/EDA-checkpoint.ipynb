{
 "cells": [
  {
   "cell_type": "markdown",
   "metadata": {},
   "source": [
    "## EDA on geotagged tweets\n",
    "#### Build basics of extracting key words, sentiments about crowdedness. Label the tweets. Look at frequency of tweets over time. Pay attention to the time the tweet was posted but also when it was referring to. "
   ]
  },
  {
   "cell_type": "code",
   "execution_count": 1,
   "metadata": {},
   "outputs": [],
   "source": [
    "import pandas as pd\n",
    "import numpy as np\n",
    "import datetime as dt"
   ]
  },
  {
   "cell_type": "code",
   "execution_count": 2,
   "metadata": {},
   "outputs": [],
   "source": [
    "df = pd.read_pickle(\"park_tweets.pkl\")"
   ]
  },
  {
   "cell_type": "code",
   "execution_count": 3,
   "metadata": {},
   "outputs": [
    {
     "data": {
      "text/html": [
       "<div>\n",
       "<style scoped>\n",
       "    .dataframe tbody tr th:only-of-type {\n",
       "        vertical-align: middle;\n",
       "    }\n",
       "\n",
       "    .dataframe tbody tr th {\n",
       "        vertical-align: top;\n",
       "    }\n",
       "\n",
       "    .dataframe thead th {\n",
       "        text-align: right;\n",
       "    }\n",
       "</style>\n",
       "<table border=\"1\" class=\"dataframe\">\n",
       "  <thead>\n",
       "    <tr style=\"text-align: right;\">\n",
       "      <th></th>\n",
       "      <th>date</th>\n",
       "      <th>text</th>\n",
       "      <th>day_of_week</th>\n",
       "      <th>hour</th>\n",
       "    </tr>\n",
       "    <tr>\n",
       "      <th>date</th>\n",
       "      <th></th>\n",
       "      <th></th>\n",
       "      <th></th>\n",
       "      <th></th>\n",
       "    </tr>\n",
       "  </thead>\n",
       "  <tbody>\n",
       "    <tr>\n",
       "      <td>2019-12-31 22:00:04-05:00</td>\n",
       "      <td>2019-12-31 22:00:04-05:00</td>\n",
       "      <td>人还很少 #NYE2020 – at Prospect Park</td>\n",
       "      <td>Tuesday</td>\n",
       "      <td>22</td>\n",
       "    </tr>\n",
       "    <tr>\n",
       "      <td>2019-12-31 23:00:44-05:00</td>\n",
       "      <td>2019-12-31 23:00:44-05:00</td>\n",
       "      <td>Baby 出现了，家庭友好的新年庆祝 #NYE2020 #brooklyn #NYC – a...</td>\n",
       "      <td>Tuesday</td>\n",
       "      <td>23</td>\n",
       "    </tr>\n",
       "    <tr>\n",
       "      <td>2019-12-31 23:39:12-05:00</td>\n",
       "      <td>2019-12-31 23:39:12-05:00</td>\n",
       "      <td>Flirty Leo &amp; Aquarius – at Grand Army Plaza Gr...</td>\n",
       "      <td>Tuesday</td>\n",
       "      <td>23</td>\n",
       "    </tr>\n",
       "    <tr>\n",
       "      <td>2019-12-31 23:51:00-05:00</td>\n",
       "      <td>2019-12-31 23:51:00-05:00</td>\n",
       "      <td>\"New Year in Space\" Illo for the Washington Po...</td>\n",
       "      <td>Tuesday</td>\n",
       "      <td>23</td>\n",
       "    </tr>\n",
       "    <tr>\n",
       "      <td>2019-12-31 23:52:13-05:00</td>\n",
       "      <td>2019-12-31 23:52:13-05:00</td>\n",
       "      <td>\"New Year Countdown\" Illo for NEW YORK PRESS D...</td>\n",
       "      <td>Tuesday</td>\n",
       "      <td>23</td>\n",
       "    </tr>\n",
       "  </tbody>\n",
       "</table>\n",
       "</div>"
      ],
      "text/plain": [
       "                                               date  \\\n",
       "date                                                  \n",
       "2019-12-31 22:00:04-05:00 2019-12-31 22:00:04-05:00   \n",
       "2019-12-31 23:00:44-05:00 2019-12-31 23:00:44-05:00   \n",
       "2019-12-31 23:39:12-05:00 2019-12-31 23:39:12-05:00   \n",
       "2019-12-31 23:51:00-05:00 2019-12-31 23:51:00-05:00   \n",
       "2019-12-31 23:52:13-05:00 2019-12-31 23:52:13-05:00   \n",
       "\n",
       "                                                                        text  \\\n",
       "date                                                                           \n",
       "2019-12-31 22:00:04-05:00                   人还很少 #NYE2020 – at Prospect Park   \n",
       "2019-12-31 23:00:44-05:00  Baby 出现了，家庭友好的新年庆祝 #NYE2020 #brooklyn #NYC – a...   \n",
       "2019-12-31 23:39:12-05:00  Flirty Leo & Aquarius – at Grand Army Plaza Gr...   \n",
       "2019-12-31 23:51:00-05:00  \"New Year in Space\" Illo for the Washington Po...   \n",
       "2019-12-31 23:52:13-05:00  \"New Year Countdown\" Illo for NEW YORK PRESS D...   \n",
       "\n",
       "                          day_of_week  hour  \n",
       "date                                         \n",
       "2019-12-31 22:00:04-05:00     Tuesday    22  \n",
       "2019-12-31 23:00:44-05:00     Tuesday    23  \n",
       "2019-12-31 23:39:12-05:00     Tuesday    23  \n",
       "2019-12-31 23:51:00-05:00     Tuesday    23  \n",
       "2019-12-31 23:52:13-05:00     Tuesday    23  "
      ]
     },
     "execution_count": 3,
     "metadata": {},
     "output_type": "execute_result"
    }
   ],
   "source": [
    "df.head()"
   ]
  },
  {
   "cell_type": "code",
   "execution_count": 4,
   "metadata": {},
   "outputs": [],
   "source": [
    "daily_counts = df.text.resample('d').count()"
   ]
  },
  {
   "cell_type": "code",
   "execution_count": 5,
   "metadata": {},
   "outputs": [
    {
     "data": {
      "text/plain": [
       "date\n",
       "2019-12-31 00:00:00-05:00     5\n",
       "2020-01-01 00:00:00-05:00    16\n",
       "2020-01-02 00:00:00-05:00     6\n",
       "2020-01-03 00:00:00-05:00     5\n",
       "2020-01-04 00:00:00-05:00    12\n",
       "Freq: D, Name: text, dtype: int64"
      ]
     },
     "execution_count": 5,
     "metadata": {},
     "output_type": "execute_result"
    }
   ],
   "source": [
    "daily_counts.head()"
   ]
  },
  {
   "cell_type": "code",
   "execution_count": 6,
   "metadata": {},
   "outputs": [],
   "source": [
    "import pytz\n",
    "from pytz import timezone\n",
    "est = pytz.timezone('US/Eastern')\n",
    "today = dt.datetime.now(est)\n",
    "start= min(df.date)\n",
    "ticks = pd.date_range(start=start,end=today, freq = 'W')"
   ]
  },
  {
   "cell_type": "code",
   "execution_count": 7,
   "metadata": {},
   "outputs": [
    {
     "data": {
      "text/plain": [
       "Timestamp('2019-12-31 22:00:04-0500', tz='US/Eastern')"
      ]
     },
     "execution_count": 7,
     "metadata": {},
     "output_type": "execute_result"
    }
   ],
   "source": [
    "min(df.date)"
   ]
  },
  {
   "cell_type": "code",
   "execution_count": 8,
   "metadata": {
    "scrolled": true
   },
   "outputs": [
    {
     "name": "stderr",
     "output_type": "stream",
     "text": [
      "/home/eric/anaconda3/lib/python3.7/site-packages/pandas/plotting/_matplotlib/converter.py:103: FutureWarning: Using an implicitly registered datetime converter for a matplotlib plotting method. The converter was registered by pandas on import. Future versions of pandas will require you to explicitly register matplotlib converters.\n",
      "\n",
      "To register the converters:\n",
      "\t>>> from pandas.plotting import register_matplotlib_converters\n",
      "\t>>> register_matplotlib_converters()\n",
      "  warnings.warn(msg, FutureWarning)\n"
     ]
    },
    {
     "data": {
      "text/plain": [
       "<Figure size 3000x500 with 1 Axes>"
      ]
     },
     "metadata": {},
     "output_type": "display_data"
    }
   ],
   "source": [
    "import matplotlib.pyplot as plt\n",
    "plt.style.use(\"ggplot\")\n",
    "plt.figure(figsize=(30,5))\n",
    "plt.plot(daily_counts)\n",
    "plt.xticks(ticks=ticks,rotation=90)\n",
    "plt.title(\"Number of Tweets by Day\")\n",
    "plt.xlabel(\"date\")\n",
    "plt.ylabel(\"number of tweets\")\n",
    "plt.savefig(\"tweetcount.png\", dpi=300, bbox_inches='tight')\n",
    "plt.show()"
   ]
  },
  {
   "cell_type": "code",
   "execution_count": 9,
   "metadata": {},
   "outputs": [
    {
     "data": {
      "text/plain": [
       "Timestamp('2020-03-23 00:00:00-0400', tz='US/Eastern')"
      ]
     },
     "execution_count": 9,
     "metadata": {},
     "output_type": "execute_result"
    }
   ],
   "source": [
    "import pytz\n",
    "eastern = timezone('US/Eastern')\n",
    "crisis_startdate = eastern.localize(pd.to_datetime(\"2020-03-23 00:00:00\"))\n",
    "crisis_startdate"
   ]
  },
  {
   "cell_type": "code",
   "execution_count": 10,
   "metadata": {},
   "outputs": [
    {
     "data": {
      "text/plain": [
       "210"
      ]
     },
     "execution_count": 10,
     "metadata": {},
     "output_type": "execute_result"
    }
   ],
   "source": [
    "len(df[df.date >= crisis_startdate])"
   ]
  },
  {
   "cell_type": "code",
   "execution_count": 11,
   "metadata": {},
   "outputs": [],
   "source": [
    "df_corona = df[df.date >= crisis_startdate]"
   ]
  },
  {
   "cell_type": "code",
   "execution_count": 12,
   "metadata": {},
   "outputs": [],
   "source": [
    "df_corona.to_pickle(\"./df_corona.pkl\")"
   ]
  },
  {
   "cell_type": "code",
   "execution_count": 13,
   "metadata": {},
   "outputs": [
    {
     "name": "stdout",
     "output_type": "stream",
     "text": [
      "200 : 2020-04-06 19:41:18-04:00 :  – at Prospect Park\n",
      "201 : 2020-04-06 20:00:37-04:00 : Sarah and Anton. Prospect Park lakeside, March 27, 2020. #prospectparklakeside . The date on this photo definitely changes the context. I’ve taken walks to the park about 3 times since early March, all keeping… https://www.instagram.com/p/B-qKRgRD4gv/?igshid=iy718fkh82fx\n",
      "202 : 2020-04-06 20:17:49-04:00 : One day at a time . . #newyorktough #nyc #brooklyn @Prospect Park https://www.instagram.com/p/B-qMPwrl58S/?igshid=ycchox5e493p\n",
      "203 : 2020-04-06 21:57:38-04:00 : Teach truth, Whether it fills the room or empties it. #AlleyneMAGIC http://alleyneART.com @Prospect Park Zoo https://www.instagram.com/p/B-qXqlSnad5/?igshid=p02fazwwd89g\n",
      "204 : 2020-04-06 22:49:03-04:00 : The scene from our back door seems deceptively idyllic as spring is finally encouraging growth out there. You only have to go a couple of blocks to the local hospital to see the impact of the invisible enemy around us. There, you can see its impact, even from the outside.\n",
      "205 : 2020-04-07 13:40:27-04:00 : Just posted a photo @Prospect Park https://www.instagram.com/p/B-sDkKwD-g1/?igshid=19epyuzcy9s05\n",
      "206 : 2020-04-07 14:09:05-04:00 : Greetings from Brooklyn, miss you all! Stay safe and healthy @hasanminhaj @patriotact @Onsetshows – at Prospect Park\n",
      "207 : 2020-04-07 14:45:51-04:00 : tuesday jules – at Prospect Park\n",
      "208 : 2020-04-07 15:41:49-04:00 : @darakass hi dr. Kass. I too am a Brooklyn resident and have been following your tweets and was moved by NY Times’s email feature on you. Once this is behind us , my wife and I would really love to host you and your family for dinner at our home. I am a dentist and woke at\n",
      "209 : 2020-04-07 15:43:24-04:00 : Work * at NYU Langone. And have seen the devastation of this virus. It has profoundly impacted dentists as well. My wife and I both have been infected and now have returned nearly back to normal. I very much hope you’ll take up our offer and it would be our pleasure to meet/host.\n"
     ]
    }
   ],
   "source": [
    "for i in range(len(df_corona)-10,len(df_corona)):\n",
    "    print(i, ':', df_corona.iloc[i].date, ':', df_corona.iloc[i].text)"
   ]
  },
  {
   "cell_type": "code",
   "execution_count": 14,
   "metadata": {},
   "outputs": [],
   "source": [
    "import re\n",
    "distancing = []\n",
    "for i in range(0,len(df_corona)):\n",
    "    if re.match('.*(distancing)|(packed)|(crowd)|(busy)|(full)|(empty)|(quarantine).*',df_corona.iloc[i].text):\n",
    "        distancing.append(1)"
   ]
  },
  {
   "cell_type": "code",
   "execution_count": 15,
   "metadata": {},
   "outputs": [
    {
     "name": "stdout",
     "output_type": "stream",
     "text": [
      "So far, there have been 17 tweets related to the crowding level in Prospect Park.\n"
     ]
    }
   ],
   "source": [
    "print(\"So far, there have been\",len(distancing),\"tweets related to the crowding level in Prospect Park.\")"
   ]
  },
  {
   "cell_type": "code",
   "execution_count": 16,
   "metadata": {},
   "outputs": [
    {
     "data": {
      "image/png": "[encoded data removed]",
      "text/plain": [
       "<Figure size 432x288 with 1 Axes>"
      ]
     },
     "metadata": {
      "needs_background": "light"
     },
     "output_type": "display_data"
    }
   ],
   "source": [
    "yticks=pd.Series(range(0,20))\n",
    "xticks=pd.Series(range(0,24))\n",
    "\n",
    "plt.hist(df_corona.hour, bins=24, rwidth=0.9)\n",
    "plt.yticks(ticks=yticks)\n",
    "plt.xticks(ticks=xticks)\n",
    "plt.tight_layout()\n",
    "plt.title(\"Number of Tweets by Hour\")\n",
    "plt.xlabel(\"hour\")\n",
    "plt.ylabel(\"number of tweets\")\n",
    "plt.savefig(\"tweethist_hr.png\", dpi=300, bbox_inches='tight')\n",
    "plt.show()"
   ]
  },
  {
   "cell_type": "code",
   "execution_count": 17,
   "metadata": {},
   "outputs": [],
   "source": [
    "# Graph tweet counts by hour, separating out the different days as different lines. \n",
    "\n",
    "days = ['Sunday','Monday','Tuesday','Wednesday','Thursday','Friday','Saturday']\n",
    "counts = {}\n",
    "\n",
    "for day in days:\n",
    "    day_df = df_corona[df_corona.day_of_week == day]\n",
    "    day_count = np.zeros(24).astype('int')\n",
    "    \n",
    "    for i in range(0,24):\n",
    "        day_count[i] = len(day_df[day_df.hour == i])\n",
    "\n",
    "    counts[day] = day_count"
   ]
  },
  {
   "cell_type": "code",
   "execution_count": 18,
   "metadata": {},
   "outputs": [
    {
     "data": {
      "image/png": "[encoded data removed]",
      "text/plain": [
       "<Figure size 432x288 with 1 Axes>"
      ]
     },
     "metadata": {
      "needs_background": "light"
     },
     "output_type": "display_data"
    }
   ],
   "source": [
    "for day in days:\n",
    "    plt.plot(counts[day])\n",
    "    \n",
    "plt.legend(days, loc='upper center')\n",
    "\n",
    "# yticks=pd.Series(range(0,20))\n",
    "xticks=pd.Series(range(0,24))\n",
    "plt.xticks(ticks=xticks,rotation=45)\n",
    "plt.xlabel(\"hour\")\n",
    "plt.ylabel(\"number of tweets\")\n",
    "plt.title(\"Number of Tweets by Hour\")       \n",
    "plt.savefig(\"tweets_by_hr_day.png\", dpi=300, bbox_inches='tight')\n",
    "plt.show()"
   ]
  },
  {
   "cell_type": "code",
   "execution_count": 19,
   "metadata": {},
   "outputs": [],
   "source": [
    "## Double check that these hours are correct -- time zone\n",
    "## make a plot with hr on the x and # tweets on y, w line for each day of week"
   ]
  },
  {
   "cell_type": "code",
   "execution_count": 20,
   "metadata": {},
   "outputs": [
    {
     "data": {
      "image/png": "[encoded data removed]",
      "text/plain": [
       "<Figure size 432x288 with 1 Axes>"
      ]
     },
     "metadata": {
      "needs_background": "light"
     },
     "output_type": "display_data"
    }
   ],
   "source": [
    "df_corona['day_of_week'].value_counts().plot(kind='bar')\n",
    "plt.title(\"Number of Tweets by Day of the Week\")\n",
    "plt.xlabel(\"day\")\n",
    "plt.ylabel(\"number of tweets\")\n",
    "plt.savefig(\"tweethist_day.png\", dpi=300, bbox_inches='tight')\n",
    "plt.show()"
   ]
  }
 ],
 "metadata": {
  "kernelspec": {
   "display_name": "Python 3",
   "language": "python",
   "name": "python3"
  },
  "language_info": {
   "codemirror_mode": {
    "name": "ipython",
    "version": 3
   },
   "file_extension": ".py",
   "mimetype": "text/x-python",
   "name": "python",
   "nbconvert_exporter": "python",
   "pygments_lexer": "ipython3",
   "version": "3.7.4"
  }
 },
 "nbformat": 4,
 "nbformat_minor": 2
}
