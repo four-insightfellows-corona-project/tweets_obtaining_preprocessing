{
 "cells": [
  {
   "cell_type": "markdown",
   "metadata": {},
   "source": [
    "### Label the tweets as unsafe for visiting the park (0), safe (1), or NaN"
   ]
  },
  {
   "cell_type": "code",
   "execution_count": 1,
   "metadata": {},
   "outputs": [],
   "source": [
    "import pandas as pd\n",
    "import numpy as np\n",
    "import datetime as dt"
   ]
  },
  {
   "cell_type": "code",
   "execution_count": 2,
   "metadata": {},
   "outputs": [],
   "source": [
    "df = pd.read_pickle(\"df_corona.pkl\")"
   ]
  },
  {
   "cell_type": "code",
   "execution_count": 3,
   "metadata": {},
   "outputs": [
    {
     "data": {
      "text/plain": [
       "215"
      ]
     },
     "execution_count": 3,
     "metadata": {},
     "output_type": "execute_result"
    }
   ],
   "source": [
    "len(df)"
   ]
  },
  {
   "cell_type": "code",
   "execution_count": 4,
   "metadata": {},
   "outputs": [],
   "source": [
    "rows = {}"
   ]
  },
  {
   "cell_type": "code",
   "execution_count": 5,
   "metadata": {},
   "outputs": [
    {
     "name": "stdout",
     "output_type": "stream",
     "text": [
      "0  :  \"THE DUDE\" HUCKLEBERRY LETTERPRESS Mar 14, 2017 ART DIRECTION BY JUSTIN REYNOLDS #ILLO #ILLUSTRATION #ILLUSTRATOR #FILM #MOVIES #COEN #JEFFBRIDGES #LEBOWSKI #DUDE @Park Slope Historic District https://www.instagram.com/p/B-D96GAjMDY/?igshid=12mhs0kb1zs0s\n",
      "1  :  \"E PLURIBUS DOLEMITE\" TOWER RECORDS' PULSE MAGAZINE May 1, 1996 ART DIRECTION BY NED HAMMAD #ILLO #ILLUSTRATION #ILLUSTRATOR #COMEDY #BLAXPLOITATION #CLINTON #DOLE #DOLEMITE #RUDYRAYMOORE #PRESIDENT #WHITEHOUSE… https://www.instagram.com/p/B-D-RAJDNSH/?igshid=6jnjpsapzhoz\n",
      "2  :  \"EARBUD HORROR\" REVOLVER Jun 30, 2014 ART DIRECTION BY STEPHEN GOGGI #ILLO #ILLUSTRATION #ILLUSTRATOR #MUSIC #IPOD #MP3 @Park Slope Historic District https://www.instagram.com/p/B-D_OfZjIAq/?igshid=2cowb8a285te\n",
      "3  :  \"ECCE JACKO\" ROYAL FLUSH Apr 8, 2008 ART DIRECTION BY JOSH BERNSTEIN #ILLO #ILLUSTRATION #ILLUSTRATOR #KINGOFPOP #MICHAELJACKSON #JACKO #CHRIST #JESUS #CRUCIFIXION #BUBBLES #NEVERLAND @Park Slope Historic District https://www.instagram.com/p/B-D_6LTjsxF/?igshid=ashp2z9mw3jm\n",
      "4  :  \"ECCE RUDY\" NEW YORK PRESS Feb 18, 2001 ART DIRECTION BY MICHAEL GENTILE #ILLO #ILLUSTRATION #ILLUSTRATOR #CHRIST #JESUS #CRUCIFIXION #NEWYORK #NEWYORKCITY #MAYOR #AMERICASMAYOR #GIULIANI #REPUBLICAN @Park Slope… https://www.instagram.com/p/B-EAExzDSdD/?igshid=165ramza7lui4\n",
      "5  :  \"EGYPTIAN EXPULSION\" NEW YORK PRESS Dec 22, 2000 ART DIRECTION BY MICHAEL GENTILE #ILLO #ILLUSTRATION #ILLUSTRATOR #GARDEN #EDEN #ADAM #EVE #ANUBIS #EGYPT #EGYPTIAN @Park Slope Historic District https://www.instagram.com/p/B-EAOnajOdz/?igshid=1vix0qofqda0u\n",
      "6  :  \"FRANKENSTEIN AT CBGBS\" ELECTRIC FRANKENSTEIN Aug 18, 2005 ART DIRECTION BY SAL CANZONIERI #ILLO #ILLUSTRATION #ILLUSTRATOR #ELECTRICFRANKENSTEIN #FRANKENSTEIN #PUNK #ROCK #MUSIC #CBGB #HARDCORE @Park Slope… https://www.instagram.com/p/B-EAXg0jNXQ/?igshid=1l6bkvf88ubk7\n",
      "7  :  \"BRIDE OF FRANKENSTEIN POLE DANCER\" ELECTRIC FRANKENSTEIN Apr 21, 2002 ART DIRECTION BY SAL CANZONIERI #ILLO #ILLUSTRATION #ILLUSTRATOR #ELECTRICFRANKENSTEIN #FRANKENSTEIN #ELSALANCHESTER #BRIDE #STRIPPER #DANCER… https://www.instagram.com/p/B-EArtDDxM7/?igshid=1e9ebl1nvxw56\n",
      "8  :  \"ELEVATOR REPAIRMAN\" HABITAT Jul 28, 2003 ART DIRECTION BY MICHAEL GENTILE #ILLO #ILLUSTRATION #ILLUSTRATOR #REPAIRMAN #ELEVATOR #BUILDING #LANDLORD #TENANT #REALESTATE @Park Slope Historic District https://www.instagram.com/p/B-EA-YLjYwQ/?igshid=1rzoyyvnfhhii\n",
      "9  :  \"ELTON JOHN\" OUT MAGAZINE Feb 10, 2003 ART DIRECTION BY TOM O’QUINN #ILLO #ILLUSTRATION #ILLUSTRATOR #ELTON #ELTONJOHN #SIRELTONJOHN #70S #POP #ROCK #MUSIC #GLAM #LGBT #GAY @Park Slope Historic District https://www.instagram.com/p/B-EBNDIjKf_/?igshid=94kcj7pgm3uf\n"
     ]
    }
   ],
   "source": [
    "for i in range(0,10):\n",
    "    print(i, ' : ', df.iloc[i].text)"
   ]
  },
  {
   "cell_type": "code",
   "execution_count": 6,
   "metadata": {},
   "outputs": [],
   "source": [
    "rows[0] = [np.NaN,np.NaN,np.NaN,np.NaN,np.NaN,np.NaN,np.NaN,np.NaN,np.NaN,np.NaN]"
   ]
  },
  {
   "cell_type": "code",
   "execution_count": 7,
   "metadata": {},
   "outputs": [
    {
     "data": {
      "text/plain": [
       "10"
      ]
     },
     "execution_count": 7,
     "metadata": {},
     "output_type": "execute_result"
    }
   ],
   "source": [
    "len(rows[0])"
   ]
  },
  {
   "cell_type": "code",
   "execution_count": 8,
   "metadata": {
    "scrolled": false
   },
   "outputs": [
    {
     "name": "stdout",
     "output_type": "stream",
     "text": [
      "10  :  \"ELVIS COSTELLO\" TOWER RECORDS' PULSE MAGAZINE Aug 22, 1995 ART DIRECTION BY NED HAMMAD #ILLO #ILLUSTRATION #ILLUSTRATOR #ELVIS #COSTELLO #ROCK #POP #MUSIC #NEWWAVE #PUNK @Park Slope Historic District https://www.instagram.com/p/B-EBYWBjfzn/?igshid=tqv93xu14e0g\n",
      "11  :  \"Three Faces of Shat\" illo for ATLANTA Magazine, 9/23/12, art direction by Eric Capossela, (happy birthday William Shatner). #StarTrek @Park Slope Historic District https://www.instagram.com/p/B-Fa2-yDRMB/?igshid=1c6ixr8tqrmqh\n",
      "12  :  Omg @Instacart - y’all better not mess this up. I needed groceries yesterday, not next week. Fingers crossed y’all @Wegmans – at Prospect Park\n",
      "13  :  𝐐𝐔𝐄𝐒𝐓𝐈𝐎𝐍 | Are you moving for thirty minutes every day? Even if it’s as simple as going for a walk around your neighborhood to get some fresh air, I can’t recommend doing this enough for your physical and… https://www.instagram.com/p/B-FfC_0n1lq/?igshid=ylf7xrxe4746\n",
      "14  :  #newnormal Day 8 Oh dayum, did Governor #andrewcuomo just yell at me?? That’s Prospect Park, MY park! I live just a few doors down from that building and I’ve been in that park everyday… https://www.instagram.com/p/B-FlJUBJ1UkEH9fhp2vorMV6knvVNkO_oDm10Y0/?igshid=zkwcvphxmu9l\n",
      "15  :  #isolation #prospectpark #prospectparkalliance #nature #spring #brooklyn #newyorkcity #portrait #andrewbwhite #sonya7iii #jupiter37a135mm #adaptedlens #manualfocus #nycphotographer @nycprimeshot prospectpark @… https://www.instagram.com/p/B-F6-a_JvCe/?igshid=1f3a8h2a3oq9j\n",
      "16  :  #isolation #prospectpark #fishing #prospectparkalliance #nature #spring #brooklyn #newyorkcity #portrait #andrewbwhite #sonya7iii #jupiter37a135mm #adaptedlens #manualfocus #nycphotographer @nycprimeshot… https://www.instagram.com/p/B-F7Gr7pUmx/?igshid=11x5o1duppyv1\n",
      "17  :  #isolation #prospectpark #prospectparkalliance #nature #spring #brooklyn #newyorkcity #portrait #andrewbwhite #sonya7iii #pentax50mmf12 #adaptedlens #manualfocus #nycphotographer @nycprimeshot prospectpark @… https://www.instagram.com/p/B-F7T5sJnxY/?igshid=1xsxbnzclhyqp\n",
      "18  :  \"ENEMY/BRAKE OUT POSTER\" Aug 2, 1990 #ILLO #ILLUSTRATION #ILLUSTRATOR #ROCK #MUSIC #CBGB #POSTER #FLYER #GIGPOSTER @Park Slope Historic District https://www.instagram.com/p/B-GfNRJjWpT/?igshid=ouf7g27e422q\n",
      "19  :  \"EQUITY TAROT\" FORTUNE Jan 22, 2007 ART DIRECTION BY ANN DECKER #ILLO #ILLUSTRATION #ILLUSTRATOR #FORTUNE #TAROT #MONEY #FINANCE #MARKET #FUTURE #ECONOMY #BANK @Park Slope Historic District https://www.instagram.com/p/B-GfavwjNag/?igshid=106d5147rwdp0\n"
     ]
    }
   ],
   "source": [
    "for i in range(10,20):\n",
    "    print(i, ' : ', df.iloc[i].text)"
   ]
  },
  {
   "cell_type": "code",
   "execution_count": 9,
   "metadata": {},
   "outputs": [],
   "source": [
    "rows[1] = [np.NaN,np.NaN,np.NaN,0,np.NaN,np.NaN,np.NaN,np.NaN,np.NaN,np.NaN]"
   ]
  },
  {
   "cell_type": "code",
   "execution_count": 10,
   "metadata": {},
   "outputs": [
    {
     "data": {
      "text/plain": [
       "10"
      ]
     },
     "execution_count": 10,
     "metadata": {},
     "output_type": "execute_result"
    }
   ],
   "source": [
    "len(rows[1])"
   ]
  },
  {
   "cell_type": "code",
   "execution_count": 11,
   "metadata": {
    "scrolled": false
   },
   "outputs": [
    {
     "name": "stdout",
     "output_type": "stream",
     "text": [
      "20  :  \"ESCAPE ARTIST\" NETWORK COMPUTING Oct 3, 2001 ART DIRECTION BY DAVID YAMADA #ILLO #ILLUSTRATION #ILLUSTRATOR #MAGIC #ESCAPE #ARTIST #COMPUTER #HARDWARE #MAGICIAN @Park Slope Historic District https://www.instagram.com/p/B-GfozNDjxh/?igshid=1x4h9rsaul4bs\n",
      "21  :  \"ESTHER DYSON\" ARTBYTE Dec 1, 2000 ART DIRECTION BY MARK DERY #ILLO #ILLUSTRATION #ILLUSTRATOR #TECH #SILICONVALLEY #DYSON #ESTHERDYSON #INTERNET #DEITY #LOTUS @Park Slope Historic District https://www.instagram.com/p/B-Gf9PwjdUa/?igshid=1phqo2b40q7it\n",
      "22  :  \"E.T. BICYCLE CRASH\" THE WALL STREET JOURNAL Apr 2, 2002 ART DIRECTION BY ERIN FAHRINGER #ILLO #ILLUSTRATION #ILLUSTRATOR #CINEMA #FILM #MOVIE #SPIELBERG #EXTRATERRESTRIAL @Park Slope Historic District https://www.instagram.com/p/B-GgNXaDvDE/?igshid=ecg9ur0actxa\n",
      "23  :  \"ETHNIC CHOW\" NEW YORK MAGAZINE Apr 7, 1998 ART DIRECTION BY AMY HELIN #ILLO #ILLUSTRATION #ILLUSTRATOR #FOOD #CUISINE #ETHNIC @Park Slope Historic District https://www.instagram.com/p/B-GgWOVD3LR/?igshid=tkulf18dot0g\n",
      "24  :  \"EVICTION\" PORTLAND MERCURY Oct 11, 2006 ART DIRECTION BY EZRA ACE CARAEFF #ILLO #ILLUSTRATION #ILLUSTRATOR #TENANT #LANDLORD #EVICTION #RENT #HOMELESS #MOTHER #CHILD #PARENT @Park Slope Historic District https://www.instagram.com/p/B-Ggq-5DiYS/?igshid=kbx6ytctat9t\n",
      "25  :  \"EYE IN THE SKY\" SAN FRANCISCO BAY GUARDIAN Jan 14, 2013 ART DIRECTION BY BROOKE ROBERTSON #ILLO #ILLUSTRATION #ILLUSTRATOR #SURVEILLANCE #CAMERA #PRIVACY #PUBLIC #PRIVATE #EYE #SPY @Park Slope Historic District https://www.instagram.com/p/B-Gg4WMjLeE/?igshid=1665ypm8chrtm\n",
      "26  :  \"ECCE BOZO\" FALSE VIRGINS POSTER Jul 13, 1990 ART DIRECTION BY DAVID AARON CLARK #ILLO #ILLUSTRATION #ILLUSTRATOR #ROCK #MUSIC #CBGB #POSTER #FLYER #GIGPOSTER #JESUS #CHRIST #CRUCIFIXION #CLOWN @Park… https://www.instagram.com/p/B-GhHxDDRfz/?igshid=y28tlevip2j2\n",
      "27  :  \"FLOATING BABY\" FALSE VIRGINS POSTER Jun 1, 1992 ART DIRECTION BY DAVID AARON CLARK #ILLO #ILLUSTRATION #ILLUSTRATOR #ROCK #MUSIC #CBGB #POSTER #FLYER #GIGPOSTER @Park Slope Historic District https://www.instagram.com/p/B-GhQbNj4Oo/?igshid=14yt3ye0zta1s\n",
      "28  :  \"MADONNA AND CHILD\" FALSE VIRGINS POSTER Aug 2, 1990 ART DIRECTION BY DAVID AARON CLARK #ILLO #ILLUSTRATION #ILLUSTRATOR #ROCK #MUSIC #CBGB #POSTER #FLYER #GIGPOSTER @Park Slope Historic District https://www.instagram.com/p/B-GhaoOjjn7/?igshid=p6zghyvghao\n",
      "29  :  \"WOTAN\" FALSE VIRGINS POSTER Nov 24, 1990 ART DIRECTION BY DAVID AARON CLARK #ILLO #ILLUSTRATION #ILLUSTRATOR #ROCK #MUSIC #CBGB #POSTER #FLYER #GIGPOSTER @Park Slope Historic District https://www.instagram.com/p/B-GhmE9j3EN/?igshid=ny088tpv3ky7\n"
     ]
    }
   ],
   "source": [
    "for i in range(20,30):\n",
    "    print(i, ' : ', df.iloc[i].text)"
   ]
  },
  {
   "cell_type": "code",
   "execution_count": 12,
   "metadata": {},
   "outputs": [],
   "source": [
    "rows[2] = [np.NaN,np.NaN,np.NaN,np.NaN,np.NaN,np.NaN,np.NaN,np.NaN,np.NaN,np.NaN]"
   ]
  },
  {
   "cell_type": "code",
   "execution_count": 13,
   "metadata": {},
   "outputs": [
    {
     "data": {
      "text/plain": [
       "10"
      ]
     },
     "execution_count": 13,
     "metadata": {},
     "output_type": "execute_result"
    }
   ],
   "source": [
    "len(rows[2])"
   ]
  },
  {
   "cell_type": "code",
   "execution_count": 14,
   "metadata": {
    "scrolled": false
   },
   "outputs": [
    {
     "name": "stdout",
     "output_type": "stream",
     "text": [
      "30  :   50 Copies of A GOOD MARRIAGE are up for grabs on Goodsreads right now! (closes March 27th; link in bio) And entering is an EXCELLENT quarantine distraction! So glad to hear you were a winner last time… https://www.instagram.com/p/B-HeZAuACQj/?igshid=lp1p30klaof\n",
      "31  :  I see you #Letsgrowtogether – at Prospect Park - Parkside\n",
      "32  :  e v e r y t h i n g. w a s. b l u e. @Prospect Park - East Drive https://www.instagram.com/p/B-H_Vwwlc62/?igshid=1o8ztbdxidtow\n",
      "33  :  lunch break with – at Prospect Park\n",
      "34  :  Tough to cash out when it was so far down from 900+. I did similar. Stings but so much uncertainty right now. Appreciate your honesty.\n",
      "35  :  #geese #canadageese #prospectpark #prospectparkalliance #nature #spring #brooklyn #newyorkcity #portrait #andrewbwhite #sonya7iii #pentax50mmf12 #adaptedlens #manualfocus #nycphotographer @nycprimeshot prospect @… https://www.instagram.com/p/B-IhUd_pZze/?igshid=1oo34wevx0xph\n",
      "36  :  #ducks #prospectpark #prospectparkalliance #nature #spring #brooklyn #newyorkcity #portrait #andrewbwhite #sonya7iii #pentax50mmf12 #adaptedlens #manualfocus #nycphotographer @nycprimeshot prospect @Prospect Park https://www.instagram.com/p/B-Iht-vJPT6/?igshid=iaxyabhoxaho\n",
      "37  :  Is spring coming soon?. . #chihuahualove #prospectpark @Prospect Park https://www.instagram.com/p/B-Iikekg79v/?igshid=7yp45d0mrirx\n",
      "38  :  Can someone ID this #duck #prospectpark #prospectparkalliance #nature #spring #brooklyn #newyorkcity #portrait #andrewbwhite #sonya7iii #pentax50mmf12 #adaptedlens #manualfocus #nycphotographer @nycprimeshot… https://www.instagram.com/p/B-Ii_q8piFq/?igshid=1x4dljvznmzaz\n",
      "39  :  Pork katsu on deck and I’m beginning to question how bad quarantine actually is. #cookingwithjohn #alonetogether #fuckthatsdelicious johnnymac15 @Park Slope Historic District https://www.instagram.com/p/B-I45RZD-Bw/?igshid=1gbedx7trbhpk\n"
     ]
    }
   ],
   "source": [
    "for i in range(30,40):\n",
    "    print(i, ' : ', df.iloc[i].text)"
   ]
  },
  {
   "cell_type": "code",
   "execution_count": 15,
   "metadata": {},
   "outputs": [],
   "source": [
    "rows[3] = [np.NaN,np.NaN,np.NaN,np.NaN,np.NaN,np.NaN,np.NaN,np.NaN,np.NaN,np.NaN]"
   ]
  },
  {
   "cell_type": "code",
   "execution_count": 16,
   "metadata": {},
   "outputs": [
    {
     "data": {
      "text/plain": [
       "10"
      ]
     },
     "execution_count": 16,
     "metadata": {},
     "output_type": "execute_result"
    }
   ],
   "source": [
    "len(rows[3])"
   ]
  },
  {
   "cell_type": "code",
   "execution_count": 17,
   "metadata": {
    "scrolled": true
   },
   "outputs": [
    {
     "name": "stdout",
     "output_type": "stream",
     "text": [
      "40  :  Did you #goskate on #sunday #sundayfunday #skate #skating #inlineskating #rollerblading #nycskate #icapture_michael_grebinsky #takinoskates #bonesbearings #mpc #mpcwheels #canariam #empireskate… https://www.instagram.com/p/B-JBDWRpkNS/?igshid=1gz1t2ij36mvn\n",
      "41  :   @Prospect Park https://www.instagram.com/p/B-KXPMQg4nOIxwloXKJaQK_BlBCiZ6YjmuKs9M0/?igshid=koslo235aemf\n",
      "42  :  the fact that people are still in prospect park is crazy – at Prospect Park\n",
      "43  :  A fitting James Baldwin quote in Prospect Park this morning – at Prospect Park\n",
      "44  :  Social distancing day! Great day to get fresh air and not have to worry about being too close! @Prospect Park https://www.instagram.com/p/B-KyqTfDZUu/?igshid=qf684wmq4mlu\n",
      "45  :  With NY on lockdown minus some yard time to exercise all of Brooklyn is my park. – at Prospect Park\n",
      "46  :  #SocialDistancing in Brooklyn\n",
      "47  :  Don’t you think my shadow is even cuter?. . #chihuahua #prospectpark @Prospect Park https://www.instagram.com/p/B-LjEiUAHzC/?igshid=16oeezanxooid\n",
      "48  :  Did you #goskate on #tuesday #tuesdayfunday #skate #skating #inlineskating #rollerblading #speedskating #skatingspeedinline #nycskate #icapture_michael_grebinsky #empireskate #wednesdaynightskatenyc… https://www.instagram.com/p/B-L97zNp_nv/?igshid=1bdsord0e5tk4\n",
      "49  :  Just posted a photo @Prospect Park https://www.instagram.com/p/B-MkUi_jSzr/?igshid=hhjpwywag1oe\n"
     ]
    }
   ],
   "source": [
    "for i in range(40,50):\n",
    "    print(i, ' : ', df.iloc[i].text)"
   ]
  },
  {
   "cell_type": "code",
   "execution_count": 18,
   "metadata": {},
   "outputs": [],
   "source": [
    "rows[4] = [np.NaN,np.NaN,0,np.NaN,1,1,np.NaN,np.NaN,np.NaN,np.NaN]"
   ]
  },
  {
   "cell_type": "code",
   "execution_count": 19,
   "metadata": {},
   "outputs": [
    {
     "data": {
      "text/plain": [
       "10"
      ]
     },
     "execution_count": 19,
     "metadata": {},
     "output_type": "execute_result"
    }
   ],
   "source": [
    "len(rows[4])"
   ]
  },
  {
   "cell_type": "code",
   "execution_count": 20,
   "metadata": {
    "scrolled": false
   },
   "outputs": [
    {
     "name": "stdout",
     "output_type": "stream",
     "text": [
      "50  :  SMC Pentax 50mm f1.2 shot directly into sunlight (with correct hood). Super sharp and very little flaring. #prospectpark #prospectparkalliance #nature #spring #brooklyn #newyorkcity #portrait #andrewbwhite #sonya7iii… https://www.instagram.com/p/B-M6xPDpGgE/?igshid=yfchnu96l9rk\n",
      "51  :  @thomyorke sorry to bother, but TicketMaster is saying that your concert in NYC this Tuesday is taking place which is crazy and irresponsible. Is there anything you can do? I don’t know who else to contact.\n",
      "52  :  NB: these photos were taken the other week This is another great lens - the Soviet made Jupiter 37A 135mm f3.5 M42 mount. My version is from 1979 and cost $10 at a yard sale. Based on the Carl Zeiss Sonnar 135mm… https://www.instagram.com/p/B-M8NfSJqV8/?igshid=in280d8u70qf\n",
      "53  :  @Ticketmaster get your shit together and cancel all the NYC events. This is not a normal situation. In your website the @thomyorke concert is still happening when the official website says that it’s postponed. Your representatives aren’t giving me the right answer.\n",
      "54  :  In these dark days of social distancing and despair its important to get outside, look up at the sky, feel the sun on your face, feel your breath rhythmical align with that of humanity, and understand that this too… https://www.instagram.com/p/B-NMWTCJJOq/?igshid=s2t2cywg2udr\n",
      "55  :  Kudos to our men and women of the @NYPDnews for keeping us safe during #COVID19 – at Prospect Park\n",
      "56  :  Is barbershop quartet practice in Brooklyn immune from the social distancing order? – at Prospect Park\n",
      "57  :  the shake at the very end kills me // @Mac10colorado – at Prospect Park\n",
      "58  :  What a day – at Prospect Park\n",
      "59  :  Sunshine break with a couple of bike loops and a little sit by the lake. Glad to find some breathing space here today. @Prospect Park https://www.instagram.com/p/B-NmAjmgUPu/?igshid=17uagfh4mu3h5\n"
     ]
    }
   ],
   "source": [
    "for i in range(50,60):\n",
    "    print(i, ' : ', df.iloc[i].text)"
   ]
  },
  {
   "cell_type": "code",
   "execution_count": 21,
   "metadata": {},
   "outputs": [],
   "source": [
    "rows[5] = [np.NaN,np.NaN,np.NaN,np.NaN,np.NaN,np.NaN,0,np.NaN,np.NaN,1]"
   ]
  },
  {
   "cell_type": "code",
   "execution_count": 22,
   "metadata": {
    "scrolled": true
   },
   "outputs": [
    {
     "data": {
      "text/plain": [
       "10"
      ]
     },
     "execution_count": 22,
     "metadata": {},
     "output_type": "execute_result"
    }
   ],
   "source": [
    "len(rows[5])"
   ]
  },
  {
   "cell_type": "code",
   "execution_count": 23,
   "metadata": {
    "scrolled": false
   },
   "outputs": [
    {
     "name": "stdout",
     "output_type": "stream",
     "text": [
      "60  :  Lake birds. A nice change from my fire escape doves! @Prospect Park https://www.instagram.com/p/B-NmY99AE0y/?igshid=13swyb08t80sf\n",
      "61  :  Uphill, with cherry blossoms @Prospect Park https://www.instagram.com/p/B-Nmhi5gy-6/?igshid=1vnh9hv516j2b\n",
      "62  :  Spring is still beautiful even during a nasty virus, though quickly viewed through a short walk through #prospectpark today. (We haven’t been out of the house for days). Such a strange experience with social… https://www.instagram.com/p/B-NzB1pnb5G/?igshid=14fjfz0a8jtom\n",
      "63  :  Coloring Cali Condor couple. DM me for #commission #sponsorship #donate #6 #Lovers #SWEPT #art #birdwar #tarot #surreal #noahxarts #bird (@Brooklyn Badass Boot Camp in Brooklyn, NY) https://www.swarmapp.com/c/egMwRyRvZjE\n",
      "64  :  Sanity walk... I love long shadows... #sanitywalk #quarantine #brooklyn #springtime #chirpingbirds @Prospect Park https://www.instagram.com/p/B-N-pQLnU62/?igshid=4rtz4rkab7yc\n",
      "65  :  Random sketch: Palmer Eldritch #ILLO #ILLUSTRATION #ILLUSTRATOR #COMICS @Park Slope Historic District https://www.instagram.com/p/B-OTAIzjzob/?igshid=19ph5h409ga2z\n",
      "66  :  Random sketch: Octobriana #ILLO #ILLUSTRATION #ILLUSTRATOR #COMICS @Park Slope Historic District https://www.instagram.com/p/B-OTEiMjaXf/?igshid=1j7f0yb7xy3n2\n",
      "67  :  Random sketch: Doctor Doom #ILLO #ILLUSTRATION #ILLUSTRATOR #COMICS @Park Slope Historic District https://www.instagram.com/p/B-OTMLSjoWH/?igshid=dr03u1h77tls\n",
      "68  :  To the doctors, nurses, nurse practitioners, orderlies, physician assistants, lab technicians, hospital cleaning staff and all other medical professionals saving the world: THANK YOU for risking everything for all… https://www.instagram.com/p/B-PmiFCAmQ9/?igshid=1dcxlmw2s3klg\n",
      "69  :  Reading about the neurodivergent brain and how to get better at work. I don’t have Asperger’s (that I know of lol) but I since ADHD is debated as being on the spectrum I figure something will be useful for my hyper focused – at Prospect Park (Nethermead)\n"
     ]
    }
   ],
   "source": [
    "for i in range(60,70):\n",
    "    print(i, ' : ', df.iloc[i].text)"
   ]
  },
  {
   "cell_type": "code",
   "execution_count": 24,
   "metadata": {},
   "outputs": [],
   "source": [
    "rows[6] = [np.NaN,np.NaN,1,np.NaN,np.NaN,np.NaN,np.NaN,np.NaN,np.NaN,np.NaN]"
   ]
  },
  {
   "cell_type": "code",
   "execution_count": 25,
   "metadata": {
    "scrolled": true
   },
   "outputs": [
    {
     "data": {
      "text/plain": [
       "10"
      ]
     },
     "execution_count": 25,
     "metadata": {},
     "output_type": "execute_result"
    }
   ],
   "source": [
    "len(rows[6])"
   ]
  },
  {
   "cell_type": "code",
   "execution_count": 26,
   "metadata": {
    "scrolled": false
   },
   "outputs": [
    {
     "name": "stdout",
     "output_type": "stream",
     "text": [
      "70  :  Social Distancing Prospect Park Trail and Meadows run @Prospect Park https://www.instagram.com/p/B-PyNMjpwCl/?igshid=17o81gykt9ns6\n",
      "71  :  Drops of pink @Park Slope Historic District https://www.instagram.com/p/B-PzyPzgZsG/?igshid=kzdx092oo3es\n",
      "72  :  SOUND ON – at Prospect Park\n",
      "73  :  Spring shall wait for no man (or virus!), gorgeous cascades of blossoms for the spirit. – at Prospect Park\n",
      "74  :   @Prospect Park https://www.instagram.com/p/B-QTeQfj5Rn/?igshid=11qg64ys5l0dx\n",
      "75  :  SOUND ON. Park Slope cheering during the shift change at Methodist Hospital #covid19 #healthcareheros @Park Slope Historic District https://www.instagram.com/p/B-QTpMlnG06/?igshid=1ggoulp4bu9h7\n",
      "76  :  Amazing warm 17 degree Spring day... air so clean and warm. What a treat after 4 days inside during the daytime, only doing night walks, nice as they were. – at Long Meadow\n",
      "77  :  #newnormal day 12 Came up with a new word on my bike ride tonight: disassion (dis-ˈSA-shən) The compassion between strangers that arises in times of disaster. People are just nicer to… https://www.instagram.com/p/B-QbOQ8joZg89bz7HcHTDibLHb4bjkwAt0F29E0/?igshid=18kh1ebspnh57\n",
      "78  :  Surreal living through the epicenter of a pandemic in the 21st century and watching everyone stop to take a picture of this for their own social media as well – at Prospect Park 9th St Entrance, Lafayette Monument\n",
      "79  :  My adventures to New York. Brooklyn. Prospect park October 31st-November 4th 2019 – at Prospect Park\n"
     ]
    }
   ],
   "source": [
    "for i in range(70,80):\n",
    "    print(i, ' : ', df.iloc[i].text)"
   ]
  },
  {
   "cell_type": "code",
   "execution_count": 27,
   "metadata": {},
   "outputs": [],
   "source": [
    "rows[7] = [np.NaN,np.NaN,np.NaN,np.NaN,np.NaN,np.NaN,np.NaN,np.NaN,np.NaN,np.NaN]"
   ]
  },
  {
   "cell_type": "code",
   "execution_count": 28,
   "metadata": {
    "scrolled": true
   },
   "outputs": [
    {
     "data": {
      "text/plain": [
       "10"
      ]
     },
     "execution_count": 28,
     "metadata": {},
     "output_type": "execute_result"
    }
   ],
   "source": [
    "len(rows[7])"
   ]
  },
  {
   "cell_type": "code",
   "execution_count": 29,
   "metadata": {
    "scrolled": false
   },
   "outputs": [
    {
     "name": "stdout",
     "output_type": "stream",
     "text": [
      "80  :  Some empty #streets in #parkslope #brooklyn @Park Slope Historic District https://www.instagram.com/p/B-R3NFbDsRy/?igshid=1wanrn35h027o\n",
      "81  :  #newnormal day 13 Pretty much sums up my plans for the day. How ‘bout you? @Park Slope Historic District https://www.instagram.com/p/B-R3xjcDyqqi9o954v7z08ymMmQXAIrR1ET60Y0/?igshid=1jfi7adi03oz8\n",
      "82  :  Many have reached out to check on us during this time. New York has been severely impacted by the situation, and we’ve lost so many. I know dark times are now and ahead, but it’s given me hope to see communities… https://www.instagram.com/p/B-Sz_A6lDRQ/?igshid=103bafsibz2wg\n",
      "83  :  Throwbacks @Park Slope Historic District https://www.instagram.com/p/B-TF6NCA_Rw/?igshid=ihral9kgpirr\n",
      "84  :  johnnymac15 crushing it. #brooklynlockdown #nom @Park Slope Historic District https://www.instagram.com/p/B-TKZwODPOa/?igshid=vgjg0v61hjoh\n",
      "85  :   . . – at Prospect Park\n",
      "86  :  Running in the rain @Prospect Park https://www.instagram.com/p/B-Um_srpbxf/?igshid=1n3gbod53gv7d\n",
      "87  :  #StayAtHomeAndStaySafe #stayhome #CoronaUpdate #COVID19 #CovidNYC #COVIDIDIOTS – at Prospect Park\n",
      "88  :  Lazy Sunday working. #cindylouwho #pupstagram #dogsofbrooklyn #brooklynlockdown @Park Slope Historic District https://www.instagram.com/p/B-U6I0VjbMK/?igshid=m1hams0jxwnp\n",
      "89  :  Quarantine or not, Brooklyn brunches on Sundays. #brooklynlockdown #nom johnnymac15 @Park Slope Historic District https://www.instagram.com/p/B-U8_rzDotc/?igshid=17n024qf3laq5\n"
     ]
    }
   ],
   "source": [
    "for i in range(80,90):\n",
    "    print(i, ' : ', df.iloc[i].text)"
   ]
  },
  {
   "cell_type": "code",
   "execution_count": 30,
   "metadata": {},
   "outputs": [],
   "source": [
    "rows[8] = [np.NaN,np.NaN,np.NaN,np.NaN,np.NaN,np.NaN,np.NaN,np.NaN,np.NaN,np.NaN]"
   ]
  },
  {
   "cell_type": "code",
   "execution_count": 31,
   "metadata": {
    "scrolled": true
   },
   "outputs": [
    {
     "data": {
      "text/plain": [
       "10"
      ]
     },
     "execution_count": 31,
     "metadata": {},
     "output_type": "execute_result"
    }
   ],
   "source": [
    "len(rows[8])"
   ]
  },
  {
   "cell_type": "code",
   "execution_count": 32,
   "metadata": {
    "scrolled": false
   },
   "outputs": [
    {
     "name": "stdout",
     "output_type": "stream",
     "text": [
      "90  :  Quarantine got you down? If all else fails, bake a bright pink cake. There are so few things in life for which there is no downside. This is one of them. #ParkSlopeSundays #quarantinelife #author #baking… https://www.instagram.com/p/B-VFl6sAP92/?igshid=sgkdbnb7gso4\n",
      "91  :  I'm at Prospect Park - @nycparks in Brooklyn, NY w/ @evelinechao\n",
      "92  :  #prospectpark #propectparkzoo #weathervane #brooklyn #newyorkcity #portrait #andrewbwhite #jupiter37a #adaptedlens #manualfocus #nycphotographer @nycprimeshot #nycphotography @Prospect Park https://www.instagram.com/p/B-VSFXYJy-n/?igshid=1xlepria2d42d\n",
      "93  :  Do you remember when you joined Twitter? I do! #MyTwitterAnniversary – at Prospect Park\n",
      "94  :  Quarantine dream. #cindylouwho #brooklynlockdown #brooklynlockdown #minidach #dogsofbrooklyn @Park Slope Historic District https://www.instagram.com/p/B-V9FBfj1p_/?igshid=10cuspsr6wujv\n",
      "95  :  HOW TO KEEP YOUR WIFE INTERESTED FOR 99.5 YEARS! #interestedforyears #relationships http://bit.ly/1gyiyfc\n",
      "96  :  Strange that s and x are excluded from this.\n",
      "97  :  @NYGovCuomo Hello, I am a dentist and submitted my email offering help several days back but have not yet heard how I can help. My private practice is closed, have now recovered from the virus(previously was positive), and want to be at front line helping. Tell me how to help!\n",
      "98  :  Agreed only in part. What pressure would a board face if it hoarded cash reserves without distributing a dollar nor using it for “strategic” acquisitions? The market would not accept it. Stock would trade at a discount. An activist fund would take position and create pressure.\n",
      "99  :  I had so much fun running around Prospect Park with my #altraredteam teammates @eltigre1167 and @simplyalexny and @altrarunning elites, @Merejune3 and @jasonschlarb while they were in the city scouting art,… https://www.instagram.com/p/B-X4ipAn35K/?igshid=xcl08qm0hod9\n"
     ]
    }
   ],
   "source": [
    "for i in range(90,100):\n",
    "    print(i, ' : ', df.iloc[i].text)"
   ]
  },
  {
   "cell_type": "code",
   "execution_count": 33,
   "metadata": {},
   "outputs": [],
   "source": [
    "rows[9] = [np.NaN,1,np.NaN,np.NaN,np.NaN,np.NaN,np.NaN,np.NaN,np.NaN,0]"
   ]
  },
  {
   "cell_type": "code",
   "execution_count": 34,
   "metadata": {
    "scrolled": true
   },
   "outputs": [
    {
     "data": {
      "text/plain": [
       "10"
      ]
     },
     "execution_count": 34,
     "metadata": {},
     "output_type": "execute_result"
    }
   ],
   "source": [
    "len(rows[9])"
   ]
  },
  {
   "cell_type": "code",
   "execution_count": 35,
   "metadata": {
    "scrolled": true
   },
   "outputs": [
    {
     "name": "stdout",
     "output_type": "stream",
     "text": [
      "100  :  Catching up on Daytrotter sessions https://www.pastemagazine.com/daytrotter\n",
      "101  :  “Waiting for #spring at #home “ #stayhome #stayathome #staysafe #corona . . . #prospectpark #brooklyn #newyork #newyorkcity #nyc #usa #instagram #timeoutnewyork #newyorker #newyorklife #netgeotravel #filmeditor… https://www.instagram.com/p/B-aA7hDDEel/?igshid=kc7v2vezpo8a\n",
      "102  :  #WorkFromHome #COVID19 – at Prospect Park\n",
      "103  :  I don’t know what I did to deserve this! A long time Internet friend just sent this to me. I tried to pick it up at the post office last week and it was so crowded & I was having anxiety being too close to… https://www.instagram.com/p/B-aYis-HPzm/?igshid=18ks90hc0zb1p\n",
      "104  :  Unreal. Would love to know thoughts !\n",
      "105  :  You can give thoughts now, just can’t spoil the plot :)\n",
      "106  :  Good trick for social distancing outside: go when it’s a miserable cold gray overcast evening. No one else will be there. @Prospect Park https://www.instagram.com/p/B-a0rIPBRWp/?igshid=ukwy4h2iap32\n",
      "107  :  #newnormal day 16 Yesterday I woke up at 3pm and today I found my cereal bowl in the freezer where I had put it two hours earlier cuz my cereal wasn’t cold enough and then immediately… https://www.instagram.com/p/B-bKDL-jsFX-C6rUUkCUERYwyExLgWypJXAyBk0/?igshid=m8hk2sglbatd\n",
      "108  :  I feel like I stepped into the Secret Garden today @prospect_park. Just me and the birds, hoping #SocialDistance messaging has finally sunk in. – at Vale of Cashmere\n",
      "109  :  Someone forgot to tell them about social distancing! #quarantine #SocialDistancing #COVID19 – at Prospect Park\n"
     ]
    }
   ],
   "source": [
    "for i in range(100,110):\n",
    "    print(i, ' : ', df.iloc[i].text)"
   ]
  },
  {
   "cell_type": "code",
   "execution_count": 36,
   "metadata": {},
   "outputs": [],
   "source": [
    "rows[10] = [np.NaN,np.NaN,np.NaN,np.NaN,np.NaN,np.NaN,1,np.NaN,1,0]"
   ]
  },
  {
   "cell_type": "code",
   "execution_count": 37,
   "metadata": {
    "scrolled": true
   },
   "outputs": [
    {
     "data": {
      "text/plain": [
       "10"
      ]
     },
     "execution_count": 37,
     "metadata": {},
     "output_type": "execute_result"
    }
   ],
   "source": [
    "len(rows[10])"
   ]
  },
  {
   "cell_type": "code",
   "execution_count": 38,
   "metadata": {
    "scrolled": false
   },
   "outputs": [
    {
     "name": "stdout",
     "output_type": "stream",
     "text": [
      "110  :  taint sunning in PPE – at Prospect Park\n",
      "111  :  Don’t worry BK, I have this little Gargoyle dude looking out for us. be good. – at Prospect Park\n",
      "112  :  If you can, take a walk or a run in the park near you to relax. It's very important to get fresh air to release stress and anxiety. Reply below what you're doing to maintain a healthy lifestyle. #photography – at Prospect Park\n",
      "113  :  Brooklyn Gem. – at Prospect Park\n",
      "114  :  Great walk through Prospect Park on way to bank to get cash for dry cleaner — I’ve left tons o’clothes there since pre-pandemic. . Beautiful outside. But I feel stressed when people don’t observe social distancing… https://www.instagram.com/p/B-dZv9WBwI1/?igshid=zr7p5sm1dtgg\n",
      "115  :  The sun finally came out with the flowers The streets here in NYC are empty: we're inside scared, or depressed, or worse: SICK. Some have access to 2nd homes &amp; got out of town, the rest of us finally opened our windows &amp; let this sun in – at Prospect Park\n",
      "116  :  The first story in “Welcome to the Monkey House,” (mainly about an encyclopedia salesman and some clams) was not enthusiastically-received. @Park Slope Historic District https://www.instagram.com/p/B-drW2jj4xj/?igshid=1gq1t71ivbej8\n",
      "117  :  July, 2019. #film #kodaktrix400 #canonnewf1 #canonfd35mmf2 #noritsuls600 @Prospect Park Ravine https://www.instagram.com/p/B-du_jAFjlU/?igshid=wz7y670vlnfe\n",
      "118  :  a lot has changed, but, spring is still springing. @Prospect Park https://www.instagram.com/p/B-e_GLMhbtX/?igshid=1f81ur9bpywjk\n",
      "119  :  New availability! 937sf western facing two bedroom with massive private terrace right next to Prospect Park and B/Q/S trains. Two exposures and amazing natural light. Available for early June move in: $3,750. Free… https://www.instagram.com/p/B-fDiXKjnR6/?igshid=gcnrjk5se9xn\n"
     ]
    }
   ],
   "source": [
    "for i in range(110,120):\n",
    "    print(i, ' : ', df.iloc[i].text)"
   ]
  },
  {
   "cell_type": "code",
   "execution_count": 39,
   "metadata": {},
   "outputs": [],
   "source": [
    "rows[11] = [np.NaN,np.NaN,np.NaN,np.NaN,0,np.NaN,np.NaN,np.NaN,np.NaN,np.NaN]"
   ]
  },
  {
   "cell_type": "code",
   "execution_count": 40,
   "metadata": {
    "scrolled": true
   },
   "outputs": [
    {
     "data": {
      "text/plain": [
       "10"
      ]
     },
     "execution_count": 40,
     "metadata": {},
     "output_type": "execute_result"
    }
   ],
   "source": [
    "len(rows[11])"
   ]
  },
  {
   "cell_type": "code",
   "execution_count": 41,
   "metadata": {
    "scrolled": false
   },
   "outputs": [
    {
     "name": "stdout",
     "output_type": "stream",
     "text": [
      "120  :  daily julius – at Prospect Park\n",
      "121  :  Tonight I went to a roller disco party in Brooklyn and was really excited when my skates matched my top! Friends, always splurge for the wrist guards. Falling hurts, but falling without them hurts more. No, no, I’m… https://www.instagram.com/p/B-fvKVLHEB1/?igshid=1ek1obaz9twhn\n",
      "122  :  #ents #lordoftherings #tolkein #superheroes @Prospect Park https://www.instagram.com/p/B-fxPMjFLU8/?igshid=qg2tvn35b7hu\n",
      "123  :  \"So ends a fair day in wrath\" - Pippin, #lordoftherings #jrrtolkien #sunset #treesofinstagram @Prospect Park https://www.instagram.com/p/B-f43ymlPNd/?igshid=5byzbdyl8pty\n",
      "124  :  Wednesday’s solitary sanity walk in the park... #sanitywalk #solitarywalk #springvibes #alonetogether #prospectpark #brooklyn #latergram @Prospect Park https://www.instagram.com/p/B-gu1HdnVNT/?igshid=13wlcke03xn8h\n",
      "125  :  Give a monkey a southern governor and he’ll believe he’s the center of the universe. And endanger us all. @fishbonesoldier soundtrack to my Brooklyn psych-survival walk.… https://www.instagram.com/p/B-hQ8M2g8LZAFzTi3AV4L1SW7irU1mdOut0pI40/?igshid=1pdjtclg6n416\n",
      "126  :  Near our backyard. Desperate for fresh air and a stroll. He told me it’d peaked spring while I’ve been indoors. Keeping far away from other humans. But miss the dogs. Can’t wait to feel again as happy and prosperous… https://www.instagram.com/p/B-hXR0HFQsD/?igshid=iiewr955pxox\n",
      "127  :  HBD Marlon Brando, born April 3, 1924. Illo for Nathan Rabin's \"My Year of Flops,\" 10/29/07, art direction by Rex Bonomelli. #illo #illustrator #illustration #comics #brando #drmoreau #gazoo @Park Slope Historic… https://www.instagram.com/p/B-iHHd7jbas/?igshid=78leq63z50bc\n",
      "128  :  Captain Kleenex reporting for doodie\n",
      "129  :  #SpringFlowers – at Prospect Park Lake\n"
     ]
    }
   ],
   "source": [
    "for i in range(120,130):\n",
    "    print(i, ' : ', df.iloc[i].text)"
   ]
  },
  {
   "cell_type": "code",
   "execution_count": 42,
   "metadata": {},
   "outputs": [],
   "source": [
    "rows[12] = [np.NaN,np.NaN,np.NaN,np.NaN,np.NaN,np.NaN,np.NaN,np.NaN,np.NaN,np.NaN]"
   ]
  },
  {
   "cell_type": "code",
   "execution_count": 43,
   "metadata": {
    "scrolled": true
   },
   "outputs": [
    {
     "data": {
      "text/plain": [
       "10"
      ]
     },
     "execution_count": 43,
     "metadata": {},
     "output_type": "execute_result"
    }
   ],
   "source": [
    "len(rows[12])"
   ]
  },
  {
   "cell_type": "code",
   "execution_count": 44,
   "metadata": {
    "scrolled": false
   },
   "outputs": [
    {
     "name": "stdout",
     "output_type": "stream",
     "text": [
      "130  :  Friday dog walkin’ – at Prospect Park\n",
      "131  :  I am very aware of my surroundings and I try to give more than enough space to those around me... If someone is standing at the corner and I’m about to reach them, I will wait... If I am walking down the street and… https://www.instagram.com/p/B-iZiMunA40/?igshid=12pvxiw2q12hb\n",
      "132  :   #socialdistancing #keepyourdistance #springvibes #blooms #prospectpark #sanitywalk #alonetogether @Prospect Park https://www.instagram.com/p/B-iaz4_Hmq_/?igshid=7ed396e1abfh\n",
      "133  :  Can you dm me why without a spoiler ? This is such a bummer to read :/\n",
      "134  :  Ok then will pass. I really appreciate you keeping mum. So bummed to hear it.\n",
      "135  :  Hopefully you had some great moments. But a bummer too that you got to the ending in a day or two. Was hoping for tons of gameplay out of this.\n",
      "136  :  Based on reviews it appears that there are missing gestures on your trackpad ? Will this eventually come to par with apples keyboard?\n",
      "137  :  Empty #street in #parkslope #brooklyn @Park Slope Historic District https://www.instagram.com/p/B-j6vOwjvFD/?igshid=15oxdus0p122m\n",
      "138  :  Where did you pre order from?\n",
      "139  :  Daily bike rides afford me time to appreciate NYC architecture in a way I never have in 26 years. Ocean Ave, Prospect Park adjacent. #QuarantineLife – at Prospect Park\n"
     ]
    }
   ],
   "source": [
    "for i in range(130,140):\n",
    "    print(i, ' : ', df.iloc[i].text)"
   ]
  },
  {
   "cell_type": "code",
   "execution_count": 45,
   "metadata": {},
   "outputs": [],
   "source": [
    "rows[13] = [np.NaN,0,np.NaN,np.NaN,np.NaN,np.NaN,np.NaN,np.NaN,np.NaN,np.NaN]"
   ]
  },
  {
   "cell_type": "code",
   "execution_count": 46,
   "metadata": {
    "scrolled": true
   },
   "outputs": [
    {
     "data": {
      "text/plain": [
       "10"
      ]
     },
     "execution_count": 46,
     "metadata": {},
     "output_type": "execute_result"
    }
   ],
   "source": [
    "len(rows[13])"
   ]
  },
  {
   "cell_type": "code",
   "execution_count": 47,
   "metadata": {
    "scrolled": false
   },
   "outputs": [
    {
     "name": "stdout",
     "output_type": "stream",
     "text": [
      "140  :  #turtletime @Prospect Park https://www.instagram.com/p/B-kdjOFH_VZ/?igshid=15vj053krxtne\n",
      "141  :  #swan @Prospect Park https://www.instagram.com/p/B-kd9mFnwwK/?igshid=ptgr90z2bjv\n",
      "142  :  These turtles are not properly social distancing – at Prospect Park\n",
      "143  :  Prospect Park / from a distance – at Prospect Park\n",
      "144  :  Spring continues to bloom... Park was definitely not empty, and still too many on the main drive but fewer knuckleheads and people are giving wider berth. I stayed on side paths. @Prospect Park https://www.instagram.com/p/B-kvHabDuvJ/?igshid=i5goy0l11j27\n",
      "145  :  OMG are you KIDDING ME? #aaugh\n",
      "146  :  Sad to miss running citifield today. @SpartanRace @spartanrace thanks to sarsaparilla.susan for talking me into #spartanvirtualsprint we even found stairs. #5k #obstacles @Prospect Park https://www.instagram.com/p/B-k1t_tDHXU/?igshid=169rmt82mfpws\n",
      "147  :  Saturday afternoon April 4 update around 3:45pm. NYC’s Prospect Park #publicspace seems less crowded. More physical distancing. Many with face coverings. Gorgeous day out. Had a solid run. Meditated in the sun. Body needed longer session in our local star light so bad. #COVID19 – at Prospect Park\n",
      "148  :  Did you #goskate on #saturday #saturdayfunday #skate #skating #inlineskating #rollerskating #rollerblading #speedskating #skatingspeedinline #icapture_michael_grebinsky #takinoskates #mpc #empireskate… https://www.instagram.com/p/B-k5fuKppjw/?igshid=1lfvtf9mo3ni9\n",
      "149  :  Here’s what the running trail is like in the park. Plenty of #publicspace to keep over 2 meters distance. #coronavirus #COVID19 – at Prospect Park Loop\n"
     ]
    }
   ],
   "source": [
    "for i in range(140,150):\n",
    "    print(i, ' : ', df.iloc[i].text)"
   ]
  },
  {
   "cell_type": "code",
   "execution_count": 48,
   "metadata": {},
   "outputs": [],
   "source": [
    "rows[14] = [np.NaN,np.NaN,np.NaN,np.NaN,0,np.NaN,np.NaN,1,np.NaN,1]"
   ]
  },
  {
   "cell_type": "code",
   "execution_count": 49,
   "metadata": {
    "scrolled": true
   },
   "outputs": [
    {
     "data": {
      "text/plain": [
       "10"
      ]
     },
     "execution_count": 49,
     "metadata": {},
     "output_type": "execute_result"
    }
   ],
   "source": [
    "len(rows[14])"
   ]
  },
  {
   "cell_type": "code",
   "execution_count": 50,
   "metadata": {
    "scrolled": false
   },
   "outputs": [
    {
     "name": "stdout",
     "output_type": "stream",
     "text": [
      "150  :  Stickball in the Slope @Park Slope Historic District https://www.instagram.com/p/B-k7udlp-Nj/?igshid=1lbubjvi6xx4a\n",
      "151  :  My childhood home 207 Berkeley Place @Park Slope Historic District https://www.instagram.com/p/B-k8D0IJGbp/?igshid=1wci9m634fbpc\n",
      "152  :  Here’s the loop road in Prospect Park #publicspace. Definitely requires agile maneuvering to maintain 2+ meters physical distance. I like the challenge, keeps the act of running more alive. The flowering trees were radiant making most pause in delight. #coronavirus #covid19 – at Prospect Park Loop\n",
      "153  :  I turned location services on for all my apps, because why not?\n",
      "154  :  Brooklyn rush hour - April 4, 2020 @brklynbes @ThePhotoHour @StormHourMark @nycgo @NY1 @News12BK #CoronavirusNewYork #NYCLockdown #COVID19\n",
      "155  :  The New Normal (TNN): Enjoyed a six miles ride today in Prospect Park, while masked and socially distant from everyone including my cycling mate (background lisaah82). #newnormal #covid19nyc #prospectpark #nyc… https://www.instagram.com/p/B-lQ37sBf8a/?igshid=4q5ipx84skr\n",
      "156  :  You already beat it ? Finished the whole game? How many hr of gameplay???\n",
      "157  :  Here’s a picture of my family. And sometimes I’ve taken them for granted. But in a time of anxiety and stress, when hearing endless sirens from ambulances, seeing flashing lights through my bedroom window, and… https://www.instagram.com/p/B-lSHWSFTOI/?igshid=1nb700ft6xgv4\n",
      "158  :  Just posted a photo @Prospect Park https://www.instagram.com/p/B-lbFkhjbUm/?igshid=4w08xs3tqx9g\n",
      "159  :  Park Slope peeps 1967 @Park Slope Historic District https://www.instagram.com/p/B-lgi_7J0WB/?igshid=845jb41q55tn\n"
     ]
    }
   ],
   "source": [
    "for i in range(150,160):\n",
    "    print(i, ' : ', df.iloc[i].text)"
   ]
  },
  {
   "cell_type": "code",
   "execution_count": 51,
   "metadata": {},
   "outputs": [],
   "source": [
    "rows[15] = [np.NaN,np.NaN,0,np.NaN,np.NaN,1,np.NaN,np.NaN,np.NaN,np.NaN]"
   ]
  },
  {
   "cell_type": "code",
   "execution_count": 52,
   "metadata": {
    "scrolled": true
   },
   "outputs": [
    {
     "data": {
      "text/plain": [
       "10"
      ]
     },
     "execution_count": 52,
     "metadata": {},
     "output_type": "execute_result"
    }
   ],
   "source": [
    "len(rows[15])"
   ]
  },
  {
   "cell_type": "code",
   "execution_count": 53,
   "metadata": {
    "scrolled": false
   },
   "outputs": [
    {
     "name": "stdout",
     "output_type": "stream",
     "text": [
      "160  :  Eastern cottontail, yesterday in @prospect_park – at Prospect Park\n",
      "161  :  #tunnel #prospectpark #brooklyn #newyorkcity #portrait #andrewbwhite #pentax50mmf12 #adaptedlens #manualfocus #nycphotographer @nycprimeshot #nycphotography @Prospect Park https://www.instagram.com/p/B-mmRiepE-o/?igshid=zlxxh6d7s2j0\n",
      "162  :  #redwingedblackbird #prospectpark #nature #brooklyn #newyorkcity #andrewbwhite #jupiter37a #adaptedlens #manualfocus #nycphotographer @nycprimeshot #nycphotography @Prospect Park https://www.instagram.com/p/B-mmtpCJrUd/?igshid=1wh0ono9jdhtn\n",
      "163  :  #redwingedblackbird #nature #prospectpark #brooklyn #newyorkcity #andrewbwhite #jupiter37a #adaptedlens #manualfocus #nycphotographer @nycprimeshot #nycphotography @Prospect Park https://www.instagram.com/p/B-mnQffpItE/?igshid=p1o6kqr823mu\n",
      "164  :  It took a global health crisis to get me on a Citibike. @Prospect Park https://www.instagram.com/p/B-mz7trgAyF/?igshid=wc7p26itlnqe\n",
      "165  :  My dog is bad at social distancing – at Prospect Park\n",
      "166  :  Just think of the future #tanlines #QuarantineDiaries #coronavirus #Queerantine #QuarantineLife #mascsformasks – at Prospect Park\n",
      "167  :  GORGEOUS @Prospect Park Zoo https://www.instagram.com/p/B-m_yAKg99c-pUUeleUtIWO58rq1dLSUZ3wjqo0/?igshid=bbryr2ebm9wv\n",
      "168  :   @Prospect Park https://www.instagram.com/p/B-nCV2PACTtSgm3BUkemRXn2iw5U7uSgBLO-5w0/?igshid=vd10uefb51b0\n",
      "169  :  Neighborhood. #socialdistancing #stayhome #quarantinelife #newyorktough #nyc @Prospect Park https://www.instagram.com/p/B-nFEc6loHx/?igshid=1lrmz5mtbzk0t\n"
     ]
    }
   ],
   "source": [
    "for i in range(160,170):\n",
    "    print(i, ' : ', df.iloc[i].text)"
   ]
  },
  {
   "cell_type": "code",
   "execution_count": 54,
   "metadata": {},
   "outputs": [],
   "source": [
    "rows[16] = [np.NaN,np.NaN,np.NaN,np.NaN,np.NaN,np.NaN,np.NaN,np.NaN,np.NaN,np.NaN]"
   ]
  },
  {
   "cell_type": "code",
   "execution_count": 55,
   "metadata": {
    "scrolled": true
   },
   "outputs": [
    {
     "data": {
      "text/plain": [
       "10"
      ]
     },
     "execution_count": 55,
     "metadata": {},
     "output_type": "execute_result"
    }
   ],
   "source": [
    "len(rows[16])"
   ]
  },
  {
   "cell_type": "code",
   "execution_count": 56,
   "metadata": {
    "scrolled": false
   },
   "outputs": [
    {
     "name": "stdout",
     "output_type": "stream",
     "text": [
      "170  :  \n",
      "171  :  I'm at Prospect Park - @nycparks in Brooklyn, NY w/ @evelinechao\n",
      "172  :  Prospect park is packed right now- not even 25% of people wearing masks! What is wrong with these people – at Prospect Park\n",
      "173  :  Still getting out there – at Prospect Park\n",
      "174  :  Sensational walk with #PeteyPiro this afternoon. . I wish more people were observing the social distancing. It adds a layer of stress to the experience — dodging peeps to maintain that distance when they… https://www.instagram.com/p/B-nY1wyhLj1/?igshid=tdkleozyijhz\n",
      "175  :  #cleansweepnyc We are all doing our part by staying home to stop the spread of #COVID19. Why aren’t we cleaning the streets littered with gloves and masks? Gloves even stuck on the tires of cars! Our streets are like minefields Where are the sweepers? @NYCMayorsOffice @NYCMayor\n",
      "176  :  Outtake: badass cartoonist lianafinck for @NYMag. This was one my favorite and most chill assignments in 2019. Special thanks to Megan Paetzhold @meganistamcfly! @Park Slope Historic District https://www.instagram.com/p/B-pMvQogOi8/?igshid=8ijcznu8iyxq\n",
      "177  :  daily julius – at Prospect Park\n",
      "178  :  Golden-crowned kinglet, making her way migrating through @prospect_park. An exciting first for me! #birdphotography #birdbk #bird #birding #birdsnyc #prospectpark #wildlife #wildlifephotography #nyc #nycwildlife #nycwild #spring #coronavirus #brooklyn #leica #leicaphotography – at Prospect Park\n",
      "179  :  WFH social distancing done right. #fireescape #brooklynlockdown #pleasestayhomefortheloveofgodiwanttoleavemyhouseatsomepoint @Park Slope Historic District https://www.instagram.com/p/B-ply9qjPhw/?igshid=1kqty9notsx9y\n"
     ]
    }
   ],
   "source": [
    "for i in range(170,180):\n",
    "    print(i, ' : ', df.iloc[i].text)"
   ]
  },
  {
   "cell_type": "code",
   "execution_count": 57,
   "metadata": {},
   "outputs": [],
   "source": [
    "rows[17] = [np.NaN,np.NaN,0,np.NaN,0,np.NaN,np.NaN,np.NaN,np.NaN,np.NaN]"
   ]
  },
  {
   "cell_type": "code",
   "execution_count": 58,
   "metadata": {
    "scrolled": true
   },
   "outputs": [
    {
     "data": {
      "text/plain": [
       "10"
      ]
     },
     "execution_count": 58,
     "metadata": {},
     "output_type": "execute_result"
    }
   ],
   "source": [
    "len(rows[17])"
   ]
  },
  {
   "cell_type": "code",
   "execution_count": 59,
   "metadata": {
    "scrolled": false
   },
   "outputs": [
    {
     "name": "stdout",
     "output_type": "stream",
     "text": [
      "180  :  Tired of the same mundane routine – at Lonelyville\n",
      "181  :  Geese vs. Dogs. Choose your player! – at Prospect Park\n",
      "182  :  This picture made my day @harperbooks. You’re the best. #Repost @harperbooks with @get_repost ・・・ Big Little Lies meets Presumed Innocent in this riveting novel from @kimmccreight, in which a Brooklyn woman’s… https://www.instagram.com/p/B-ppVjxgmLS/?igshid=1ld2hyi0xrwn8\n",
      "183  :  The park was pretty empty at midday. People were social distancing and for the most part wearing something over their faces. @Prospect Park https://www.instagram.com/p/B-puGbFDYNX/?igshid=jw49lcl6g8q3\n",
      "184  :  It’s nice for one day and just look at these assholes not social distancing! – at Prospect Park\n",
      "185  :  Can we please just close the parks, because obviously Brooklyn isn’t getting the message. #stupidbrooklyn #whatcurve @Prospect Park https://www.instagram.com/p/B-p265sjLjf/?igshid=12l7gz4aen9aw\n",
      "186  :   – at Prospect Park\n",
      "187  :  Sarah and Anton. Prospect Park lakeside, March 27, 2020. #prospectparklakeside . The date on this photo definitely changes the context. I’ve taken walks to the park about 3 times since early March, all keeping… https://www.instagram.com/p/B-qKRgRD4gv/?igshid=iy718fkh82fx\n",
      "188  :  One day at a time . . #newyorktough #nyc #brooklyn @Prospect Park https://www.instagram.com/p/B-qMPwrl58S/?igshid=ycchox5e493p\n",
      "189  :  Teach truth, Whether it fills the room or empties it. #AlleyneMAGIC http://alleyneART.com @Prospect Park Zoo https://www.instagram.com/p/B-qXqlSnad5/?igshid=p02fazwwd89g\n"
     ]
    }
   ],
   "source": [
    "for i in range(180,190):\n",
    "    print(i, ' : ', df.iloc[i].text)"
   ]
  },
  {
   "cell_type": "code",
   "execution_count": 60,
   "metadata": {},
   "outputs": [],
   "source": [
    "rows[18] = [np.NaN,np.NaN,np.NaN,1,0,0,np.NaN,np.NaN,np.NaN,np.NaN]"
   ]
  },
  {
   "cell_type": "code",
   "execution_count": 61,
   "metadata": {
    "scrolled": true
   },
   "outputs": [
    {
     "data": {
      "text/plain": [
       "10"
      ]
     },
     "execution_count": 61,
     "metadata": {},
     "output_type": "execute_result"
    }
   ],
   "source": [
    "len(rows[18])"
   ]
  },
  {
   "cell_type": "code",
   "execution_count": 62,
   "metadata": {
    "scrolled": false
   },
   "outputs": [
    {
     "name": "stdout",
     "output_type": "stream",
     "text": [
      "190  :  The scene from our back door seems deceptively idyllic as spring is finally encouraging growth out there. You only have to go a couple of blocks to the local hospital to see the impact of the invisible enemy around us. There, you can see its impact, even from the outside.\n",
      "191  :  Just posted a photo @Prospect Park https://www.instagram.com/p/B-sDkKwD-g1/?igshid=19epyuzcy9s05\n",
      "192  :  Greetings from Brooklyn, miss you all! Stay safe and healthy @hasanminhaj @patriotact @Onsetshows – at Prospect Park\n",
      "193  :  tuesday jules – at Prospect Park\n",
      "194  :  @darakass hi dr. Kass. I too am a Brooklyn resident and have been following your tweets and was moved by NY Times’s email feature on you. Once this is behind us , my wife and I would really love to host you and your family for dinner at our home. I am a dentist and woke at\n",
      "195  :  Work * at NYU Langone. And have seen the devastation of this virus. It has profoundly impacted dentists as well. My wife and I both have been infected and now have returned nearly back to normal. I very much hope you’ll take up our offer and it would be our pleasure to meet/host.\n",
      "196  :  Hal Willner’s Doc Pomus Project @briccelebratebk 7/27/07 with Lou Reed, Laurie Anderson, Sharon Jones, Ben E. King, Eric Mingus http://et.al. The Hal Willner tribute should be one to remember. #covidnyc #halwillner @… https://www.instagram.com/p/B-s4PFwAvur/?igshid=f2vnyyvs2nsg\n",
      "197  :  Alice Hellman, (American, 2006-present) \"autoritratto senza titolo,\" 2020. @Park Slope Historic District https://www.instagram.com/p/B-s-HfHjmCn/?igshid=1kua4uccqmvs8\n",
      "198  :  Hello from the colonies. #blessedbethefruit @MonaChalabi we had to act out the 6 ft tool. #COVIDー19 #Queerantine #nyccoronavirus #nycparks #coronavirus #CoronavirusPandemic #BROOKLYN – at Prospect Park\n",
      "199  :  Tree tops on the N side of the Vale in @prospect_park is ALIVE w warbling activity, those of you with better binoculars should have luck there. Our feathered friends are singing w extra vigor w colors looking brilliant! Eastern Towhee, Northern Flicker, and so many Oven birds. – at Vale of Cashmere\n"
     ]
    }
   ],
   "source": [
    "for i in range(190,200):\n",
    "    print(i, ' : ', df.iloc[i].text)"
   ]
  },
  {
   "cell_type": "code",
   "execution_count": 63,
   "metadata": {},
   "outputs": [],
   "source": [
    "rows[19] = [np.NaN,np.NaN,np.NaN,np.NaN,np.NaN,np.NaN,np.NaN,np.NaN,np.NaN,np.NaN]"
   ]
  },
  {
   "cell_type": "code",
   "execution_count": 64,
   "metadata": {
    "scrolled": true
   },
   "outputs": [
    {
     "data": {
      "text/plain": [
       "10"
      ]
     },
     "execution_count": 64,
     "metadata": {},
     "output_type": "execute_result"
    }
   ],
   "source": [
    "len(rows[19])"
   ]
  },
  {
   "cell_type": "code",
   "execution_count": 65,
   "metadata": {
    "scrolled": false
   },
   "outputs": [
    {
     "name": "stdout",
     "output_type": "stream",
     "text": [
      "200  :  La vita e bella – at Prospect Park Boathouse &amp; Audubon Center\n",
      "201  :  Meanwhile, in Prospect Park, turtles congregate. – at Prospect Park Boathouse &amp; Audubon Center\n",
      "202  :  There is a wise #publichealth reason why NYC parks are still open for all solo activities amidst #coronavirus. All New Yorkers are #publicspace experts, why mindful #placemaking works so well. #activeliving #healthcare – at Prospect Park Loop\n",
      "203  :   Want to read the first 50 pages of A GOOD MARRIAGE right now? A link to the first 50 pages will be in my newsletter THIS Friday. Sign up between now and 1 pm Friday to get them right to your inbox. Plus, you’ll… https://www.instagram.com/p/B-vHYTcA3lG/?igshid=qbt41y1smf70\n",
      "204  :  So glad to have this park during this pandemic. It doesn’t get much more socially distant than this. @Prospect Park https://www.instagram.com/p/B-vOu24j5Mt/?igshid=k1utwmjr25cv\n",
      "205  :  “Happiness is letting go of what you think your life is supposed to look like and celebrate it for everything that it is.”. #eveningwalk #thenewnormal #socialdistancing #prospectpark… https://www.instagram.com/p/B-vPQATpRCysKadg8IumHOxTKgom845k62fQoA0/?igshid=1bejg5cjwu7dw\n",
      "206  :  “Lively, diverse, intense cities contain the seeds of their own regeneration” - Jane Jacobs – at Prospect Park\n",
      "207  :  It’s just my observation —but those the most guilty of not giving enough space are the runners who are not wearing masks. I get it, I want to exercise too...It’s not that difficult to be courteous & aware. I’m not… https://www.instagram.com/p/B-vdNGlHmli/?igshid=1gmv4f3wqlsm7\n",
      "208  :  I discovered some new (to me) parts of Prospect Park... I usually take my bike there but I’ve just been going on my sanity walks there lately... I am so grateful for the park... #sanitywalk #prospectpark… https://www.instagram.com/p/B-vhIREn6ZS/?igshid=ykvm3077r3ef\n",
      "209  :  Linda’s office sent a delicious avocado-colored chocolate egg from mariebelleofficial @Park Slope Historic District https://www.instagram.com/p/B-vk9F2jir4/?igshid=1esyd04agwf37\n"
     ]
    }
   ],
   "source": [
    "for i in range(200,210):\n",
    "    print(i, ' : ', df.iloc[i].text) "
   ]
  },
  {
   "cell_type": "code",
   "execution_count": 66,
   "metadata": {},
   "outputs": [],
   "source": [
    "rows[20] = [np.NaN,np.NaN,1,np.NaN,1,np.NaN,np.NaN,0,np.NaN,np.NaN]"
   ]
  },
  {
   "cell_type": "code",
   "execution_count": 67,
   "metadata": {
    "scrolled": true
   },
   "outputs": [
    {
     "data": {
      "text/plain": [
       "10"
      ]
     },
     "execution_count": 67,
     "metadata": {},
     "output_type": "execute_result"
    }
   ],
   "source": [
    "len(rows[20])"
   ]
  },
  {
   "cell_type": "code",
   "execution_count": 68,
   "metadata": {
    "scrolled": false
   },
   "outputs": [
    {
     "name": "stdout",
     "output_type": "stream",
     "text": [
      "210  :  Keep your distance methane boy @Prospect Park https://www.instagram.com/p/B-vyyCVgAJ2/?igshid=1qhjrp6nkc96o\n",
      "211  :  @BestBuy @BestBuySupport if our store is open and we pre ordered, I was told we can pick up final fantasy vii remake early today between 3-6pm instead of tomorrow. Can you verify this to be true ?\n",
      "212  :  Are you blind or just insane? Social distancing is not working, certainly not in Brooklyn! How many pictures do I have to send to you to prove it? Why are people outside at all if we are to shelter in place? – at Prospect Park\n",
      "213  :  Eastern phoebe in @prospect_park. Day 15 of posting photos I’ve taken of NYC wildlife #bird #birdsofinstagram #birdbk #animals #wildlife #wildlifephotography #nyc #nycwildlife #nycwild #spring #coronavirus #brooklyn #leica #leicaphotography – at Prospect Park\n",
      "214  :  I'm on the roof #fuk #that Still #zonedout @bwayj @bentleyrecords #bwayj #vytalsygnzmusic #bgod #bentleygang #nyc #la #newyorkcity #brooklyn #queens #broadwayjoe #worldwide #recordlabel #hiphop… https://www.instagram.com/p/B-xSrmBjwBA/?igshid=mljsfv86ko77\n"
     ]
    }
   ],
   "source": [
    "for i in range(210,len(df)):\n",
    "    print(i, ' : ', df.iloc[i].text)"
   ]
  },
  {
   "cell_type": "code",
   "execution_count": 69,
   "metadata": {},
   "outputs": [],
   "source": [
    "rows[21] = [np.NaN,np.NaN,0,np.NaN,np.NaN]"
   ]
  },
  {
   "cell_type": "code",
   "execution_count": 70,
   "metadata": {
    "scrolled": true
   },
   "outputs": [
    {
     "data": {
      "text/plain": [
       "5"
      ]
     },
     "execution_count": 70,
     "metadata": {},
     "output_type": "execute_result"
    }
   ],
   "source": [
    "len(rows[21])"
   ]
  },
  {
   "cell_type": "code",
   "execution_count": 71,
   "metadata": {},
   "outputs": [],
   "source": [
    "# Initialize our response variable\n",
    "safe = []\n",
    "\n",
    "# Concatenate all our rows into one long column\n",
    "for i in range(0,22):\n",
    "    safe = safe + rows[i]"
   ]
  },
  {
   "cell_type": "code",
   "execution_count": 72,
   "metadata": {},
   "outputs": [
    {
     "data": {
      "text/plain": [
       "215"
      ]
     },
     "execution_count": 72,
     "metadata": {},
     "output_type": "execute_result"
    }
   ],
   "source": [
    "len(safe)"
   ]
  },
  {
   "cell_type": "code",
   "execution_count": 73,
   "metadata": {},
   "outputs": [],
   "source": [
    "df['safe'] = safe"
   ]
  },
  {
   "cell_type": "code",
   "execution_count": 74,
   "metadata": {},
   "outputs": [],
   "source": [
    "# Filter out the garbage tweets by dannyhellman\n",
    "df = df[df.username != 'dannyhellman']"
   ]
  },
  {
   "cell_type": "code",
   "execution_count": 78,
   "metadata": {},
   "outputs": [
    {
     "data": {
      "text/plain": [
       "183"
      ]
     },
     "execution_count": 78,
     "metadata": {},
     "output_type": "execute_result"
    }
   ],
   "source": [
    "len(df)"
   ]
  },
  {
   "cell_type": "code",
   "execution_count": 75,
   "metadata": {},
   "outputs": [],
   "source": [
    "# Save our labels\n",
    "df.to_pickle(\"./geotweets_labeled.pkl\")"
   ]
  }
 ],
 "metadata": {
  "kernelspec": {
   "display_name": "Python 3",
   "language": "python",
   "name": "python3"
  },
  "language_info": {
   "codemirror_mode": {
    "name": "ipython",
    "version": 3
   },
   "file_extension": ".py",
   "mimetype": "text/x-python",
   "name": "python",
   "nbconvert_exporter": "python",
   "pygments_lexer": "ipython3",
   "version": "3.7.4"
  }
 },
 "nbformat": 4,
 "nbformat_minor": 2
}
