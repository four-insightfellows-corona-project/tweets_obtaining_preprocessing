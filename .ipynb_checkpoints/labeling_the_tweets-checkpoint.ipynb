{
 "cells": [
  {
   "cell_type": "markdown",
   "metadata": {},
   "source": [
    "### Label the tweets as unsafe for visiting the park (0), safe (1), or NaN"
   ]
  },
  {
   "cell_type": "code",
   "execution_count": 185,
   "metadata": {},
   "outputs": [],
   "source": [
    "import pandas as pd\n",
    "import numpy as np\n",
    "import datetime as dt"
   ]
  },
  {
   "cell_type": "code",
   "execution_count": 186,
   "metadata": {},
   "outputs": [],
   "source": [
    "df = pd.read_pickle(\"df_corona.pkl\")"
   ]
  },
  {
   "cell_type": "code",
   "execution_count": 187,
   "metadata": {},
   "outputs": [],
   "source": [
    "rows = {}"
   ]
  },
  {
   "cell_type": "code",
   "execution_count": 188,
   "metadata": {},
   "outputs": [
    {
     "name": "stdout",
     "output_type": "stream",
     "text": [
      "0  :  \"THE DUDE\" HUCKLEBERRY LETTERPRESS Mar 14, 2017 ART DIRECTION BY JUSTIN REYNOLDS #ILLO #ILLUSTRATION #ILLUSTRATOR #FILM #MOVIES #COEN #JEFFBRIDGES #LEBOWSKI #DUDE @Park Slope Historic District https://www.instagram.com/p/B-D96GAjMDY/?igshid=12mhs0kb1zs0s\n",
      "1  :  \"E PLURIBUS DOLEMITE\" TOWER RECORDS' PULSE MAGAZINE May 1, 1996 ART DIRECTION BY NED HAMMAD #ILLO #ILLUSTRATION #ILLUSTRATOR #COMEDY #BLAXPLOITATION #CLINTON #DOLE #DOLEMITE #RUDYRAYMOORE #PRESIDENT #WHITEHOUSE… https://www.instagram.com/p/B-D-RAJDNSH/?igshid=6jnjpsapzhoz\n",
      "2  :  \"EARBUD HORROR\" REVOLVER Jun 30, 2014 ART DIRECTION BY STEPHEN GOGGI #ILLO #ILLUSTRATION #ILLUSTRATOR #MUSIC #IPOD #MP3 @Park Slope Historic District https://www.instagram.com/p/B-D_OfZjIAq/?igshid=2cowb8a285te\n",
      "3  :  \"ECCE JACKO\" ROYAL FLUSH Apr 8, 2008 ART DIRECTION BY JOSH BERNSTEIN #ILLO #ILLUSTRATION #ILLUSTRATOR #KINGOFPOP #MICHAELJACKSON #JACKO #CHRIST #JESUS #CRUCIFIXION #BUBBLES #NEVERLAND @Park Slope Historic District https://www.instagram.com/p/B-D_6LTjsxF/?igshid=ashp2z9mw3jm\n",
      "4  :  \"ECCE RUDY\" NEW YORK PRESS Feb 18, 2001 ART DIRECTION BY MICHAEL GENTILE #ILLO #ILLUSTRATION #ILLUSTRATOR #CHRIST #JESUS #CRUCIFIXION #NEWYORK #NEWYORKCITY #MAYOR #AMERICASMAYOR #GIULIANI #REPUBLICAN @Park Slope… https://www.instagram.com/p/B-EAExzDSdD/?igshid=165ramza7lui4\n",
      "5  :  \"EGYPTIAN EXPULSION\" NEW YORK PRESS Dec 22, 2000 ART DIRECTION BY MICHAEL GENTILE #ILLO #ILLUSTRATION #ILLUSTRATOR #GARDEN #EDEN #ADAM #EVE #ANUBIS #EGYPT #EGYPTIAN @Park Slope Historic District https://www.instagram.com/p/B-EAOnajOdz/?igshid=1vix0qofqda0u\n",
      "6  :  \"FRANKENSTEIN AT CBGBS\" ELECTRIC FRANKENSTEIN Aug 18, 2005 ART DIRECTION BY SAL CANZONIERI #ILLO #ILLUSTRATION #ILLUSTRATOR #ELECTRICFRANKENSTEIN #FRANKENSTEIN #PUNK #ROCK #MUSIC #CBGB #HARDCORE @Park Slope… https://www.instagram.com/p/B-EAXg0jNXQ/?igshid=1l6bkvf88ubk7\n",
      "7  :  \"BRIDE OF FRANKENSTEIN POLE DANCER\" ELECTRIC FRANKENSTEIN Apr 21, 2002 ART DIRECTION BY SAL CANZONIERI #ILLO #ILLUSTRATION #ILLUSTRATOR #ELECTRICFRANKENSTEIN #FRANKENSTEIN #ELSALANCHESTER #BRIDE #STRIPPER #DANCER… https://www.instagram.com/p/B-EArtDDxM7/?igshid=1e9ebl1nvxw56\n",
      "8  :  \"ELEVATOR REPAIRMAN\" HABITAT Jul 28, 2003 ART DIRECTION BY MICHAEL GENTILE #ILLO #ILLUSTRATION #ILLUSTRATOR #REPAIRMAN #ELEVATOR #BUILDING #LANDLORD #TENANT #REALESTATE @Park Slope Historic District https://www.instagram.com/p/B-EA-YLjYwQ/?igshid=1rzoyyvnfhhii\n",
      "9  :  \"ELTON JOHN\" OUT MAGAZINE Feb 10, 2003 ART DIRECTION BY TOM O’QUINN #ILLO #ILLUSTRATION #ILLUSTRATOR #ELTON #ELTONJOHN #SIRELTONJOHN #70S #POP #ROCK #MUSIC #GLAM #LGBT #GAY @Park Slope Historic District https://www.instagram.com/p/B-EBNDIjKf_/?igshid=94kcj7pgm3uf\n"
     ]
    }
   ],
   "source": [
    "for i in range(0,10):\n",
    "    print(i, ' : ', df.iloc[i].text)"
   ]
  },
  {
   "cell_type": "code",
   "execution_count": 189,
   "metadata": {},
   "outputs": [],
   "source": [
    "rows[0] = [np.NaN,np.NaN,np.NaN,np.NaN,np.NaN,np.NaN,np.NaN,np.NaN,np.NaN,np.NaN]"
   ]
  },
  {
   "cell_type": "code",
   "execution_count": 247,
   "metadata": {},
   "outputs": [
    {
     "data": {
      "text/plain": [
       "10"
      ]
     },
     "execution_count": 247,
     "metadata": {},
     "output_type": "execute_result"
    }
   ],
   "source": [
    "len(rows[0])"
   ]
  },
  {
   "cell_type": "code",
   "execution_count": 190,
   "metadata": {
    "scrolled": false
   },
   "outputs": [
    {
     "name": "stdout",
     "output_type": "stream",
     "text": [
      "10  :  \"ELVIS COSTELLO\" TOWER RECORDS' PULSE MAGAZINE Aug 22, 1995 ART DIRECTION BY NED HAMMAD #ILLO #ILLUSTRATION #ILLUSTRATOR #ELVIS #COSTELLO #ROCK #POP #MUSIC #NEWWAVE #PUNK @Park Slope Historic District https://www.instagram.com/p/B-EBYWBjfzn/?igshid=tqv93xu14e0g\n",
      "11  :  Walking with awesomeness princedpanda #sakura #cherryblossom #pinoy #spring #springtime #asian #mbatravel #mbaexperience #mbaadventure #chubby #pinoygram #followme #ootd #nyc #instagood #instadaily #newyork… https://www.instagram.com/p/B-Ewx5XHIeg/?igshid=7umobb69eo6f\n",
      "12  :  \"Three Faces of Shat\" illo for ATLANTA Magazine, 9/23/12, art direction by Eric Capossela, (happy birthday William Shatner). #StarTrek @Park Slope Historic District https://www.instagram.com/p/B-Fa2-yDRMB/?igshid=1c6ixr8tqrmqh\n",
      "13  :  Omg @Instacart - y’all better not mess this up. I needed groceries yesterday, not next week. Fingers crossed y’all @Wegmans – at Prospect Park\n",
      "14  :  𝐐𝐔𝐄𝐒𝐓𝐈𝐎𝐍 | Are you moving for thirty minutes every day? Even if it’s as simple as going for a walk around your neighborhood to get some fresh air, I can’t recommend doing this enough for your physical and… https://www.instagram.com/p/B-FfC_0n1lq/?igshid=ylf7xrxe4746\n",
      "15  :  #newnormal Day 8 Oh dayum, did Governor #andrewcuomo just yell at me?? That’s Prospect Park, MY park! I live just a few doors down from that building and I’ve been in that park everyday… https://www.instagram.com/p/B-FlJUBJ1UkEH9fhp2vorMV6knvVNkO_oDm10Y0/?igshid=zkwcvphxmu9l\n",
      "16  :  #isolation #prospectpark #prospectparkalliance #nature #spring #brooklyn #newyorkcity #portrait #andrewbwhite #sonya7iii #jupiter37a135mm #adaptedlens #manualfocus #nycphotographer @nycprimeshot prospectpark @… https://www.instagram.com/p/B-F6-a_JvCe/?igshid=1f3a8h2a3oq9j\n",
      "17  :  #isolation #prospectpark #fishing #prospectparkalliance #nature #spring #brooklyn #newyorkcity #portrait #andrewbwhite #sonya7iii #jupiter37a135mm #adaptedlens #manualfocus #nycphotographer @nycprimeshot… https://www.instagram.com/p/B-F7Gr7pUmx/?igshid=11x5o1duppyv1\n",
      "18  :  #isolation #prospectpark #prospectparkalliance #nature #spring #brooklyn #newyorkcity #portrait #andrewbwhite #sonya7iii #pentax50mmf12 #adaptedlens #manualfocus #nycphotographer @nycprimeshot prospectpark @… https://www.instagram.com/p/B-F7T5sJnxY/?igshid=1xsxbnzclhyqp\n",
      "19  :  \"ENEMY/BRAKE OUT POSTER\" Aug 2, 1990 #ILLO #ILLUSTRATION #ILLUSTRATOR #ROCK #MUSIC #CBGB #POSTER #FLYER #GIGPOSTER @Park Slope Historic District https://www.instagram.com/p/B-GfNRJjWpT/?igshid=ouf7g27e422q\n"
     ]
    }
   ],
   "source": [
    "for i in range(10,20):\n",
    "    print(i, ' : ', df.iloc[i].text)"
   ]
  },
  {
   "cell_type": "code",
   "execution_count": 191,
   "metadata": {},
   "outputs": [],
   "source": [
    "rows[1] = [np.NaN,np.NaN,np.NaN,np.NaN,np.NaN,np.NaN,1,1,1,np.NaN]"
   ]
  },
  {
   "cell_type": "code",
   "execution_count": 248,
   "metadata": {},
   "outputs": [
    {
     "data": {
      "text/plain": [
       "10"
      ]
     },
     "execution_count": 248,
     "metadata": {},
     "output_type": "execute_result"
    }
   ],
   "source": [
    "len(rows[1])"
   ]
  },
  {
   "cell_type": "code",
   "execution_count": 193,
   "metadata": {
    "scrolled": false
   },
   "outputs": [
    {
     "name": "stdout",
     "output_type": "stream",
     "text": [
      "20  :  \"EQUITY TAROT\" FORTUNE Jan 22, 2007 ART DIRECTION BY ANN DECKER #ILLO #ILLUSTRATION #ILLUSTRATOR #FORTUNE #TAROT #MONEY #FINANCE #MARKET #FUTURE #ECONOMY #BANK @Park Slope Historic District https://www.instagram.com/p/B-GfavwjNag/?igshid=106d5147rwdp0\n",
      "21  :  \"ESCAPE ARTIST\" NETWORK COMPUTING Oct 3, 2001 ART DIRECTION BY DAVID YAMADA #ILLO #ILLUSTRATION #ILLUSTRATOR #MAGIC #ESCAPE #ARTIST #COMPUTER #HARDWARE #MAGICIAN @Park Slope Historic District https://www.instagram.com/p/B-GfozNDjxh/?igshid=1x4h9rsaul4bs\n",
      "22  :  \"ESTHER DYSON\" ARTBYTE Dec 1, 2000 ART DIRECTION BY MARK DERY #ILLO #ILLUSTRATION #ILLUSTRATOR #TECH #SILICONVALLEY #DYSON #ESTHERDYSON #INTERNET #DEITY #LOTUS @Park Slope Historic District https://www.instagram.com/p/B-Gf9PwjdUa/?igshid=1phqo2b40q7it\n",
      "23  :  \"E.T. BICYCLE CRASH\" THE WALL STREET JOURNAL Apr 2, 2002 ART DIRECTION BY ERIN FAHRINGER #ILLO #ILLUSTRATION #ILLUSTRATOR #CINEMA #FILM #MOVIE #SPIELBERG #EXTRATERRESTRIAL @Park Slope Historic District https://www.instagram.com/p/B-GgNXaDvDE/?igshid=ecg9ur0actxa\n",
      "24  :  \"ETHNIC CHOW\" NEW YORK MAGAZINE Apr 7, 1998 ART DIRECTION BY AMY HELIN #ILLO #ILLUSTRATION #ILLUSTRATOR #FOOD #CUISINE #ETHNIC @Park Slope Historic District https://www.instagram.com/p/B-GgWOVD3LR/?igshid=tkulf18dot0g\n",
      "25  :  \"EVICTION\" PORTLAND MERCURY Oct 11, 2006 ART DIRECTION BY EZRA ACE CARAEFF #ILLO #ILLUSTRATION #ILLUSTRATOR #TENANT #LANDLORD #EVICTION #RENT #HOMELESS #MOTHER #CHILD #PARENT @Park Slope Historic District https://www.instagram.com/p/B-Ggq-5DiYS/?igshid=kbx6ytctat9t\n",
      "26  :  \"EYE IN THE SKY\" SAN FRANCISCO BAY GUARDIAN Jan 14, 2013 ART DIRECTION BY BROOKE ROBERTSON #ILLO #ILLUSTRATION #ILLUSTRATOR #SURVEILLANCE #CAMERA #PRIVACY #PUBLIC #PRIVATE #EYE #SPY @Park Slope Historic District https://www.instagram.com/p/B-Gg4WMjLeE/?igshid=1665ypm8chrtm\n",
      "27  :  \"ECCE BOZO\" FALSE VIRGINS POSTER Jul 13, 1990 ART DIRECTION BY DAVID AARON CLARK #ILLO #ILLUSTRATION #ILLUSTRATOR #ROCK #MUSIC #CBGB #POSTER #FLYER #GIGPOSTER #JESUS #CHRIST #CRUCIFIXION #CLOWN @Park… https://www.instagram.com/p/B-GhHxDDRfz/?igshid=y28tlevip2j2\n",
      "28  :  \"FLOATING BABY\" FALSE VIRGINS POSTER Jun 1, 1992 ART DIRECTION BY DAVID AARON CLARK #ILLO #ILLUSTRATION #ILLUSTRATOR #ROCK #MUSIC #CBGB #POSTER #FLYER #GIGPOSTER @Park Slope Historic District https://www.instagram.com/p/B-GhQbNj4Oo/?igshid=14yt3ye0zta1s\n",
      "29  :  \"MADONNA AND CHILD\" FALSE VIRGINS POSTER Aug 2, 1990 ART DIRECTION BY DAVID AARON CLARK #ILLO #ILLUSTRATION #ILLUSTRATOR #ROCK #MUSIC #CBGB #POSTER #FLYER #GIGPOSTER @Park Slope Historic District https://www.instagram.com/p/B-GhaoOjjn7/?igshid=p6zghyvghao\n"
     ]
    }
   ],
   "source": [
    "for i in range(20,30):\n",
    "    print(i, ' : ', df.iloc[i].text)"
   ]
  },
  {
   "cell_type": "code",
   "execution_count": 194,
   "metadata": {},
   "outputs": [],
   "source": [
    "rows[2] = [np.NaN,np.NaN,np.NaN,np.NaN,np.NaN,np.NaN,np.NaN,np.NaN,np.NaN,np.NaN]"
   ]
  },
  {
   "cell_type": "code",
   "execution_count": 249,
   "metadata": {},
   "outputs": [
    {
     "data": {
      "text/plain": [
       "10"
      ]
     },
     "execution_count": 249,
     "metadata": {},
     "output_type": "execute_result"
    }
   ],
   "source": [
    "len(rows[2])"
   ]
  },
  {
   "cell_type": "code",
   "execution_count": 196,
   "metadata": {
    "scrolled": false
   },
   "outputs": [
    {
     "name": "stdout",
     "output_type": "stream",
     "text": [
      "30  :  \"WOTAN\" FALSE VIRGINS POSTER Nov 24, 1990 ART DIRECTION BY DAVID AARON CLARK #ILLO #ILLUSTRATION #ILLUSTRATOR #ROCK #MUSIC #CBGB #POSTER #FLYER #GIGPOSTER @Park Slope Historic District https://www.instagram.com/p/B-GhmE9j3EN/?igshid=ny088tpv3ky7\n",
      "31  :   50 Copies of A GOOD MARRIAGE are up for grabs on Goodsreads right now! (closes March 27th; link in bio) And entering is an EXCELLENT quarantine distraction! So glad to hear you were a winner last time… https://www.instagram.com/p/B-HeZAuACQj/?igshid=lp1p30klaof\n",
      "32  :  e v e r y t h i n g. w a s. b l u e. @Prospect Park - East Drive https://www.instagram.com/p/B-H_Vwwlc62/?igshid=1o8ztbdxidtow\n",
      "33  :  lunch break with – at Prospect Park\n",
      "34  :  Tough to cash out when it was so far down from 900+. I did similar. Stings but so much uncertainty right now. Appreciate your honesty.\n",
      "35  :  #geese #canadageese #prospectpark #prospectparkalliance #nature #spring #brooklyn #newyorkcity #portrait #andrewbwhite #sonya7iii #pentax50mmf12 #adaptedlens #manualfocus #nycphotographer @nycprimeshot prospect @… https://www.instagram.com/p/B-IhUd_pZze/?igshid=1oo34wevx0xph\n",
      "36  :  #ducks #prospectpark #prospectparkalliance #nature #spring #brooklyn #newyorkcity #portrait #andrewbwhite #sonya7iii #pentax50mmf12 #adaptedlens #manualfocus #nycphotographer @nycprimeshot prospect @Prospect Park https://www.instagram.com/p/B-Iht-vJPT6/?igshid=iaxyabhoxaho\n",
      "37  :  Is spring coming soon?. . #chihuahualove #prospectpark @Prospect Park https://www.instagram.com/p/B-Iikekg79v/?igshid=7yp45d0mrirx\n",
      "38  :  Can someone ID this #duck #prospectpark #prospectparkalliance #nature #spring #brooklyn #newyorkcity #portrait #andrewbwhite #sonya7iii #pentax50mmf12 #adaptedlens #manualfocus #nycphotographer @nycprimeshot… https://www.instagram.com/p/B-Ii_q8piFq/?igshid=1x4dljvznmzaz\n",
      "39  :  Pork katsu on deck and I’m beginning to question how bad quarantine actually is. #cookingwithjohn #alonetogether #fuckthatsdelicious johnnymac15 @Park Slope Historic District https://www.instagram.com/p/B-I45RZD-Bw/?igshid=1gbedx7trbhpk\n"
     ]
    }
   ],
   "source": [
    "for i in range(30,40):\n",
    "    print(i, ' : ', df.iloc[i].text)"
   ]
  },
  {
   "cell_type": "code",
   "execution_count": 197,
   "metadata": {},
   "outputs": [],
   "source": [
    "rows[3] = [np.NaN,np.NaN,np.NaN,np.NaN,np.NaN,np.NaN,np.NaN,np.NaN,np.NaN,np.NaN]"
   ]
  },
  {
   "cell_type": "code",
   "execution_count": 199,
   "metadata": {},
   "outputs": [
    {
     "data": {
      "text/plain": [
       "10"
      ]
     },
     "execution_count": 199,
     "metadata": {},
     "output_type": "execute_result"
    }
   ],
   "source": [
    "len(rows[3])"
   ]
  },
  {
   "cell_type": "code",
   "execution_count": 200,
   "metadata": {
    "scrolled": true
   },
   "outputs": [
    {
     "name": "stdout",
     "output_type": "stream",
     "text": [
      "40  :  Nature is both beautiful and cruel. The last time I was outside was nine days ago but at least I got to enjoy a little spring before isolation! @Brooklyn Botanic Garden https://www.instagram.com/p/B-I8FXxHlWO/?igshid=hfsnry8bxcrc\n",
      "41  :  Did you #goskate on #sunday #sundayfunday #skate #skating #inlineskating #rollerblading #nycskate #icapture_michael_grebinsky #takinoskates #bonesbearings #mpc #mpcwheels #canariam #empireskate… https://www.instagram.com/p/B-JBDWRpkNS/?igshid=1gz1t2ij36mvn\n",
      "42  :   @Prospect Park https://www.instagram.com/p/B-KXPMQg4nOIxwloXKJaQK_BlBCiZ6YjmuKs9M0/?igshid=koslo235aemf\n",
      "43  :  the fact that people are still in prospect park is crazy – at Prospect Park\n",
      "44  :  A fitting James Baldwin quote in Prospect Park this morning – at Prospect Park\n",
      "45  :  Social distancing day! Great day to get fresh air and not have to worry about being too close! @Prospect Park https://www.instagram.com/p/B-KyqTfDZUu/?igshid=qf684wmq4mlu\n",
      "46  :  With NY on lockdown minus some yard time to exercise all of Brooklyn is my park. – at Prospect Park\n",
      "47  :  #SocialDistancing in Brooklyn\n",
      "48  :  It’s very #sad yet not surprising that #SakuraMatsuti at #BrooklynBotanicGarden is #cancelled due to the #Coronavirus #COVID_19. #COVID19 #pandemic #outbreak #viral #virus #infection #disease #Brooklyn #Botanic… https://www.instagram.com/p/B-LZsEcjwlh/?igshid=kpzdb4kfjhl\n",
      "49  :  Don’t you think my shadow is even cuter?. . #chihuahua #prospectpark @Prospect Park https://www.instagram.com/p/B-LjEiUAHzC/?igshid=16oeezanxooid\n"
     ]
    }
   ],
   "source": [
    "for i in range(40,50):\n",
    "    print(i, ' : ', df.iloc[i].text)"
   ]
  },
  {
   "cell_type": "code",
   "execution_count": 201,
   "metadata": {},
   "outputs": [],
   "source": [
    "rows[4] = [np.NaN,0,np.NaN,0,np.NaN,1,np.NaN,np.NaN,np.NaN,np.NaN]"
   ]
  },
  {
   "cell_type": "code",
   "execution_count": 202,
   "metadata": {},
   "outputs": [
    {
     "data": {
      "text/plain": [
       "10"
      ]
     },
     "execution_count": 202,
     "metadata": {},
     "output_type": "execute_result"
    }
   ],
   "source": [
    "len(rows[4])"
   ]
  },
  {
   "cell_type": "code",
   "execution_count": 203,
   "metadata": {
    "scrolled": false
   },
   "outputs": [
    {
     "name": "stdout",
     "output_type": "stream",
     "text": [
      "50  :  Did you #goskate on #tuesday #tuesdayfunday #skate #skating #inlineskating #rollerblading #speedskating #skatingspeedinline #nycskate #icapture_michael_grebinsky #empireskate #wednesdaynightskatenyc… https://www.instagram.com/p/B-L97zNp_nv/?igshid=1bdsord0e5tk4\n",
      "51  :  Just posted a photo @Prospect Park https://www.instagram.com/p/B-MkUi_jSzr/?igshid=hhjpwywag1oe\n",
      "52  :  SMC Pentax 50mm f1.2 shot directly into sunlight (with correct hood). Super sharp and very little flaring. #prospectpark #prospectparkalliance #nature #spring #brooklyn #newyorkcity #portrait #andrewbwhite #sonya7iii… https://www.instagram.com/p/B-M6xPDpGgE/?igshid=yfchnu96l9rk\n",
      "53  :  @thomyorke sorry to bother, but TicketMaster is saying that your concert in NYC this Tuesday is taking place which is crazy and irresponsible. Is there anything you can do? I don’t know who else to contact.\n",
      "54  :  NB: these photos were taken the other week This is another great lens - the Soviet made Jupiter 37A 135mm f3.5 M42 mount. My version is from 1979 and cost $10 at a yard sale. Based on the Carl Zeiss Sonnar 135mm… https://www.instagram.com/p/B-M8NfSJqV8/?igshid=in280d8u70qf\n",
      "55  :  @Ticketmaster get your shit together and cancel all the NYC events. This is not a normal situation. In your website the @thomyorke concert is still happening when the official website says that it’s postponed. Your representatives aren’t giving me the right answer.\n",
      "56  :  In these dark days of social distancing and despair its important to get outside, look up at the sky, feel the sun on your face, feel your breath rhythmical align with that of humanity, and understand that this too… https://www.instagram.com/p/B-NMWTCJJOq/?igshid=s2t2cywg2udr\n",
      "57  :  Kudos to our men and women of the @NYPDnews for keeping us safe during #COVID19 – at Prospect Park\n",
      "58  :  Wearing orange and green, don’t mess with this queen hass_avocado @Brooklyn Botanic Garden https://www.instagram.com/p/B-Nad2KpbTm/?igshid=1fv6yn3veg712\n",
      "59  :  Is barbershop quartet practice in Brooklyn immune from the social distancing order? – at Prospect Park\n"
     ]
    }
   ],
   "source": [
    "for i in range(50,60):\n",
    "    print(i, ' : ', df.iloc[i].text)"
   ]
  },
  {
   "cell_type": "code",
   "execution_count": 204,
   "metadata": {},
   "outputs": [],
   "source": [
    "rows[5] = [0,1,np.NaN,0,np.NaN,1,1,np.NaN,np.NaN,0]"
   ]
  },
  {
   "cell_type": "code",
   "execution_count": 205,
   "metadata": {
    "scrolled": true
   },
   "outputs": [
    {
     "data": {
      "text/plain": [
       "10"
      ]
     },
     "execution_count": 205,
     "metadata": {},
     "output_type": "execute_result"
    }
   ],
   "source": [
    "len(rows[5])"
   ]
  },
  {
   "cell_type": "code",
   "execution_count": 206,
   "metadata": {
    "scrolled": false
   },
   "outputs": [
    {
     "name": "stdout",
     "output_type": "stream",
     "text": [
      "60  :  the shake at the very end kills me // @Mac10colorado – at Prospect Park\n",
      "61  :  What a day – at Prospect Park\n",
      "62  :  Sunshine break with a couple of bike loops and a little sit by the lake. Glad to find some breathing space here today. @Prospect Park https://www.instagram.com/p/B-NmAjmgUPu/?igshid=17uagfh4mu3h5\n",
      "63  :  Lake birds. A nice change from my fire escape doves! @Prospect Park https://www.instagram.com/p/B-NmY99AE0y/?igshid=13swyb08t80sf\n",
      "64  :  Uphill, with cherry blossoms @Prospect Park https://www.instagram.com/p/B-Nmhi5gy-6/?igshid=1vnh9hv516j2b\n",
      "65  :  Spring is still beautiful even during a nasty virus, though quickly viewed through a short walk through #prospectpark today. (We haven’t been out of the house for days). Such a strange experience with social… https://www.instagram.com/p/B-NzB1pnb5G/?igshid=14fjfz0a8jtom\n",
      "66  :  Sanity walk... I love long shadows... #sanitywalk #quarantine #brooklyn #springtime #chirpingbirds @Prospect Park https://www.instagram.com/p/B-N-pQLnU62/?igshid=4rtz4rkab7yc\n",
      "67  :  Random sketch: Palmer Eldritch #ILLO #ILLUSTRATION #ILLUSTRATOR #COMICS @Park Slope Historic District https://www.instagram.com/p/B-OTAIzjzob/?igshid=19ph5h409ga2z\n",
      "68  :  Random sketch: Octobriana #ILLO #ILLUSTRATION #ILLUSTRATOR #COMICS @Park Slope Historic District https://www.instagram.com/p/B-OTEiMjaXf/?igshid=1j7f0yb7xy3n2\n",
      "69  :  Random sketch: Doctor Doom #ILLO #ILLUSTRATION #ILLUSTRATOR #COMICS @Park Slope Historic District https://www.instagram.com/p/B-OTMLSjoWH/?igshid=dr03u1h77tls\n"
     ]
    }
   ],
   "source": [
    "for i in range(60,70):\n",
    "    print(i, ' : ', df.iloc[i].text)"
   ]
  },
  {
   "cell_type": "code",
   "execution_count": 207,
   "metadata": {},
   "outputs": [],
   "source": [
    "rows[6] = [np.NaN,np.NaN,1,0,np.NaN,np.NaN,np.NaN,np.NaN,np.NaN,np.NaN]"
   ]
  },
  {
   "cell_type": "code",
   "execution_count": 208,
   "metadata": {
    "scrolled": true
   },
   "outputs": [
    {
     "data": {
      "text/plain": [
       "10"
      ]
     },
     "execution_count": 208,
     "metadata": {},
     "output_type": "execute_result"
    }
   ],
   "source": [
    "len(rows[6])"
   ]
  },
  {
   "cell_type": "code",
   "execution_count": 209,
   "metadata": {
    "scrolled": false
   },
   "outputs": [
    {
     "name": "stdout",
     "output_type": "stream",
     "text": [
      "70  :  To the doctors, nurses, nurse practitioners, orderlies, physician assistants, lab technicians, hospital cleaning staff and all other medical professionals saving the world: THANK YOU for risking everything for all… https://www.instagram.com/p/B-PmiFCAmQ9/?igshid=1dcxlmw2s3klg\n",
      "71  :  Reading about the neurodivergent brain and how to get better at work. I don’t have Asperger’s (that I know of lol) but I since ADHD is debated as being on the spectrum I figure something will be useful for my hyper focused – at Prospect Park (Nethermead)\n",
      "72  :  Social Distancing Prospect Park Trail and Meadows run @Prospect Park https://www.instagram.com/p/B-PyNMjpwCl/?igshid=17o81gykt9ns6\n",
      "73  :  Drops of pink @Park Slope Historic District https://www.instagram.com/p/B-PzyPzgZsG/?igshid=kzdx092oo3es\n",
      "74  :  SOUND ON – at Prospect Park\n",
      "75  :  Spring shall wait for no man (or virus!), gorgeous cascades of blossoms for the spirit. – at Prospect Park\n",
      "76  :   @Prospect Park https://www.instagram.com/p/B-QTeQfj5Rn/?igshid=11qg64ys5l0dx\n",
      "77  :  SOUND ON. Park Slope cheering during the shift change at Methodist Hospital #covid19 #healthcareheros @Park Slope Historic District https://www.instagram.com/p/B-QTpMlnG06/?igshid=1ggoulp4bu9h7\n",
      "78  :  Amazing warm 17 degree Spring day... air so clean and warm. What a treat after 4 days inside during the daytime, only doing night walks, nice as they were. – at Long Meadow\n",
      "79  :  Nature always finds a way #crownheightsparents ##brooklyn #coronawut #cherryblossom @Brooklyn Botanic Garden https://www.instagram.com/p/B-QWXFlnkNN/?igshid=j5z7i6c6p1g5\n"
     ]
    }
   ],
   "source": [
    "for i in range(70,80):\n",
    "    print(i, ' : ', df.iloc[i].text)"
   ]
  },
  {
   "cell_type": "code",
   "execution_count": 210,
   "metadata": {},
   "outputs": [],
   "source": [
    "rows[7] = [np.NaN,np.NaN,1,np.NaN,np.NaN,np.NaN,1,np.NaN,np.NaN,np.NaN]"
   ]
  },
  {
   "cell_type": "code",
   "execution_count": 211,
   "metadata": {
    "scrolled": true
   },
   "outputs": [
    {
     "data": {
      "text/plain": [
       "10"
      ]
     },
     "execution_count": 211,
     "metadata": {},
     "output_type": "execute_result"
    }
   ],
   "source": [
    "len(rows[7])"
   ]
  },
  {
   "cell_type": "code",
   "execution_count": 212,
   "metadata": {
    "scrolled": false
   },
   "outputs": [
    {
     "name": "stdout",
     "output_type": "stream",
     "text": [
      "80  :  #newnormal day 12 Came up with a new word on my bike ride tonight: disassion (dis-ˈSA-shən) The compassion between strangers that arises in times of disaster. People are just nicer to… https://www.instagram.com/p/B-QbOQ8joZg89bz7HcHTDibLHb4bjkwAt0F29E0/?igshid=18kh1ebspnh57\n",
      "81  :  My adventures to New York. Brooklyn. Prospect park October 31st-November 4th 2019 – at Prospect Park\n",
      "82  :  standing on my first bourgeois bread line (@Grand Army Plaza Greenmarket - @gapgreenmarket in Brooklyn, NY)\n",
      "83  :  Some empty #streets in #parkslope #brooklyn @Park Slope Historic District https://www.instagram.com/p/B-R3NFbDsRy/?igshid=1wanrn35h027o\n",
      "84  :  #newnormal day 13 Pretty much sums up my plans for the day. How ‘bout you? @Park Slope Historic District https://www.instagram.com/p/B-R3xjcDyqqi9o954v7z08ymMmQXAIrR1ET60Y0/?igshid=1jfi7adi03oz8\n",
      "85  :  If you’re in NYC & thinking about going to your local @GrowNYC farmers market, they are social distancing and the queues move fairly fast. I just picked up kimchi, some herb plants, a gorgeous golden cabbage &amp; several other veg. We can still eat healthy while staying home! – at Grand Army Plaza Greenmarket\n",
      "86  :  We will go back to our ordinary chaos. In this together #tomanymorememories @Somewhere Over The Rainbow https://www.instagram.com/p/B-SYXsBjsh7/?igshid=4e8kx8v4lzmp\n",
      "87  :  Many have reached out to check on us during this time. New York has been severely impacted by the situation, and we’ve lost so many. I know dark times are now and ahead, but it’s given me hope to see communities… https://www.instagram.com/p/B-Sz_A6lDRQ/?igshid=103bafsibz2wg\n",
      "88  :  Throwbacks @Park Slope Historic District https://www.instagram.com/p/B-TF6NCA_Rw/?igshid=ihral9kgpirr\n",
      "89  :  johnnymac15 crushing it. #brooklynlockdown #nom @Park Slope Historic District https://www.instagram.com/p/B-TKZwODPOa/?igshid=vgjg0v61hjoh\n"
     ]
    }
   ],
   "source": [
    "for i in range(80,90):\n",
    "    print(i, ' : ', df.iloc[i].text)"
   ]
  },
  {
   "cell_type": "code",
   "execution_count": 213,
   "metadata": {},
   "outputs": [],
   "source": [
    "rows[8] = [np.NaN,np.NaN,np.NaN,1,np.NaN,np.NaN,np.NaN,1,np.NaN,np.NaN]"
   ]
  },
  {
   "cell_type": "code",
   "execution_count": 214,
   "metadata": {
    "scrolled": true
   },
   "outputs": [
    {
     "data": {
      "text/plain": [
       "10"
      ]
     },
     "execution_count": 214,
     "metadata": {},
     "output_type": "execute_result"
    }
   ],
   "source": [
    "len(rows[8])"
   ]
  },
  {
   "cell_type": "code",
   "execution_count": 215,
   "metadata": {
    "scrolled": false
   },
   "outputs": [
    {
     "name": "stdout",
     "output_type": "stream",
     "text": [
      "90  :   . . – at Prospect Park\n",
      "91  :  Running in the rain @Prospect Park https://www.instagram.com/p/B-Um_srpbxf/?igshid=1n3gbod53gv7d\n",
      "92  :  #StayAtHomeAndStaySafe #stayhome #CoronaUpdate #COVID19 #CovidNYC #COVIDIDIOTS – at Prospect Park\n",
      "93  :  Lazy Sunday working. #cindylouwho #pupstagram #dogsofbrooklyn #brooklynlockdown @Park Slope Historic District https://www.instagram.com/p/B-U6I0VjbMK/?igshid=m1hams0jxwnp\n",
      "94  :  Quarantine or not, Brooklyn brunches on Sundays. #brooklynlockdown #nom johnnymac15 @Park Slope Historic District https://www.instagram.com/p/B-U8_rzDotc/?igshid=17n024qf3laq5\n",
      "95  :  Quarantine got you down? If all else fails, bake a bright pink cake. There are so few things in life for which there is no downside. This is one of them. #ParkSlopeSundays #quarantinelife #author #baking… https://www.instagram.com/p/B-VFl6sAP92/?igshid=sgkdbnb7gso4\n",
      "96  :  I'm at Prospect Park - @nycparks in Brooklyn, NY w/ @evelinechao\n",
      "97  :  #prospectpark #propectparkzoo #weathervane #brooklyn #newyorkcity #portrait #andrewbwhite #jupiter37a #adaptedlens #manualfocus #nycphotographer @nycprimeshot #nycphotography @Prospect Park https://www.instagram.com/p/B-VSFXYJy-n/?igshid=1xlepria2d42d\n",
      "98  :  Do you remember when you joined Twitter? I do! #MyTwitterAnniversary – at Prospect Park\n",
      "99  :  Quarantine dream. #cindylouwho #brooklynlockdown #brooklynlockdown #minidach #dogsofbrooklyn @Park Slope Historic District https://www.instagram.com/p/B-V9FBfj1p_/?igshid=10cuspsr6wujv\n"
     ]
    }
   ],
   "source": [
    "for i in range(90,100):\n",
    "    print(i, ' : ', df.iloc[i].text)"
   ]
  },
  {
   "cell_type": "code",
   "execution_count": 216,
   "metadata": {},
   "outputs": [],
   "source": [
    "rows[9] = [np.NaN,1,np.NaN,np.NaN,np.NaN,np.NaN,np.NaN,np.NaN,np.NaN,np.NaN]"
   ]
  },
  {
   "cell_type": "code",
   "execution_count": 217,
   "metadata": {
    "scrolled": true
   },
   "outputs": [
    {
     "data": {
      "text/plain": [
       "10"
      ]
     },
     "execution_count": 217,
     "metadata": {},
     "output_type": "execute_result"
    }
   ],
   "source": [
    "len(rows[9])"
   ]
  },
  {
   "cell_type": "code",
   "execution_count": 218,
   "metadata": {
    "scrolled": false
   },
   "outputs": [
    {
     "name": "stdout",
     "output_type": "stream",
     "text": [
      "100  :  HOW TO KEEP YOUR WIFE INTERESTED FOR 99.5 YEARS! #interestedforyears #relationships http://bit.ly/1gyiyfc\n",
      "101  :  Strange that s and x are excluded from this.\n",
      "102  :  @NYGovCuomo Hello, I am a dentist and submitted my email offering help several days back but have not yet heard how I can help. My private practice is closed, have now recovered from the virus(previously was positive), and want to be at front line helping. Tell me how to help!\n",
      "103  :  02'2020 Brooklyn Botanic Garden. Thinking of you New York . @farahsosa . . . . . . . . . . . . . . #brooklynbotanicagarden #brooklynny #nyc #iloveny #newyork #precovid19 #onlocation #photoshoots… https://www.instagram.com/p/B-XoULxAtST/?igshid=17r8on8p5ynq4\n",
      "104  :  Agreed only in part. What pressure would a board face if it hoarded cash reserves without distributing a dollar nor using it for “strategic” acquisitions? The market would not accept it. Stock would trade at a discount. An activist fund would take position and create pressure.\n",
      "105  :  I had so much fun running around Prospect Park with my #altraredteam teammates @eltigre1167 and @simplyalexny and @altrarunning elites, @Merejune3 and @jasonschlarb while they were in the city scouting art,… https://www.instagram.com/p/B-X4ipAn35K/?igshid=xcl08qm0hod9\n",
      "106  :  Catching up on Daytrotter sessions https://www.pastemagazine.com/daytrotter\n",
      "107  :  “Waiting for #spring at #home “ #stayhome #stayathome #staysafe #corona . . . #prospectpark #brooklyn #newyork #newyorkcity #nyc #usa #instagram #timeoutnewyork #newyorker #newyorklife #netgeotravel #filmeditor… https://www.instagram.com/p/B-aA7hDDEel/?igshid=kc7v2vezpo8a\n",
      "108  :  #WorkFromHome #COVID19 – at Prospect Park\n",
      "109  :  I don’t know what I did to deserve this! A long time Internet friend just sent this to me. I tried to pick it up at the post office last week and it was so crowded & I was having anxiety being too close to… https://www.instagram.com/p/B-aYis-HPzm/?igshid=18ks90hc0zb1p\n"
     ]
    }
   ],
   "source": [
    "for i in range(100,110):\n",
    "    print(i, ' : ', df.iloc[i].text)"
   ]
  },
  {
   "cell_type": "code",
   "execution_count": 219,
   "metadata": {},
   "outputs": [],
   "source": [
    "rows[10] = [np.NaN,np.NaN,np.NaN,np.NaN,np.NaN,0,np.NaN,0,np.NaN,np.NaN]"
   ]
  },
  {
   "cell_type": "code",
   "execution_count": 220,
   "metadata": {
    "scrolled": true
   },
   "outputs": [
    {
     "data": {
      "text/plain": [
       "10"
      ]
     },
     "execution_count": 220,
     "metadata": {},
     "output_type": "execute_result"
    }
   ],
   "source": [
    "len(rows[10])"
   ]
  },
  {
   "cell_type": "code",
   "execution_count": 221,
   "metadata": {
    "scrolled": false
   },
   "outputs": [
    {
     "name": "stdout",
     "output_type": "stream",
     "text": [
      "110  :  Unreal. Would love to know thoughts !\n",
      "111  :  You can give thoughts now, just can’t spoil the plot :)\n",
      "112  :  Good trick for social distancing outside: go when it’s a miserable cold gray overcast evening. No one else will be there. @Prospect Park https://www.instagram.com/p/B-a0rIPBRWp/?igshid=ukwy4h2iap32\n",
      "113  :  #newnormal day 16 Yesterday I woke up at 3pm and today I found my cereal bowl in the freezer where I had put it two hours earlier cuz my cereal wasn’t cold enough and then immediately… https://www.instagram.com/p/B-bKDL-jsFX-C6rUUkCUERYwyExLgWypJXAyBk0/?igshid=m8hk2sglbatd\n",
      "114  :  I feel like I stepped into the Secret Garden today @prospect_park. Just me and the birds, hoping #SocialDistance messaging has finally sunk in. – at Vale of Cashmere\n",
      "115  :  Someone forgot to tell them about social distancing! #quarantine #SocialDistancing #COVID19 – at Prospect Park\n",
      "116  :  taint sunning in PPE – at Prospect Park\n",
      "117  :  Don’t worry BK, I have this little Gargoyle dude looking out for us. be good. – at Prospect Park\n",
      "118  :  If you can, take a walk or a run in the park near you to relax. It's very important to get fresh air to release stress and anxiety. Reply below what you're doing to maintain a healthy lifestyle. #photography – at Prospect Park\n",
      "119  :  “April hath put a spirit of youth in everything” (Sonnet XVVIII) ~ William Shakespeare Nothing like being ensconced in nature ~ hope this inspires and uplifts Wishing you all a Happy April 1st staying safe and… https://www.instagram.com/p/B-cbxvgJVRB/?igshid=1kgonkm1l733k\n"
     ]
    }
   ],
   "source": [
    "for i in range(110,120):\n",
    "    print(i, ' : ', df.iloc[i].text)"
   ]
  },
  {
   "cell_type": "code",
   "execution_count": 222,
   "metadata": {},
   "outputs": [],
   "source": [
    "rows[11] = [np.NaN,np.NaN,1,np.NaN,1,0,np.NaN,np.NaN,np.NaN,np.NaN]"
   ]
  },
  {
   "cell_type": "code",
   "execution_count": 223,
   "metadata": {
    "scrolled": true
   },
   "outputs": [
    {
     "data": {
      "text/plain": [
       "10"
      ]
     },
     "execution_count": 223,
     "metadata": {},
     "output_type": "execute_result"
    }
   ],
   "source": [
    "len(rows[11])"
   ]
  },
  {
   "cell_type": "code",
   "execution_count": 224,
   "metadata": {
    "scrolled": false
   },
   "outputs": [
    {
     "name": "stdout",
     "output_type": "stream",
     "text": [
      "120  :  Brooklyn Gem. – at Prospect Park\n",
      "121  :  Great walk through Prospect Park on way to bank to get cash for dry cleaner — I’ve left tons o’clothes there since pre-pandemic. . Beautiful outside. But I feel stressed when people don’t observe social distancing… https://www.instagram.com/p/B-dZv9WBwI1/?igshid=zr7p5sm1dtgg\n",
      "122  :  The sun finally came out with the flowers The streets here in NYC are empty: we're inside scared, or depressed, or worse: SICK. Some have access to 2nd homes &amp; got out of town, the rest of us finally opened our windows &amp; let this sun in – at Prospect Park\n",
      "123  :  The first story in “Welcome to the Monkey House,” (mainly about an encyclopedia salesman and some clams) was not enthusiastically-received. @Park Slope Historic District https://www.instagram.com/p/B-drW2jj4xj/?igshid=1gq1t71ivbej8\n",
      "124  :  July, 2019. #film #kodaktrix400 #canonnewf1 #canonfd35mmf2 #noritsuls600 @Prospect Park Ravine https://www.instagram.com/p/B-du_jAFjlU/?igshid=wz7y670vlnfe\n",
      "125  :  a lot has changed, but, spring is still springing. @Prospect Park https://www.instagram.com/p/B-e_GLMhbtX/?igshid=1f81ur9bpywjk\n",
      "126  :  You said “That’s a crocus,” And I said, \"What's a crocus?\" and you said, \"It's a flower, \" I tried to remember, but I said, \"What's a flower?\" #tbt @Brooklyn Botanic Garden https://www.instagram.com/p/B-fBNNvn8z2/?igshid=1g1rpjsy2i8wh\n",
      "127  :  New availability! 937sf western facing two bedroom with massive private terrace right next to Prospect Park and B/Q/S trains. Two exposures and amazing natural light. Available for early June move in: $3,750. Free… https://www.instagram.com/p/B-fDiXKjnR6/?igshid=gcnrjk5se9xn\n",
      "128  :  daily julius – at Prospect Park\n",
      "129  :  Tonight I went to a roller disco party in Brooklyn and was really excited when my skates matched my top! Friends, always splurge for the wrist guards. Falling hurts, but falling without them hurts more. No, no, I’m… https://www.instagram.com/p/B-fvKVLHEB1/?igshid=1ek1obaz9twhn\n"
     ]
    }
   ],
   "source": [
    "for i in range(120,130):\n",
    "    print(i, ' : ', df.iloc[i].text)"
   ]
  },
  {
   "cell_type": "code",
   "execution_count": 225,
   "metadata": {},
   "outputs": [],
   "source": [
    "rows[12] = [np.NaN,0,np.NaN,np.NaN,np.NaN,np.NaN,np.NaN,np.NaN,np.NaN,0]"
   ]
  },
  {
   "cell_type": "code",
   "execution_count": 226,
   "metadata": {
    "scrolled": true
   },
   "outputs": [
    {
     "data": {
      "text/plain": [
       "10"
      ]
     },
     "execution_count": 226,
     "metadata": {},
     "output_type": "execute_result"
    }
   ],
   "source": [
    "len(rows[12])"
   ]
  },
  {
   "cell_type": "code",
   "execution_count": 227,
   "metadata": {
    "scrolled": false
   },
   "outputs": [
    {
     "name": "stdout",
     "output_type": "stream",
     "text": [
      "130  :  #ents #lordoftherings #tolkein #superheroes @Prospect Park https://www.instagram.com/p/B-fxPMjFLU8/?igshid=qg2tvn35b7hu\n",
      "131  :  \"So ends a fair day in wrath\" - Pippin, #lordoftherings #jrrtolkien #sunset #treesofinstagram @Prospect Park https://www.instagram.com/p/B-f43ymlPNd/?igshid=5byzbdyl8pty\n",
      "132  :  Wednesday’s solitary sanity walk in the park... #sanitywalk #solitarywalk #springvibes #alonetogether #prospectpark #brooklyn #latergram @Prospect Park https://www.instagram.com/p/B-gu1HdnVNT/?igshid=13wlcke03xn8h\n",
      "133  :  Give a monkey a southern governor and he’ll believe he’s the center of the universe. And endanger us all. @fishbonesoldier soundtrack to my Brooklyn psych-survival walk.… https://www.instagram.com/p/B-hQ8M2g8LZAFzTi3AV4L1SW7irU1mdOut0pI40/?igshid=1pdjtclg6n416\n",
      "134  :  Near our backyard. Desperate for fresh air and a stroll. He told me it’d peaked spring while I’ve been indoors. Keeping far away from other humans. But miss the dogs. Can’t wait to feel again as happy and prosperous… https://www.instagram.com/p/B-hXR0HFQsD/?igshid=iiewr955pxox\n",
      "135  :  Dreaming of days amidst such breathtaking blooms @brooklynbotanic #stayhome #socialdistancing #spring #blooms #cherryblossom #brooklyn @Brooklyn Botanic Garden https://www.instagram.com/p/B-h923_JXS8/?igshid=fn7bi4c2fwq\n",
      "136  :  HBD Marlon Brando, born April 3, 1924. Illo for Nathan Rabin's \"My Year of Flops,\" 10/29/07, art direction by Rex Bonomelli. #illo #illustrator #illustration #comics #brando #drmoreau #gazoo @Park Slope Historic… https://www.instagram.com/p/B-iHHd7jbas/?igshid=78leq63z50bc\n",
      "137  :  Captain Kleenex reporting for doodie\n",
      "138  :  #SpringFlowers – at Prospect Park Lake\n",
      "139  :  Friday dog walkin’ – at Prospect Park\n"
     ]
    }
   ],
   "source": [
    "for i in range(130,140):\n",
    "    print(i, ' : ', df.iloc[i].text)"
   ]
  },
  {
   "cell_type": "code",
   "execution_count": 228,
   "metadata": {},
   "outputs": [],
   "source": [
    "rows[13] = [np.NaN,np.NaN,1,np.NaN,1,1,np.NaN,np.NaN,np.NaN,np.NaN]"
   ]
  },
  {
   "cell_type": "code",
   "execution_count": 229,
   "metadata": {
    "scrolled": true
   },
   "outputs": [
    {
     "data": {
      "text/plain": [
       "10"
      ]
     },
     "execution_count": 229,
     "metadata": {},
     "output_type": "execute_result"
    }
   ],
   "source": [
    "len(rows[13])"
   ]
  },
  {
   "cell_type": "code",
   "execution_count": 230,
   "metadata": {
    "scrolled": false
   },
   "outputs": [
    {
     "name": "stdout",
     "output_type": "stream",
     "text": [
      "140  :  I am very aware of my surroundings and I try to give more than enough space to those around me... If someone is standing at the corner and I’m about to reach them, I will wait... If I am walking down the street and… https://www.instagram.com/p/B-iZiMunA40/?igshid=12pvxiw2q12hb\n",
      "141  :   #socialdistancing #keepyourdistance #springvibes #blooms #prospectpark #sanitywalk #alonetogether @Prospect Park https://www.instagram.com/p/B-iaz4_Hmq_/?igshid=7ed396e1abfh\n",
      "142  :  Can you dm me why without a spoiler ? This is such a bummer to read :/\n",
      "143  :  Ok then will pass. I really appreciate you keeping mum. So bummed to hear it.\n",
      "144  :  Hopefully you had some great moments. But a bummer too that you got to the ending in a day or two. Was hoping for tons of gameplay out of this.\n",
      "145  :  Based on reviews it appears that there are missing gestures on your trackpad ? Will this eventually come to par with apples keyboard?\n",
      "146  :  Empty #street in #parkslope #brooklyn @Park Slope Historic District https://www.instagram.com/p/B-j6vOwjvFD/?igshid=15oxdus0p122m\n",
      "147  :  Where did you pre order from?\n",
      "148  :  Daily bike rides afford me time to appreciate NYC architecture in a way I never have in 26 years. Ocean Ave, Prospect Park adjacent. #QuarantineLife – at Prospect Park\n",
      "149  :  #turtletime @Prospect Park https://www.instagram.com/p/B-kdjOFH_VZ/?igshid=15vj053krxtne\n"
     ]
    }
   ],
   "source": [
    "for i in range(140,150):\n",
    "    print(i, ' : ', df.iloc[i].text)"
   ]
  },
  {
   "cell_type": "code",
   "execution_count": 231,
   "metadata": {},
   "outputs": [],
   "source": [
    "rows[14] = [0,np.NaN,np.NaN,np.NaN,np.NaN,np.NaN,1,np.NaN,np.NaN,np.NaN]"
   ]
  },
  {
   "cell_type": "code",
   "execution_count": 232,
   "metadata": {
    "scrolled": true
   },
   "outputs": [
    {
     "data": {
      "text/plain": [
       "10"
      ]
     },
     "execution_count": 232,
     "metadata": {},
     "output_type": "execute_result"
    }
   ],
   "source": [
    "len(rows[14])"
   ]
  },
  {
   "cell_type": "code",
   "execution_count": 233,
   "metadata": {
    "scrolled": false
   },
   "outputs": [
    {
     "name": "stdout",
     "output_type": "stream",
     "text": [
      "150  :  #swan @Prospect Park https://www.instagram.com/p/B-kd9mFnwwK/?igshid=ptgr90z2bjv\n",
      "151  :  Me.... trying to be Blair Waldorf and just look basic AF #girlslikeus #saturday #saturdayvibes @Prospect Park Parade Grounds https://www.instagram.com/p/B-kgUPYHBPw/?igshid=jlsje84refrb\n",
      "152  :  Really miss unlocking my iPhone with my fingerprint now. #MaskProblems\n",
      "153  :  I was out for about an hour today. I went to the Grand Army Plaza greenmarket, which was well-organized, orderly. @GrowNYC I appreciated that. Also saw lots of runners; not a single one wore a mask. Shouldn’t they wear them too? Only a few cyclists had them on. #OneNewYork – at Grand Army Plaza Greenmarket\n",
      "154  :  These turtles are not properly social distancing – at Prospect Park\n",
      "155  :  Prospect Park / from a distance – at Prospect Park\n",
      "156  :  Spring continues to bloom... Park was definitely not empty, and still too many on the main drive but fewer knuckleheads and people are giving wider berth. I stayed on side paths. @Prospect Park https://www.instagram.com/p/B-kvHabDuvJ/?igshid=i5goy0l11j27\n",
      "157  :  OMG are you KIDDING ME? #aaugh\n",
      "158  :  @DBmovement_ can’t wait to get back at it!! – at Parade Grounds Field 4\n",
      "159  :  @DBmovement_ looking forward to be back out there – at Parade Grounds Field 10\n"
     ]
    }
   ],
   "source": [
    "for i in range(150,160):\n",
    "    print(i, ' : ', df.iloc[i].text)"
   ]
  },
  {
   "cell_type": "code",
   "execution_count": 234,
   "metadata": {},
   "outputs": [],
   "source": [
    "rows[15] = [np.NaN,np.NaN,np.NaN,0,np.NaN,np.NaN,0,np.NaN,np.NaN,np.NaN]"
   ]
  },
  {
   "cell_type": "code",
   "execution_count": 235,
   "metadata": {
    "scrolled": true
   },
   "outputs": [
    {
     "data": {
      "text/plain": [
       "10"
      ]
     },
     "execution_count": 235,
     "metadata": {},
     "output_type": "execute_result"
    }
   ],
   "source": [
    "len(rows[15])"
   ]
  },
  {
   "cell_type": "code",
   "execution_count": 236,
   "metadata": {
    "scrolled": false
   },
   "outputs": [
    {
     "name": "stdout",
     "output_type": "stream",
     "text": [
      "160  :  Sad to miss running citifield today. @SpartanRace @spartanrace thanks to sarsaparilla.susan for talking me into #spartanvirtualsprint we even found stairs. #5k #obstacles @Prospect Park https://www.instagram.com/p/B-k1t_tDHXU/?igshid=169rmt82mfpws\n",
      "161  :  Saturday afternoon April 4 update around 3:45pm. NYC’s Prospect Park #publicspace seems less crowded. More physical distancing. Many with face coverings. Gorgeous day out. Had a solid run. Meditated in the sun. Body needed longer session in our local star light so bad. #COVID19 – at Prospect Park\n",
      "162  :  Did you #goskate on #saturday #saturdayfunday #skate #skating #inlineskating #rollerskating #rollerblading #speedskating #skatingspeedinline #icapture_michael_grebinsky #takinoskates #mpc #empireskate… https://www.instagram.com/p/B-k5fuKppjw/?igshid=1lfvtf9mo3ni9\n",
      "163  :  Here’s what the running trail is like in the park. Plenty of #publicspace to keep over 2 meters distance. #coronavirus #COVID19 – at Prospect Park Loop\n",
      "164  :  Stickball in the Slope @Park Slope Historic District https://www.instagram.com/p/B-k7udlp-Nj/?igshid=1lbubjvi6xx4a\n",
      "165  :  My childhood home 207 Berkeley Place @Park Slope Historic District https://www.instagram.com/p/B-k8D0IJGbp/?igshid=1wci9m634fbpc\n",
      "166  :  Here’s the loop road in Prospect Park #publicspace. Definitely requires agile maneuvering to maintain 2+ meters physical distance. I like the challenge, keeps the act of running more alive. The flowering trees were radiant making most pause in delight. #coronavirus #covid19 – at Prospect Park Loop\n",
      "167  :  I turned location services on for all my apps, because why not?\n",
      "168  :  Brooklyn rush hour - April 4, 2020 @brklynbes @ThePhotoHour @StormHourMark @nycgo @NY1 @News12BK #CoronavirusNewYork #NYCLockdown #COVID19\n",
      "169  :  The New Normal (TNN): Enjoyed a six miles ride today in Prospect Park, while masked and socially distant from everyone including my cycling mate (background lisaah82). #newnormal #covid19nyc #prospectpark #nyc… https://www.instagram.com/p/B-lQ37sBf8a/?igshid=4q5ipx84skr\n"
     ]
    }
   ],
   "source": [
    "for i in range(160,170):\n",
    "    print(i, ' : ', df.iloc[i].text)"
   ]
  },
  {
   "cell_type": "code",
   "execution_count": 237,
   "metadata": {},
   "outputs": [],
   "source": [
    "rows[16] = [np.NaN,1,np.NaN,1,np.NaN,np.NaN,0,np.NaN,np.NaN,1]"
   ]
  },
  {
   "cell_type": "code",
   "execution_count": 238,
   "metadata": {
    "scrolled": true
   },
   "outputs": [
    {
     "data": {
      "text/plain": [
       "10"
      ]
     },
     "execution_count": 238,
     "metadata": {},
     "output_type": "execute_result"
    }
   ],
   "source": [
    "len(rows[16])"
   ]
  },
  {
   "cell_type": "code",
   "execution_count": 239,
   "metadata": {
    "scrolled": false
   },
   "outputs": [
    {
     "name": "stdout",
     "output_type": "stream",
     "text": [
      "170  :  You already beat it ? Finished the whole game? How many hr of gameplay???\n",
      "171  :  Here’s a picture of my family. And sometimes I’ve taken them for granted. But in a time of anxiety and stress, when hearing endless sirens from ambulances, seeing flashing lights through my bedroom window, and… https://www.instagram.com/p/B-lSHWSFTOI/?igshid=1nb700ft6xgv4\n",
      "172  :  Just posted a photo @Prospect Park https://www.instagram.com/p/B-lbFkhjbUm/?igshid=4w08xs3tqx9g\n",
      "173  :  Park Slope peeps 1967 @Park Slope Historic District https://www.instagram.com/p/B-lgi_7J0WB/?igshid=845jb41q55tn\n",
      "174  :  Eastern cottontail, yesterday in @prospect_park – at Prospect Park\n",
      "175  :  #tunnel #prospectpark #brooklyn #newyorkcity #portrait #andrewbwhite #pentax50mmf12 #adaptedlens #manualfocus #nycphotographer @nycprimeshot #nycphotography @Prospect Park https://www.instagram.com/p/B-mmRiepE-o/?igshid=zlxxh6d7s2j0\n",
      "176  :  #redwingedblackbird #prospectpark #nature #brooklyn #newyorkcity #andrewbwhite #jupiter37a #adaptedlens #manualfocus #nycphotographer @nycprimeshot #nycphotography @Prospect Park https://www.instagram.com/p/B-mmtpCJrUd/?igshid=1wh0ono9jdhtn\n",
      "177  :  #redwingedblackbird #nature #prospectpark #brooklyn #newyorkcity #andrewbwhite #jupiter37a #adaptedlens #manualfocus #nycphotographer @nycprimeshot #nycphotography @Prospect Park https://www.instagram.com/p/B-mnQffpItE/?igshid=p1o6kqr823mu\n",
      "178  :  It took a global health crisis to get me on a Citibike. @Prospect Park https://www.instagram.com/p/B-mz7trgAyF/?igshid=wc7p26itlnqe\n",
      "179  :  My dog is bad at social distancing – at Prospect Park\n"
     ]
    }
   ],
   "source": [
    "for i in range(170,180):\n",
    "    print(i, ' : ', df.iloc[i].text)"
   ]
  },
  {
   "cell_type": "code",
   "execution_count": 240,
   "metadata": {},
   "outputs": [],
   "source": [
    "rows[17] = [np.NaN,np.NaN,np.NaN,np.NaN,np.NaN,np.NaN,np.NaN,np.NaN,np.NaN,np.NaN]"
   ]
  },
  {
   "cell_type": "code",
   "execution_count": 241,
   "metadata": {
    "scrolled": true
   },
   "outputs": [
    {
     "data": {
      "text/plain": [
       "10"
      ]
     },
     "execution_count": 241,
     "metadata": {},
     "output_type": "execute_result"
    }
   ],
   "source": [
    "len(rows[17])"
   ]
  },
  {
   "cell_type": "code",
   "execution_count": 242,
   "metadata": {
    "scrolled": false
   },
   "outputs": [
    {
     "name": "stdout",
     "output_type": "stream",
     "text": [
      "180  :  Just think of the future #tanlines #QuarantineDiaries #coronavirus #Queerantine #QuarantineLife #mascsformasks – at Prospect Park\n",
      "181  :  GORGEOUS @Prospect Park Zoo https://www.instagram.com/p/B-m_yAKg99c-pUUeleUtIWO58rq1dLSUZ3wjqo0/?igshid=bbryr2ebm9wv\n",
      "182  :   @Prospect Park https://www.instagram.com/p/B-nCV2PACTtSgm3BUkemRXn2iw5U7uSgBLO-5w0/?igshid=vd10uefb51b0\n",
      "183  :  Neighborhood. #socialdistancing #stayhome #quarantinelife #newyorktough #nyc @Prospect Park https://www.instagram.com/p/B-nFEc6loHx/?igshid=1lrmz5mtbzk0t\n",
      "184  :  \n",
      "185  :  I'm at Prospect Park - @nycparks in Brooklyn, NY w/ @evelinechao\n",
      "186  :  Prospect park is packed right now- not even 25% of people wearing masks! What is wrong with these people – at Prospect Park\n",
      "187  :  Still getting out there – at Prospect Park\n",
      "188  :  Sensational walk with #PeteyPiro this afternoon. . I wish more people were observing the social distancing. It adds a layer of stress to the experience — dodging peeps to maintain that distance when they… https://www.instagram.com/p/B-nY1wyhLj1/?igshid=tdkleozyijhz\n"
     ]
    }
   ],
   "source": [
    "for i in range(180,189):\n",
    "    print(i, ' : ', df.iloc[i].text)"
   ]
  },
  {
   "cell_type": "code",
   "execution_count": 243,
   "metadata": {},
   "outputs": [],
   "source": [
    "rows[18] = [np.NaN,np.NaN,np.NaN,1,np.NaN,np.NaN,0,np.NaN,0]"
   ]
  },
  {
   "cell_type": "code",
   "execution_count": 244,
   "metadata": {
    "scrolled": true
   },
   "outputs": [
    {
     "data": {
      "text/plain": [
       "9"
      ]
     },
     "execution_count": 244,
     "metadata": {},
     "output_type": "execute_result"
    }
   ],
   "source": [
    "len(rows[18])"
   ]
  },
  {
   "cell_type": "code",
   "execution_count": 250,
   "metadata": {},
   "outputs": [],
   "source": [
    "# Initialize our response variable\n",
    "safe = []\n",
    "\n",
    "# Concatenate all our rows into one long column\n",
    "for i in range(0,19):\n",
    "    safe = safe + rows[i]"
   ]
  },
  {
   "cell_type": "code",
   "execution_count": 251,
   "metadata": {},
   "outputs": [
    {
     "data": {
      "text/plain": [
       "189"
      ]
     },
     "execution_count": 251,
     "metadata": {},
     "output_type": "execute_result"
    }
   ],
   "source": [
    "len(safe)"
   ]
  },
  {
   "cell_type": "code",
   "execution_count": 252,
   "metadata": {},
   "outputs": [],
   "source": [
    "df['safe'] = safe"
   ]
  },
  {
   "cell_type": "code",
   "execution_count": 253,
   "metadata": {},
   "outputs": [],
   "source": [
    "# Save our labels\n",
    "df.to_pickle(\"./geotweets_labeled\")"
   ]
  }
 ],
 "metadata": {
  "kernelspec": {
   "display_name": "Python 3",
   "language": "python",
   "name": "python3"
  },
  "language_info": {
   "codemirror_mode": {
    "name": "ipython",
    "version": 3
   },
   "file_extension": ".py",
   "mimetype": "text/x-python",
   "name": "python",
   "nbconvert_exporter": "python",
   "pygments_lexer": "ipython3",
   "version": "3.7.4"
  }
 },
 "nbformat": 4,
 "nbformat_minor": 2
}
