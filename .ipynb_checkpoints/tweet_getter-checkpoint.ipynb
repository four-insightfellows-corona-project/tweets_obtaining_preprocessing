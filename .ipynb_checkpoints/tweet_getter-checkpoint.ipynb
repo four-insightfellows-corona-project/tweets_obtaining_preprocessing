{
 "cells": [
  {
   "cell_type": "markdown",
   "metadata": {},
   "source": [
    "## Obtain tweets geotagged to Prospect Park starting January 2020"
   ]
  },
  {
   "cell_type": "code",
   "execution_count": 1,
   "metadata": {},
   "outputs": [],
   "source": [
    "# Import necessary modules\n",
    "import pandas as pd\n",
    "import numpy as np\n",
    "import tweepy\n",
    "import time\n",
    "\n",
    "# # Twitter API credentials\n",
    "# from auth import (\n",
    "#     api_secret_key,)\n",
    "\n",
    "# # Auths\n",
    "# auth = tweepy.AppAuthHandler(api_key, api_secret_key)\n",
    "# api = tweepy.API(auth, wait_on_rate_limit=True, wait_on_rate_limit_notify=True)"
   ]
  },
  {
   "cell_type": "markdown",
   "metadata": {},
   "source": [
    "### Write dict of strings defining non-overlapping circles that \"partition\" Prospect Park"
   ]
  },
  {
   "cell_type": "code",
   "execution_count": 2,
   "metadata": {},
   "outputs": [],
   "source": [
    "# Tweepy's search function only allows you to search circular areas. \n",
    "# So to obtain all and only the tweets published from within Prospect Park, \n",
    "# we \"partition\" the park into 26 disjoint circles. (Not a true partition \n",
    "# since the tiny areas between the circles are left out.)\n",
    "\n",
    "centers = {0:\"40.671104,-73.968465\",\n",
    "1:\"40.671850,-73.965368\",\n",
    "2:\"40.670769,-73.965293\",\n",
    "3:\"40.669673,-73.971451\",\n",
    "4:\"40.669288,-73.965786\",\n",
    "5:\"40.668409,-73.963533\",\n",
    "6:\"40.664121,-73.969430\",\n",
    "7:\"40.666716,-73.962611\",\n",
    "8:\"40.665301,-73.962074\",\n",
    "9:\"40.664031,-73.962010\",\n",
    "10:\"40.663495,-73.976905\",\n",
    "11:\"40.661436,-73.977198\",\n",
    "12:\"40.660841,-73.963457\",\n",
    "13:\"40.659645,-73.974967\",\n",
    "14:\"40.659025,-73.964253\",\n",
    "15:\"40.659100,-73.966612\",\n",
    "16:\"40.658856,-73.971547\",\n",
    "17:\"40.658343,-73.973121\",\n",
    "18:\"40.655710,-73.968853\",\n",
    "19:\"40.657098,-73.973500\",\n",
    "20:\"40.656878,-73.963422\",\n",
    "21:\"40.655183,-73.963351\",\n",
    "22:\"40.652970,-73.972335\",\n",
    "23:\"40.652125,-73.971362\",\n",
    "24:\"40.651342,-73.967057\",\n",
    "25:\"40.650105,-73.970340\"}\n",
    "\n",
    "radii = {0:\"0.21997km\",\n",
    "         1:\"0.04828km\",\n",
    "         2:\"0.05169km\",\n",
    "         3:\"0.07364km\",\n",
    "         4:\"0.08708km\",\n",
    "         5:\"0.12566km\",\n",
    "         6:\"0.56544km\",\n",
    "         7:\"0.08047km\",\n",
    "         8:\"0.07141km\",\n",
    "         9:\"0.06437km\",\n",
    "         10:\"0.06960km\",\n",
    "         11:\"0.16093km\",\n",
    "         12:\"0.05713km\",\n",
    "         13:\"0.12107km\",\n",
    "         14:\"0.15429km\",\n",
    "         15:\"0.04103km\",\n",
    "         16:\"0.04444km\",\n",
    "         17:\"0.09251km\",\n",
    "         18:\"0.37845km\",\n",
    "         19:\"0.04466km\",\n",
    "         20:\"0.09656km\",\n",
    "         21:\"0.08569km\",\n",
    "         22:\"0.04828km\",\n",
    "         23:\"0.08047km\",\n",
    "         24:\"0.14484km\",\n",
    "         25:\"0.13708km\"}"
   ]
  },
  {
   "cell_type": "markdown",
   "metadata": {},
   "source": [
    "### Create and save a single master dataframe consisting of all the tweets \n",
    "### from Prospect Park since March 1, 2020"
   ]
  },
  {
   "cell_type": "code",
   "execution_count": 3,
   "metadata": {},
   "outputs": [],
   "source": [
    "import GetOldTweets3 as got\n",
    "import datetime as dt\n",
    "import numpy as np"
   ]
  },
  {
   "cell_type": "code",
   "execution_count": 4,
   "metadata": {},
   "outputs": [],
   "source": [
    "today = dt.datetime.now().strftime(\"%Y-%m-%d\")"
   ]
  },
  {
   "cell_type": "code",
   "execution_count": 5,
   "metadata": {},
   "outputs": [],
   "source": [
    "# Store the properties that we use to specify which tweets we are seeking as our request's tweet criteria\n",
    "\n",
    "criteria = {}\n",
    "\n",
    "# For each circle i, record tweet criteria for requesting all tweets published within circle i\n",
    "for i in range(0,26):\n",
    "    \n",
    "    criteria[i] = got.manager.TweetCriteria().setSince(\"2020-01-01\")\\\n",
    "                                               .setUntil(today)\\\n",
    "                                               .setNear(centers[i])\\\n",
    "                                               .setWithin(radii[i])"
   ]
  },
  {
   "cell_type": "code",
   "execution_count": 6,
   "metadata": {},
   "outputs": [],
   "source": [
    "# Initialize an empty dict: tweets. For each circle i, tweets[i] will contain all \n",
    "# tweets published within circle i since January 1, 2020.\n",
    "\n",
    "tweets = {}\n",
    "\n",
    "# Request the tweets and store them in a list: tweets[i]\n",
    "for i in range(0,26):\n",
    "    tweets[i] = got.manager.TweetManager.getTweets(criteria[i])"
   ]
  },
  {
   "cell_type": "code",
   "execution_count": 61,
   "metadata": {
    "scrolled": true
   },
   "outputs": [],
   "source": [
    "# Build a dataframe out of all of our tweets\n",
    "\n",
    "# We will need to convert the timezone to EST (it is UTC by default)\n",
    "import pytz\n",
    "est = pytz.timezone('US/Eastern')\n",
    "\n",
    "# Initialize empty columns\n",
    "dates = []\n",
    "locations = []\n",
    "texts = []\n",
    "\n",
    "for i in range(0,26):\n",
    "    for j in range(0,len(tweets[i])):\n",
    "            dates.append(tweets[i][j].date.astimezone(tz= est))\n",
    "            # If we want dates to be more human parseable, add: .strftime(\"%Y-%m-%d %H:%M:%S\")\n",
    "            locations.append(tweets[i][j].geo)\n",
    "            texts.append(tweets[i][j].text)"
   ]
  },
  {
   "cell_type": "code",
   "execution_count": 62,
   "metadata": {},
   "outputs": [],
   "source": [
    "# Build a dataframe out of all of our tweets: df\n",
    "data = {'date':dates, 'location':locations, 'text':texts}\n",
    "df = pd.DataFrame(data=data)\n",
    "df.date = pd.to_datetime(df.date)\n",
    "\n",
    "# Save what we have so far before we do anything to it\n",
    "df.to_pickle(path=\"./park_tweets_raw.pkl\")\n",
    "\n",
    "# Sort the data by time, but leave date as a column for easy manipulation\n",
    "df = df.set_index('date',drop=False)\n",
    "df = df.sort_index()\n",
    "\n",
    "# Create a column for day of the week\n",
    "df['day_of_week'] = df.date.dt.day_name()\n",
    "\n",
    "# Create a column for the hour\n",
    "df['hour'] = df.date.dt.hour"
   ]
  },
  {
   "cell_type": "code",
   "execution_count": 63,
   "metadata": {},
   "outputs": [
    {
     "name": "stdout",
     "output_type": "stream",
     "text": [
      "<class 'pandas.core.frame.DataFrame'>\n",
      "DatetimeIndex: 1023 entries, 2019-12-31 22:00:04-05:00 to 2020-04-07 15:43:24-04:00\n",
      "Data columns (total 5 columns):\n",
      "date           1023 non-null datetime64[ns, US/Eastern]\n",
      "location       1023 non-null object\n",
      "text           1023 non-null object\n",
      "day_of_week    1023 non-null object\n",
      "hour           1023 non-null int64\n",
      "dtypes: datetime64[ns, US/Eastern](1), int64(1), object(3)\n",
      "memory usage: 88.0+ KB\n"
     ]
    }
   ],
   "source": [
    "df.info()"
   ]
  },
  {
   "cell_type": "code",
   "execution_count": 64,
   "metadata": {},
   "outputs": [
    {
     "data": {
      "text/html": [
       "<div>\n",
       "<style scoped>\n",
       "    .dataframe tbody tr th:only-of-type {\n",
       "        vertical-align: middle;\n",
       "    }\n",
       "\n",
       "    .dataframe tbody tr th {\n",
       "        vertical-align: top;\n",
       "    }\n",
       "\n",
       "    .dataframe thead th {\n",
       "        text-align: right;\n",
       "    }\n",
       "</style>\n",
       "<table border=\"1\" class=\"dataframe\">\n",
       "  <thead>\n",
       "    <tr style=\"text-align: right;\">\n",
       "      <th></th>\n",
       "      <th>date</th>\n",
       "      <th>location</th>\n",
       "      <th>text</th>\n",
       "      <th>day_of_week</th>\n",
       "      <th>hour</th>\n",
       "    </tr>\n",
       "    <tr>\n",
       "      <th>date</th>\n",
       "      <th></th>\n",
       "      <th></th>\n",
       "      <th></th>\n",
       "      <th></th>\n",
       "      <th></th>\n",
       "    </tr>\n",
       "  </thead>\n",
       "  <tbody>\n",
       "    <tr>\n",
       "      <td>2019-12-31 22:00:04-05:00</td>\n",
       "      <td>2019-12-31 22:00:04-05:00</td>\n",
       "      <td></td>\n",
       "      <td>人还很少 #NYE2020 – at Prospect Park</td>\n",
       "      <td>Tuesday</td>\n",
       "      <td>22</td>\n",
       "    </tr>\n",
       "    <tr>\n",
       "      <td>2019-12-31 23:00:44-05:00</td>\n",
       "      <td>2019-12-31 23:00:44-05:00</td>\n",
       "      <td></td>\n",
       "      <td>Baby 出现了，家庭友好的新年庆祝 #NYE2020 #brooklyn #NYC – a...</td>\n",
       "      <td>Tuesday</td>\n",
       "      <td>23</td>\n",
       "    </tr>\n",
       "    <tr>\n",
       "      <td>2019-12-31 23:39:12-05:00</td>\n",
       "      <td>2019-12-31 23:39:12-05:00</td>\n",
       "      <td></td>\n",
       "      <td>Flirty Leo &amp; Aquarius – at Grand Army Plaza Gr...</td>\n",
       "      <td>Tuesday</td>\n",
       "      <td>23</td>\n",
       "    </tr>\n",
       "    <tr>\n",
       "      <td>2019-12-31 23:51:00-05:00</td>\n",
       "      <td>2019-12-31 23:51:00-05:00</td>\n",
       "      <td></td>\n",
       "      <td>\"New Year in Space\" Illo for the Washington Po...</td>\n",
       "      <td>Tuesday</td>\n",
       "      <td>23</td>\n",
       "    </tr>\n",
       "    <tr>\n",
       "      <td>2019-12-31 23:52:13-05:00</td>\n",
       "      <td>2019-12-31 23:52:13-05:00</td>\n",
       "      <td></td>\n",
       "      <td>\"New Year Countdown\" Illo for NEW YORK PRESS D...</td>\n",
       "      <td>Tuesday</td>\n",
       "      <td>23</td>\n",
       "    </tr>\n",
       "  </tbody>\n",
       "</table>\n",
       "</div>"
      ],
      "text/plain": [
       "                                               date location  \\\n",
       "date                                                           \n",
       "2019-12-31 22:00:04-05:00 2019-12-31 22:00:04-05:00            \n",
       "2019-12-31 23:00:44-05:00 2019-12-31 23:00:44-05:00            \n",
       "2019-12-31 23:39:12-05:00 2019-12-31 23:39:12-05:00            \n",
       "2019-12-31 23:51:00-05:00 2019-12-31 23:51:00-05:00            \n",
       "2019-12-31 23:52:13-05:00 2019-12-31 23:52:13-05:00            \n",
       "\n",
       "                                                                        text  \\\n",
       "date                                                                           \n",
       "2019-12-31 22:00:04-05:00                   人还很少 #NYE2020 – at Prospect Park   \n",
       "2019-12-31 23:00:44-05:00  Baby 出现了，家庭友好的新年庆祝 #NYE2020 #brooklyn #NYC – a...   \n",
       "2019-12-31 23:39:12-05:00  Flirty Leo & Aquarius – at Grand Army Plaza Gr...   \n",
       "2019-12-31 23:51:00-05:00  \"New Year in Space\" Illo for the Washington Po...   \n",
       "2019-12-31 23:52:13-05:00  \"New Year Countdown\" Illo for NEW YORK PRESS D...   \n",
       "\n",
       "                          day_of_week  hour  \n",
       "date                                         \n",
       "2019-12-31 22:00:04-05:00     Tuesday    22  \n",
       "2019-12-31 23:00:44-05:00     Tuesday    23  \n",
       "2019-12-31 23:39:12-05:00     Tuesday    23  \n",
       "2019-12-31 23:51:00-05:00     Tuesday    23  \n",
       "2019-12-31 23:52:13-05:00     Tuesday    23  "
      ]
     },
     "execution_count": 64,
     "metadata": {},
     "output_type": "execute_result"
    }
   ],
   "source": [
    "df.head()"
   ]
  },
  {
   "cell_type": "code",
   "execution_count": 65,
   "metadata": {},
   "outputs": [
    {
     "data": {
      "text/html": [
       "<div>\n",
       "<style scoped>\n",
       "    .dataframe tbody tr th:only-of-type {\n",
       "        vertical-align: middle;\n",
       "    }\n",
       "\n",
       "    .dataframe tbody tr th {\n",
       "        vertical-align: top;\n",
       "    }\n",
       "\n",
       "    .dataframe thead th {\n",
       "        text-align: right;\n",
       "    }\n",
       "</style>\n",
       "<table border=\"1\" class=\"dataframe\">\n",
       "  <thead>\n",
       "    <tr style=\"text-align: right;\">\n",
       "      <th></th>\n",
       "      <th>date</th>\n",
       "      <th>location</th>\n",
       "      <th>text</th>\n",
       "      <th>day_of_week</th>\n",
       "      <th>hour</th>\n",
       "    </tr>\n",
       "    <tr>\n",
       "      <th>date</th>\n",
       "      <th></th>\n",
       "      <th></th>\n",
       "      <th></th>\n",
       "      <th></th>\n",
       "      <th></th>\n",
       "    </tr>\n",
       "  </thead>\n",
       "  <tbody>\n",
       "    <tr>\n",
       "      <td>2020-04-07 13:40:27-04:00</td>\n",
       "      <td>2020-04-07 13:40:27-04:00</td>\n",
       "      <td></td>\n",
       "      <td>Just posted a photo @Prospect Park https://www...</td>\n",
       "      <td>Tuesday</td>\n",
       "      <td>13</td>\n",
       "    </tr>\n",
       "    <tr>\n",
       "      <td>2020-04-07 14:09:05-04:00</td>\n",
       "      <td>2020-04-07 14:09:05-04:00</td>\n",
       "      <td></td>\n",
       "      <td>Greetings from Brooklyn, miss you all! Stay sa...</td>\n",
       "      <td>Tuesday</td>\n",
       "      <td>14</td>\n",
       "    </tr>\n",
       "    <tr>\n",
       "      <td>2020-04-07 14:45:51-04:00</td>\n",
       "      <td>2020-04-07 14:45:51-04:00</td>\n",
       "      <td></td>\n",
       "      <td>tuesday jules – at Prospect Park</td>\n",
       "      <td>Tuesday</td>\n",
       "      <td>14</td>\n",
       "    </tr>\n",
       "    <tr>\n",
       "      <td>2020-04-07 15:41:49-04:00</td>\n",
       "      <td>2020-04-07 15:41:49-04:00</td>\n",
       "      <td></td>\n",
       "      <td>@darakass hi dr. Kass. I too am a Brooklyn res...</td>\n",
       "      <td>Tuesday</td>\n",
       "      <td>15</td>\n",
       "    </tr>\n",
       "    <tr>\n",
       "      <td>2020-04-07 15:43:24-04:00</td>\n",
       "      <td>2020-04-07 15:43:24-04:00</td>\n",
       "      <td></td>\n",
       "      <td>Work * at NYU Langone. And have seen the devas...</td>\n",
       "      <td>Tuesday</td>\n",
       "      <td>15</td>\n",
       "    </tr>\n",
       "  </tbody>\n",
       "</table>\n",
       "</div>"
      ],
      "text/plain": [
       "                                               date location  \\\n",
       "date                                                           \n",
       "2020-04-07 13:40:27-04:00 2020-04-07 13:40:27-04:00            \n",
       "2020-04-07 14:09:05-04:00 2020-04-07 14:09:05-04:00            \n",
       "2020-04-07 14:45:51-04:00 2020-04-07 14:45:51-04:00            \n",
       "2020-04-07 15:41:49-04:00 2020-04-07 15:41:49-04:00            \n",
       "2020-04-07 15:43:24-04:00 2020-04-07 15:43:24-04:00            \n",
       "\n",
       "                                                                        text  \\\n",
       "date                                                                           \n",
       "2020-04-07 13:40:27-04:00  Just posted a photo @Prospect Park https://www...   \n",
       "2020-04-07 14:09:05-04:00  Greetings from Brooklyn, miss you all! Stay sa...   \n",
       "2020-04-07 14:45:51-04:00                   tuesday jules – at Prospect Park   \n",
       "2020-04-07 15:41:49-04:00  @darakass hi dr. Kass. I too am a Brooklyn res...   \n",
       "2020-04-07 15:43:24-04:00  Work * at NYU Langone. And have seen the devas...   \n",
       "\n",
       "                          day_of_week  hour  \n",
       "date                                         \n",
       "2020-04-07 13:40:27-04:00     Tuesday    13  \n",
       "2020-04-07 14:09:05-04:00     Tuesday    14  \n",
       "2020-04-07 14:45:51-04:00     Tuesday    14  \n",
       "2020-04-07 15:41:49-04:00     Tuesday    15  \n",
       "2020-04-07 15:43:24-04:00     Tuesday    15  "
      ]
     },
     "execution_count": 65,
     "metadata": {},
     "output_type": "execute_result"
    }
   ],
   "source": [
    "df.tail()"
   ]
  },
  {
   "cell_type": "code",
   "execution_count": 66,
   "metadata": {},
   "outputs": [
    {
     "data": {
      "text/plain": [
       "1"
      ]
     },
     "execution_count": 66,
     "metadata": {},
     "output_type": "execute_result"
    }
   ],
   "source": [
    "# Looks like the location column is empty. Double check.\n",
    "len(pd.unique(df.location))"
   ]
  },
  {
   "cell_type": "code",
   "execution_count": 67,
   "metadata": {},
   "outputs": [],
   "source": [
    "# Get rid of the empty column. \n",
    "# NOTE: We know anyway that these tweets were published from \n",
    "# within Prospect Park. \n",
    "df = df.drop(['location'], axis=1)"
   ]
  },
  {
   "cell_type": "code",
   "execution_count": 68,
   "metadata": {},
   "outputs": [],
   "source": [
    "# Save df to pkl\n",
    "df.to_pickle(path=\"./park_tweets.pkl\")"
   ]
  },
  {
   "cell_type": "code",
   "execution_count": 35,
   "metadata": {},
   "outputs": [],
   "source": [
    "# Reload for new session\n",
    "df = pd.read_pickle(\"./park_tweets.pkl\")"
   ]
  }
 ],
 "metadata": {
  "kernelspec": {
   "display_name": "Python 3",
   "language": "python",
   "name": "python3"
  },
  "language_info": {
   "codemirror_mode": {
    "name": "ipython",
    "version": 3
   },
   "file_extension": ".py",
   "mimetype": "text/x-python",
   "name": "python",
   "nbconvert_exporter": "python",
   "pygments_lexer": "ipython3",
   "version": "3.7.4"
  }
 },
 "nbformat": 4,
 "nbformat_minor": 2
}
