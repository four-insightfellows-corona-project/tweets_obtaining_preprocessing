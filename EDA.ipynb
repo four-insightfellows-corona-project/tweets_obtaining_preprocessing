{
 "cells": [
  {
   "cell_type": "markdown",
   "metadata": {},
   "source": [
    "## EDA on geotagged tweets\n",
    "#### Build basics of extracting key words, sentiments about crowdedness. Label the tweets. Look at frequency of tweets over time. Pay attention to the time the tweet was posted but also when it was referring to. "
   ]
  },
  {
   "cell_type": "code",
   "execution_count": 1,
   "metadata": {},
   "outputs": [],
   "source": [
    "import pandas as pd\n",
    "import numpy as np\n",
    "import datetime as dt"
   ]
  },
  {
   "cell_type": "code",
   "execution_count": 2,
   "metadata": {},
   "outputs": [],
   "source": [
    "df = pd.read_pickle(\"park_tweets.pkl\")"
   ]
  },
  {
   "cell_type": "code",
   "execution_count": 3,
   "metadata": {},
   "outputs": [
    {
     "data": {
      "text/html": [
       "<div>\n",
       "<style scoped>\n",
       "    .dataframe tbody tr th:only-of-type {\n",
       "        vertical-align: middle;\n",
       "    }\n",
       "\n",
       "    .dataframe tbody tr th {\n",
       "        vertical-align: top;\n",
       "    }\n",
       "\n",
       "    .dataframe thead th {\n",
       "        text-align: right;\n",
       "    }\n",
       "</style>\n",
       "<table border=\"1\" class=\"dataframe\">\n",
       "  <thead>\n",
       "    <tr style=\"text-align: right;\">\n",
       "      <th></th>\n",
       "      <th>date</th>\n",
       "      <th>text</th>\n",
       "      <th>day_of_week</th>\n",
       "      <th>hour</th>\n",
       "    </tr>\n",
       "    <tr>\n",
       "      <th>date</th>\n",
       "      <th></th>\n",
       "      <th></th>\n",
       "      <th></th>\n",
       "      <th></th>\n",
       "    </tr>\n",
       "  </thead>\n",
       "  <tbody>\n",
       "    <tr>\n",
       "      <td>2019-12-31 22:00:04-05:00</td>\n",
       "      <td>2019-12-31 22:00:04-05:00</td>\n",
       "      <td>人还很少 #NYE2020 – at Prospect Park</td>\n",
       "      <td>Tuesday</td>\n",
       "      <td>22</td>\n",
       "    </tr>\n",
       "    <tr>\n",
       "      <td>2019-12-31 23:00:44-05:00</td>\n",
       "      <td>2019-12-31 23:00:44-05:00</td>\n",
       "      <td>Baby 出现了，家庭友好的新年庆祝 #NYE2020 #brooklyn #NYC – a...</td>\n",
       "      <td>Tuesday</td>\n",
       "      <td>23</td>\n",
       "    </tr>\n",
       "    <tr>\n",
       "      <td>2019-12-31 23:51:00-05:00</td>\n",
       "      <td>2019-12-31 23:51:00-05:00</td>\n",
       "      <td>\"New Year in Space\" Illo for the Washington Po...</td>\n",
       "      <td>Tuesday</td>\n",
       "      <td>23</td>\n",
       "    </tr>\n",
       "    <tr>\n",
       "      <td>2019-12-31 23:52:13-05:00</td>\n",
       "      <td>2019-12-31 23:52:13-05:00</td>\n",
       "      <td>\"New Year Countdown\" Illo for NEW YORK PRESS D...</td>\n",
       "      <td>Tuesday</td>\n",
       "      <td>23</td>\n",
       "    </tr>\n",
       "    <tr>\n",
       "      <td>2020-01-01 00:11:44-05:00</td>\n",
       "      <td>2020-01-01 00:11:44-05:00</td>\n",
       "      <td>2019 再见，2020 新的十年开始。19年还是不错，追求不多所以收获也没多少，只是简单的...</td>\n",
       "      <td>Wednesday</td>\n",
       "      <td>0</td>\n",
       "    </tr>\n",
       "  </tbody>\n",
       "</table>\n",
       "</div>"
      ],
      "text/plain": [
       "                                               date  \\\n",
       "date                                                  \n",
       "2019-12-31 22:00:04-05:00 2019-12-31 22:00:04-05:00   \n",
       "2019-12-31 23:00:44-05:00 2019-12-31 23:00:44-05:00   \n",
       "2019-12-31 23:51:00-05:00 2019-12-31 23:51:00-05:00   \n",
       "2019-12-31 23:52:13-05:00 2019-12-31 23:52:13-05:00   \n",
       "2020-01-01 00:11:44-05:00 2020-01-01 00:11:44-05:00   \n",
       "\n",
       "                                                                        text  \\\n",
       "date                                                                           \n",
       "2019-12-31 22:00:04-05:00                   人还很少 #NYE2020 – at Prospect Park   \n",
       "2019-12-31 23:00:44-05:00  Baby 出现了，家庭友好的新年庆祝 #NYE2020 #brooklyn #NYC – a...   \n",
       "2019-12-31 23:51:00-05:00  \"New Year in Space\" Illo for the Washington Po...   \n",
       "2019-12-31 23:52:13-05:00  \"New Year Countdown\" Illo for NEW YORK PRESS D...   \n",
       "2020-01-01 00:11:44-05:00  2019 再见，2020 新的十年开始。19年还是不错，追求不多所以收获也没多少，只是简单的...   \n",
       "\n",
       "                          day_of_week  hour  \n",
       "date                                         \n",
       "2019-12-31 22:00:04-05:00     Tuesday    22  \n",
       "2019-12-31 23:00:44-05:00     Tuesday    23  \n",
       "2019-12-31 23:51:00-05:00     Tuesday    23  \n",
       "2019-12-31 23:52:13-05:00     Tuesday    23  \n",
       "2020-01-01 00:11:44-05:00   Wednesday     0  "
      ]
     },
     "execution_count": 3,
     "metadata": {},
     "output_type": "execute_result"
    }
   ],
   "source": [
    "df.head()"
   ]
  },
  {
   "cell_type": "code",
   "execution_count": 4,
   "metadata": {},
   "outputs": [],
   "source": [
    "daily_counts = df.text.resample('d').count()"
   ]
  },
  {
   "cell_type": "code",
   "execution_count": 5,
   "metadata": {},
   "outputs": [
    {
     "data": {
      "text/plain": [
       "date\n",
       "2019-12-31 00:00:00-05:00     4\n",
       "2020-01-01 00:00:00-05:00    14\n",
       "2020-01-02 00:00:00-05:00     6\n",
       "2020-01-03 00:00:00-05:00     5\n",
       "2020-01-04 00:00:00-05:00     8\n",
       "Freq: D, Name: text, dtype: int64"
      ]
     },
     "execution_count": 5,
     "metadata": {},
     "output_type": "execute_result"
    }
   ],
   "source": [
    "daily_counts.head()"
   ]
  },
  {
   "cell_type": "code",
   "execution_count": 6,
   "metadata": {},
   "outputs": [],
   "source": [
    "import pytz\n",
    "from pytz import timezone\n",
    "est = pytz.timezone('US/Eastern')\n",
    "today = dt.datetime.now(est)\n",
    "start= min(df.date)\n",
    "ticks = pd.date_range(start=start,end=today, freq = 'W')"
   ]
  },
  {
   "cell_type": "code",
   "execution_count": 7,
   "metadata": {},
   "outputs": [
    {
     "data": {
      "text/plain": [
       "Timestamp('2019-12-31 22:00:04-0500', tz='US/Eastern')"
      ]
     },
     "execution_count": 7,
     "metadata": {},
     "output_type": "execute_result"
    }
   ],
   "source": [
    "min(df.date)"
   ]
  },
  {
   "cell_type": "code",
   "execution_count": 8,
   "metadata": {
    "scrolled": true
   },
   "outputs": [
    {
     "name": "stderr",
     "output_type": "stream",
     "text": [
      "/home/eric/anaconda3/lib/python3.7/site-packages/pandas/plotting/_matplotlib/converter.py:103: FutureWarning: Using an implicitly registered datetime converter for a matplotlib plotting method. The converter was registered by pandas on import. Future versions of pandas will require you to explicitly register matplotlib converters.\n",
      "\n",
      "To register the converters:\n",
      "\t>>> from pandas.plotting import register_matplotlib_converters\n",
      "\t>>> register_matplotlib_converters()\n",
      "  warnings.warn(msg, FutureWarning)\n"
     ]
    },
    {
     "data": {
      "text/plain": [
       "<Figure size 3000x500 with 1 Axes>"
      ]
     },
     "metadata": {},
     "output_type": "display_data"
    }
   ],
   "source": [
    "import matplotlib.pyplot as plt\n",
    "plt.style.use(\"ggplot\")\n",
    "plt.figure(figsize=(30,5))\n",
    "plt.plot(daily_counts)\n",
    "plt.xticks(ticks=ticks,rotation=90)\n",
    "plt.title(\"Number of Tweets by Day\")\n",
    "plt.xlabel(\"date\")\n",
    "plt.ylabel(\"number of tweets\")\n",
    "plt.savefig(\"tweetcount.png\", dpi=300, bbox_inches='tight')\n",
    "plt.show()"
   ]
  },
  {
   "cell_type": "code",
   "execution_count": 9,
   "metadata": {},
   "outputs": [
    {
     "data": {
      "text/plain": [
       "Timestamp('2020-03-23 00:00:00-0400', tz='US/Eastern')"
      ]
     },
     "execution_count": 9,
     "metadata": {},
     "output_type": "execute_result"
    }
   ],
   "source": [
    "import pytz\n",
    "est = timezone('US/Eastern')\n",
    "crisis_startdate = est.localize(pd.to_datetime(\"2020-03-23 00:00:00\"))\n",
    "crisis_startdate"
   ]
  },
  {
   "cell_type": "code",
   "execution_count": 10,
   "metadata": {},
   "outputs": [
    {
     "data": {
      "text/plain": [
       "206"
      ]
     },
     "execution_count": 10,
     "metadata": {},
     "output_type": "execute_result"
    }
   ],
   "source": [
    "len(df[df.date >= crisis_startdate])"
   ]
  },
  {
   "cell_type": "code",
   "execution_count": 11,
   "metadata": {},
   "outputs": [],
   "source": [
    "df_corona = df[df.date >= crisis_startdate]"
   ]
  },
  {
   "cell_type": "code",
   "execution_count": 12,
   "metadata": {},
   "outputs": [],
   "source": [
    "df_corona.to_pickle(\"./df_corona.pkl\")"
   ]
  },
  {
   "cell_type": "code",
   "execution_count": 13,
   "metadata": {},
   "outputs": [
    {
     "name": "stdout",
     "output_type": "stream",
     "text": [
      "196 : 2020-04-07 21:20:43-04:00 : Hal Willner’s Doc Pomus Project @briccelebratebk 7/27/07 with Lou Reed, Laurie Anderson, Sharon Jones, Ben E. King, Eric Mingus http://et.al. The Hal Willner tribute should be one to remember. #covidnyc #halwillner @… https://www.instagram.com/p/B-s4PFwAvur/?igshid=f2vnyyvs2nsg\n",
      "197 : 2020-04-07 22:12:05-04:00 : Alice Hellman, (American, 2006-present) \"autoritratto senza titolo,\" 2020. @Park Slope Historic District https://www.instagram.com/p/B-s-HfHjmCn/?igshid=1kua4uccqmvs8\n",
      "198 : 2020-04-08 09:42:59-04:00 : Hello from the colonies. #blessedbethefruit @MonaChalabi we had to act out the 6 ft tool. #COVIDー19 #Queerantine #nyccoronavirus #nycparks #coronavirus #CoronavirusPandemic #BROOKLYN – at Prospect Park\n",
      "199 : 2020-04-08 10:14:51-04:00 : Tree tops on the N side of the Vale in @prospect_park is ALIVE w warbling activity, those of you with better binoculars should have luck there. Our feathered friends are singing w extra vigor w colors looking brilliant! Eastern Towhee, Northern Flicker, and so many Oven birds. – at Vale of Cashmere\n",
      "200 : 2020-04-08 15:41:06-04:00 : La vita e bella – at Prospect Park Boathouse &amp; Audubon Center\n",
      "201 : 2020-04-08 15:45:05-04:00 : Meanwhile, in Prospect Park, turtles congregate. – at Prospect Park Boathouse &amp; Audubon Center\n",
      "202 : 2020-04-08 15:53:32-04:00 : There is a wise #publichealth reason why NYC parks are still open for all solo activities amidst #coronavirus. All New Yorkers are #publicspace experts, why mindful #placemaking works so well. #activeliving #healthcare – at Prospect Park Loop\n",
      "203 : 2020-04-08 18:11:31-04:00 :  Want to read the first 50 pages of A GOOD MARRIAGE right now? A link to the first 50 pages will be in my newsletter THIS Friday. Sign up between now and 1 pm Friday to get them right to your inbox. Plus, you’ll… https://www.instagram.com/p/B-vHYTcA3lG/?igshid=qbt41y1smf70\n",
      "204 : 2020-04-08 19:15:45-04:00 : So glad to have this park during this pandemic. It doesn’t get much more socially distant than this. @Prospect Park https://www.instagram.com/p/B-vOu24j5Mt/?igshid=k1utwmjr25cv\n",
      "205 : 2020-04-08 19:20:19-04:00 : “Happiness is letting go of what you think your life is supposed to look like and celebrate it for everything that it is.”. #eveningwalk #thenewnormal #socialdistancing #prospectpark… https://www.instagram.com/p/B-vPQATpRCysKadg8IumHOxTKgom845k62fQoA0/?igshid=1bejg5cjwu7dw\n"
     ]
    }
   ],
   "source": [
    "for i in range(len(df_corona)-10,len(df_corona)):\n",
    "    print(i, ':', df_corona.iloc[i].date, ':', df_corona.iloc[i].text)"
   ]
  },
  {
   "cell_type": "code",
   "execution_count": 14,
   "metadata": {},
   "outputs": [],
   "source": [
    "import re\n",
    "distancing = []\n",
    "for i in range(0,len(df_corona)):\n",
    "    if re.match('.*(distancing)|(packed)|(crowd)|(busy)|(full)|(empty)|(quarantine).*',df_corona.iloc[i].text):\n",
    "        distancing.append(1)"
   ]
  },
  {
   "cell_type": "code",
   "execution_count": 15,
   "metadata": {},
   "outputs": [
    {
     "name": "stdout",
     "output_type": "stream",
     "text": [
      "So far, there have been 16 tweets related to the crowding level in Prospect Park.\n"
     ]
    }
   ],
   "source": [
    "print(\"So far, there have been\",len(distancing),\"tweets related to the crowding level in Prospect Park.\")"
   ]
  },
  {
   "cell_type": "code",
   "execution_count": 16,
   "metadata": {},
   "outputs": [
    {
     "data": {
      "image/png": "[encoded data removed]",
      "text/plain": [
       "<Figure size 432x288 with 1 Axes>"
      ]
     },
     "metadata": {
      "needs_background": "light"
     },
     "output_type": "display_data"
    }
   ],
   "source": [
    "yticks=pd.Series(range(0,20))\n",
    "xticks=pd.Series(range(0,24))\n",
    "\n",
    "plt.hist(df_corona.hour, bins=24, rwidth=0.9)\n",
    "plt.yticks(ticks=yticks)\n",
    "plt.xticks(ticks=xticks)\n",
    "plt.tight_layout()\n",
    "plt.title(\"Number of Tweets by Hour\")\n",
    "plt.xlabel(\"hour\")\n",
    "plt.ylabel(\"number of tweets\")\n",
    "plt.savefig(\"tweethist_hr.png\", dpi=300, bbox_inches='tight')\n",
    "plt.show()"
   ]
  },
  {
   "cell_type": "code",
   "execution_count": 17,
   "metadata": {},
   "outputs": [],
   "source": [
    "# Graph tweet counts by hour, separating out the different days as different lines. \n",
    "\n",
    "days = ['Sunday','Monday','Tuesday','Wednesday','Thursday','Friday','Saturday']\n",
    "counts = {}\n",
    "\n",
    "for day in days:\n",
    "    day_df = df_corona[df_corona.day_of_week == day]\n",
    "    day_count = np.zeros(24).astype('int')\n",
    "    \n",
    "    for i in range(0,24):\n",
    "        day_count[i] = len(day_df[day_df.hour == i])\n",
    "\n",
    "    counts[day] = day_count"
   ]
  },
  {
   "cell_type": "code",
   "execution_count": 18,
   "metadata": {},
   "outputs": [
    {
     "data": {
      "image/png": "[encoded data removed]",
      "text/plain": [
       "<Figure size 432x288 with 1 Axes>"
      ]
     },
     "metadata": {
      "needs_background": "light"
     },
     "output_type": "display_data"
    }
   ],
   "source": [
    "for day in days:\n",
    "    plt.plot(counts[day],alpha=0.8)\n",
    "    \n",
    "plt.legend(days, loc='upper center')\n",
    "\n",
    "# yticks=pd.Series(range(0,20))\n",
    "xticks=pd.Series(range(0,24))\n",
    "plt.xticks(ticks=xticks,rotation=45)\n",
    "plt.xlabel(\"hour\")\n",
    "plt.ylabel(\"number of tweets\")\n",
    "plt.title(\"Number of Tweets by Hour\")       \n",
    "plt.savefig(\"tweets_by_hr_day.png\", dpi=300, bbox_inches='tight')\n",
    "plt.show()"
   ]
  },
  {
   "cell_type": "code",
   "execution_count": 19,
   "metadata": {},
   "outputs": [],
   "source": [
    "## Double check that these hours are correct -- time zone\n",
    "## make a plot with hr on the x and # tweets on y, w line for each day of week"
   ]
  },
  {
   "cell_type": "code",
   "execution_count": 20,
   "metadata": {},
   "outputs": [
    {
     "data": {
      "image/png": "[encoded data removed]",
      "text/plain": [
       "<Figure size 432x288 with 1 Axes>"
      ]
     },
     "metadata": {
      "needs_background": "light"
     },
     "output_type": "display_data"
    }
   ],
   "source": [
    "df_corona['day_of_week'].value_counts().plot(kind='bar')\n",
    "plt.title(\"Number of Tweets by Day of the Week\")\n",
    "plt.xlabel(\"day\")\n",
    "plt.ylabel(\"number of tweets\")\n",
    "plt.savefig(\"tweethist_day.png\", dpi=300, bbox_inches='tight')\n",
    "plt.show()"
   ]
  },
  {
   "cell_type": "code",
   "execution_count": 21,
   "metadata": {},
   "outputs": [],
   "source": [
    "# Reload for new session\n",
    "df = pd.read_pickle(\"./df_corona.pkl\")"
   ]
  }
 ],
 "metadata": {
  "kernelspec": {
   "display_name": "Python 3",
   "language": "python",
   "name": "python3"
  },
  "language_info": {
   "codemirror_mode": {
    "name": "ipython",
    "version": 3
   },
   "file_extension": ".py",
   "mimetype": "text/x-python",
   "name": "python",
   "nbconvert_exporter": "python",
   "pygments_lexer": "ipython3",
   "version": "3.7.4"
  }
 },
 "nbformat": 4,
 "nbformat_minor": 2
}
