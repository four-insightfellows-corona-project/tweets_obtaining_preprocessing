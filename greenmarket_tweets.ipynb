{
 "cells": [
  {
   "cell_type": "code",
   "execution_count": 14,
   "metadata": {},
   "outputs": [],
   "source": [
    "import GetOldTweets3 as got\n",
    "import datetime as dt\n",
    "import numpy as np\n",
    "import pandas as pd"
   ]
  },
  {
   "cell_type": "code",
   "execution_count": 4,
   "metadata": {},
   "outputs": [],
   "source": [
    "today = dt.datetime.now().strftime(\"%Y-%m-%d\")"
   ]
  },
  {
   "cell_type": "code",
   "execution_count": 6,
   "metadata": {},
   "outputs": [],
   "source": [
    "criteria = got.manager.TweetCriteria().setSince(\"2020-01-01\")\\\n",
    "                                               .setUntil(today)\\\n",
    "                                               .setNear(\"40.672600,-73.969845\")\\\n",
    "                                               .setWithin(\"0.03831km\")"
   ]
  },
  {
   "cell_type": "code",
   "execution_count": 7,
   "metadata": {},
   "outputs": [],
   "source": [
    "tweets = got.manager.TweetManager.getTweets(criteria)"
   ]
  },
  {
   "cell_type": "code",
   "execution_count": 11,
   "metadata": {},
   "outputs": [],
   "source": [
    "# Build a dataframe out of all of our tweets\n",
    "\n",
    "# We will need to convert the timezone to EST (it is UTC by default)\n",
    "import pytz\n",
    "est = pytz.timezone('US/Eastern')\n",
    "\n",
    "# Initialize empty columns\n",
    "dates = []\n",
    "locations = []\n",
    "texts = []\n",
    "\n",
    "for j in range(0,len(tweets)):\n",
    "    dates.append(tweets[j].date.astimezone(tz= est))\n",
    "    # If we want dates to be more human parseable, add: .strftime(\"%Y-%m-%d %H:%M:%S\")\n",
    "    locations.append(tweets[j].geo)\n",
    "    texts.append(tweets[j].text)"
   ]
  },
  {
   "cell_type": "code",
   "execution_count": 15,
   "metadata": {},
   "outputs": [],
   "source": [
    "# Build a dataframe out of all of our tweets: df\n",
    "data = {'date':dates, 'location':locations, 'text':texts}\n",
    "df = pd.DataFrame(data=data)\n",
    "df.date = pd.to_datetime(df.date)\n",
    "\n",
    "# Save what we have so far before we do anything to it\n",
    "df.to_pickle(path=\"./greenmarket_tweets_raw.pkl\")\n",
    "\n",
    "# Sort the data by time, but leave date as a column for easy manipulation\n",
    "df = df.set_index('date',drop=False)\n",
    "df = df.sort_index()\n",
    "\n",
    "# Create a column for day of the week\n",
    "df['day_of_week'] = df.date.dt.day_name()\n",
    "\n",
    "# Create a column for the hour\n",
    "df['hour'] = df.date.dt.hour"
   ]
  },
  {
   "cell_type": "code",
   "execution_count": 20,
   "metadata": {},
   "outputs": [
    {
     "data": {
      "text/html": [
       "<div>\n",
       "<style scoped>\n",
       "    .dataframe tbody tr th:only-of-type {\n",
       "        vertical-align: middle;\n",
       "    }\n",
       "\n",
       "    .dataframe tbody tr th {\n",
       "        vertical-align: top;\n",
       "    }\n",
       "\n",
       "    .dataframe thead th {\n",
       "        text-align: right;\n",
       "    }\n",
       "</style>\n",
       "<table border=\"1\" class=\"dataframe\">\n",
       "  <thead>\n",
       "    <tr style=\"text-align: right;\">\n",
       "      <th></th>\n",
       "      <th>date</th>\n",
       "      <th>location</th>\n",
       "      <th>text</th>\n",
       "      <th>day_of_week</th>\n",
       "      <th>hour</th>\n",
       "    </tr>\n",
       "    <tr>\n",
       "      <th>date</th>\n",
       "      <th></th>\n",
       "      <th></th>\n",
       "      <th></th>\n",
       "      <th></th>\n",
       "      <th></th>\n",
       "    </tr>\n",
       "  </thead>\n",
       "  <tbody>\n",
       "    <tr>\n",
       "      <td>2019-12-31 23:39:12-05:00</td>\n",
       "      <td>2019-12-31 23:39:12-05:00</td>\n",
       "      <td></td>\n",
       "      <td>Flirty Leo &amp; Aquarius – at Grand Army Plaza Gr...</td>\n",
       "      <td>Tuesday</td>\n",
       "      <td>23</td>\n",
       "    </tr>\n",
       "    <tr>\n",
       "      <td>2020-01-04 11:37:52-05:00</td>\n",
       "      <td>2020-01-04 11:37:52-05:00</td>\n",
       "      <td></td>\n",
       "      <td>⁦@PeteButtigieg⁩ let’s get in the ballot! – at...</td>\n",
       "      <td>Saturday</td>\n",
       "      <td>11</td>\n",
       "    </tr>\n",
       "    <tr>\n",
       "      <td>2020-01-04 11:58:04-05:00</td>\n",
       "      <td>2020-01-04 11:58:04-05:00</td>\n",
       "      <td></td>\n",
       "      <td>We’re collecting signatures to get Pete on the...</td>\n",
       "      <td>Saturday</td>\n",
       "      <td>11</td>\n",
       "    </tr>\n",
       "    <tr>\n",
       "      <td>2020-01-10 16:36:41-05:00</td>\n",
       "      <td>2020-01-10 16:36:41-05:00</td>\n",
       "      <td></td>\n",
       "      <td>Incident on #2Line NB from Franklin Avenue Sta...</td>\n",
       "      <td>Friday</td>\n",
       "      <td>16</td>\n",
       "    </tr>\n",
       "    <tr>\n",
       "      <td>2020-01-10 16:36:42-05:00</td>\n",
       "      <td>2020-01-10 16:36:42-05:00</td>\n",
       "      <td></td>\n",
       "      <td>Incident on #3Line from Franklin Avenue Statio...</td>\n",
       "      <td>Friday</td>\n",
       "      <td>16</td>\n",
       "    </tr>\n",
       "  </tbody>\n",
       "</table>\n",
       "</div>"
      ],
      "text/plain": [
       "                                               date location  \\\n",
       "date                                                           \n",
       "2019-12-31 23:39:12-05:00 2019-12-31 23:39:12-05:00            \n",
       "2020-01-04 11:37:52-05:00 2020-01-04 11:37:52-05:00            \n",
       "2020-01-04 11:58:04-05:00 2020-01-04 11:58:04-05:00            \n",
       "2020-01-10 16:36:41-05:00 2020-01-10 16:36:41-05:00            \n",
       "2020-01-10 16:36:42-05:00 2020-01-10 16:36:42-05:00            \n",
       "\n",
       "                                                                        text  \\\n",
       "date                                                                           \n",
       "2019-12-31 23:39:12-05:00  Flirty Leo & Aquarius – at Grand Army Plaza Gr...   \n",
       "2020-01-04 11:37:52-05:00  ⁦@PeteButtigieg⁩ let’s get in the ballot! – at...   \n",
       "2020-01-04 11:58:04-05:00  We’re collecting signatures to get Pete on the...   \n",
       "2020-01-10 16:36:41-05:00  Incident on #2Line NB from Franklin Avenue Sta...   \n",
       "2020-01-10 16:36:42-05:00  Incident on #3Line from Franklin Avenue Statio...   \n",
       "\n",
       "                          day_of_week  hour  \n",
       "date                                         \n",
       "2019-12-31 23:39:12-05:00     Tuesday    23  \n",
       "2020-01-04 11:37:52-05:00    Saturday    11  \n",
       "2020-01-04 11:58:04-05:00    Saturday    11  \n",
       "2020-01-10 16:36:41-05:00      Friday    16  \n",
       "2020-01-10 16:36:42-05:00      Friday    16  "
      ]
     },
     "execution_count": 20,
     "metadata": {},
     "output_type": "execute_result"
    }
   ],
   "source": [
    "df.head()"
   ]
  },
  {
   "cell_type": "code",
   "execution_count": 22,
   "metadata": {},
   "outputs": [
    {
     "data": {
      "text/plain": [
       "Timestamp('2020-03-23 00:00:00-0400', tz='US/Eastern')"
      ]
     },
     "execution_count": 22,
     "metadata": {},
     "output_type": "execute_result"
    }
   ],
   "source": [
    "import pytz\n",
    "from pytz import timezone\n",
    "est = pytz.timezone('US/Eastern')\n",
    "today = dt.datetime.now(est)\n",
    "crisis_startdate = est.localize(pd.to_datetime(\"2020-03-23 00:00:00\"))\n",
    "crisis_startdate"
   ]
  },
  {
   "cell_type": "code",
   "execution_count": 23,
   "metadata": {},
   "outputs": [],
   "source": [
    "green_corona = df[df.date >= crisis_startdate]"
   ]
  },
  {
   "cell_type": "code",
   "execution_count": 29,
   "metadata": {},
   "outputs": [
    {
     "name": "stdout",
     "output_type": "stream",
     "text": [
      "0 : standing on my first bourgeois bread line (@Grand Army Plaza Greenmarket - @gapgreenmarket in Brooklyn, NY)\n",
      "1 : If you’re in NYC & thinking about going to your local @GrowNYC farmers market, they are social distancing and the queues move fairly fast. I just picked up kimchi, some herb plants, a gorgeous golden cabbage &amp; several other veg. We can still eat healthy while staying home! – at Grand Army Plaza Greenmarket\n",
      "2 : I was out for about an hour today. I went to the Grand Army Plaza greenmarket, which was well-organized, orderly. @GrowNYC I appreciated that. Also saw lots of runners; not a single one wore a mask. Shouldn’t they wear them too? Only a few cyclists had them on. #OneNewYork – at Grand Army Plaza Greenmarket\n",
      "3 : Distracted pedestrian, probably – at Grand Army Plaza Greenmarket\n"
     ]
    }
   ],
   "source": [
    "for i in range(0,len(green_corona)):\n",
    "    print(i, ':', green_corona.iloc[i].text)"
   ]
  }
 ],
 "metadata": {
  "kernelspec": {
   "display_name": "Python 3",
   "language": "python",
   "name": "python3"
  },
  "language_info": {
   "codemirror_mode": {
    "name": "ipython",
    "version": 3
   },
   "file_extension": ".py",
   "mimetype": "text/x-python",
   "name": "python",
   "nbconvert_exporter": "python",
   "pygments_lexer": "ipython3",
   "version": "3.7.4"
  }
 },
 "nbformat": 4,
 "nbformat_minor": 2
}
